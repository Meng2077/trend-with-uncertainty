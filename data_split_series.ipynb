{
 "cells": [
  {
   "cell_type": "markdown",
   "id": "83dd8ddb-9ce4-4e15-a6af-43657eefa4e4",
   "metadata": {},
   "source": [
    "## read in data"
   ]
  },
  {
   "cell_type": "code",
   "execution_count": 1,
   "id": "fd62ac69-a620-4e72-a638-d5644f5102bd",
   "metadata": {
    "tags": []
   },
   "outputs": [
    {
     "name": "stdout",
     "output_type": "stream",
     "text": [
      "original (10204, 2298)\n"
     ]
    }
   ],
   "source": [
    "# data\n",
    "import pandas as pd\n",
    "import numpy as np\n",
    "df = pd.read_parquet('./material/soc.snr.series_overlaid_v20250301.pq')\n",
    "print('original', df.shape)"
   ]
  },
  {
   "cell_type": "code",
   "execution_count": 2,
   "id": "2e01a8ad-2234-496e-aef6-9762ba597696",
   "metadata": {
    "tags": []
   },
   "outputs": [],
   "source": [
    "crop_col = []\n",
    "for ii in df.columns:\n",
    "    if 'cropland' in ii:\n",
    "        df.loc[df[ii].isna(),ii] = 0\n",
    "        df.loc[df[ii]>0,ii] = 100\n",
    "        crop_col.append(ii)"
   ]
  },
  {
   "cell_type": "code",
   "execution_count": 3,
   "id": "9cf6d9c0-c209-4732-aeca-7a0e955b84e7",
   "metadata": {
    "tags": []
   },
   "outputs": [
    {
     "name": "stdout",
     "output_type": "stream",
     "text": [
      "(10204, 2154)\n"
     ]
    }
   ],
   "source": [
    "drop_col = []\n",
    "for ii in df.columns:\n",
    "    if 'evi' in ii:\n",
    "        drop_col.append(ii)\n",
    "    # if 'nos' in ii:\n",
    "    #     drop_col.append(ii)\n",
    "    # if 'cdr' in ii:\n",
    "    #     drop_col.append(ii)\n",
    "    # if 'backscatter' in ii:\n",
    "    #     drop_col.append(ii)\n",
    "    # if 'palsar' in ii:\n",
    "    #     drop_col.append(ii)\n",
    "        \n",
    "df = df.drop(columns=drop_col)\n",
    "print(df.shape)"
   ]
  },
  {
   "cell_type": "code",
   "execution_count": 4,
   "id": "0a49d2fe-dd8b-497e-9997-3b31ad78ea08",
   "metadata": {
    "tags": []
   },
   "outputs": [
    {
     "name": "stdout",
     "output_type": "stream",
     "text": [
      "CHELSA_swe_1981-2010_V.2.1 5701\n",
      "palsar_hh_2015_eu 210\n",
      "palsar_hv_2015_eu 192\n",
      "b11_soilsuite_m_30m_s_20180101_20221231_eu_epsg.3035_v20250307 5912\n",
      "b12_soilsuite_m_30m_s_20180101_20221231_eu_epsg.3035_v20250307 5912\n",
      "b2_soilsuite_m_30m_s_20180101_20221231_eu_epsg.3035_v20250307 5912\n",
      "b3_soilsuite_m_30m_s_20180101_20221231_eu_epsg.3035_v20250307 5912\n",
      "b4_soilsuite_m_30m_s_20180101_20221231_eu_epsg.3035_v20250307 5912\n",
      "b5_soilsuite_m_30m_s_20180101_20221231_eu_epsg.3035_v20250307 5912\n",
      "b6_soilsuite_m_30m_s_20180101_20221231_eu_epsg.3035_v20250307 5912\n",
      "b7_soilsuite_m_30m_s_20180101_20221231_eu_epsg.3035_v20250307 5912\n",
      "b8_soilsuite_m_30m_s_20180101_20221231_eu_epsg.3035_v20250307 5912\n",
      "b8a_soilsuite_m_30m_s_20180101_20221231_eu_epsg.3035_v20250307 5912\n"
     ]
    }
   ],
   "source": [
    "with open('./material/static_covar.txt', 'r') as file:\n",
    "    sta = file.readlines()\n",
    "    \n",
    "sta = [ii.strip().split('/')[-1][0:-4] for ii in sta]\n",
    "\n",
    "# static columns\n",
    "scol = []\n",
    "for ii in sta:\n",
    "    if '{perc}' in ii:\n",
    "        if 'glad' in ii:\n",
    "            for perc in ['p25','p50','p75']:\n",
    "                scol.append(ii.replace('{perc}',perc))\n",
    "        elif 'moisture' in ii:\n",
    "            for perc in ['p0.05','p0.5','p0.95']:\n",
    "                scol.append(ii.replace('{perc}',perc))\n",
    "        elif 'CHELSA' in ii:\n",
    "            for perc in ['min','max','range','mean']:\n",
    "                scol.append(ii.replace('{perc}',perc))\n",
    "    else:\n",
    "        scol.append(ii)\n",
    "        \n",
    "# temporal columns        \n",
    "tcol = []\n",
    "for ii in df.columns[29:]:\n",
    "    if ii not in scol:\n",
    "        if ii not in ['lon', 'lat', 'start_idx', 'end_idx']:\n",
    "            tcol.append(ii)\n",
    "            \n",
    "for ii in tcol+scol:\n",
    "    m = df[ii].isna().sum()\n",
    "    if m > 50:\n",
    "        print(ii,m)\n"
   ]
  },
  {
   "cell_type": "markdown",
   "id": "3867f91c-0094-4b24-981b-65bfcfefb450",
   "metadata": {},
   "source": [
    "## feature engineer to reflect temporal process"
   ]
  },
  {
   "cell_type": "code",
   "execution_count": 5,
   "id": "c31acf56-2a63-48ed-b8a9-374279620687",
   "metadata": {
    "scrolled": true,
    "tags": []
   },
   "outputs": [],
   "source": [
    "from skmap.misc import find_files, GoogleSheet, ttprint\n",
    "from scipy.stats import linregress\n",
    "import warnings\n",
    "warnings.filterwarnings(\"ignore\")\n",
    "\n",
    "def extract_time_series_features(ts):\n",
    "    ts = np.array(ts)\n",
    "    time = np.arange(len(ts))\n",
    "    \n",
    "    mean_val = np.mean(ts)\n",
    "    std_val = np.std(ts)\n",
    "    slope, _, _, _, _ = linregress(time, ts)\n",
    "    autocorr_lag1 = np.corrcoef(ts[:-1], ts[1:])[0, 1] if len(ts) > 1 else np.nan\n",
    "    \n",
    "    return mean_val, std_val, slope, autocorr_lag1\n",
    "\n",
    "df['start_idx'] = df['time_series'].apply(lambda x: int(x[0]) - 2000)\n",
    "df['end_idx'] = df['time_series'].apply(lambda x: int(x[-1]) - 2000 + 1)\n",
    "\n"
   ]
  },
  {
   "cell_type": "code",
   "execution_count": 6,
   "id": "5920f942-ce30-4233-8867-f48d90d5a642",
   "metadata": {
    "tags": []
   },
   "outputs": [
    {
     "name": "stdout",
     "output_type": "stream",
     "text": [
      "[11:32:59] start\n",
      "[11:49:43] finish\n"
     ]
    }
   ],
   "source": [
    "ttcol = [ii for ii in tcol if '_2000' in ii]\n",
    "ttprint('start')\n",
    "for it in ttcol:\n",
    "    extract_cols = [it.replace('_2000', f'_{ival}') for ival in np.arange(2000,2024,1)]\n",
    "        \n",
    "    extract_cols = [col for col in extract_cols if col in df.columns]\n",
    "\n",
    "    df['ts'] = df[extract_cols].apply(lambda x: x.values.astype(float).tolist(), axis=1)\n",
    "\n",
    "    # Now slice the time series into pre and during, row-wise\n",
    "    df['pre_ts'] = df.apply(lambda row: row['ts'][:row['start_idx']], axis=1)\n",
    "    df['during_ts'] = df.apply(lambda row: row['ts'][row['start_idx']:row['end_idx']], axis=1)\n",
    "    df['full_ts'] = df.apply(lambda row: row['ts'][:row['end_idx']], axis=1)\n",
    "\n",
    "    # Feature extraction using apply\n",
    "    df[[f'{it}_pre_mean', f'{it}_pre_std', f'{it}_pre_slope', f'{it}_pre_lag1']] = df['pre_ts'].apply(\n",
    "        lambda x: pd.Series(extract_time_series_features(x))\n",
    "    )\n",
    "\n",
    "    df[[f'{it}_during_mean', f'{it}_during_std', f'{it}_during_slope', f'{it}_during_lag1']] = df['during_ts'].apply(\n",
    "        lambda x: pd.Series(extract_time_series_features(x))\n",
    "    )\n",
    "\n",
    "    df[[f'{it}_full_mean', f'{it}_full_std', f'{it}_full_slope', f'{it}_full_lag1']] = df['full_ts'].apply(\n",
    "        lambda x: pd.Series(extract_time_series_features(x))\n",
    "    )\n",
    "\n",
    "    df.drop(columns=extract_cols + ['pre_ts', 'during_ts', 'full_ts', 'ts'], inplace=True)\n",
    "\n",
    "ttprint('finish')\n",
    "\n",
    "df = df.drop(columns=['start_idx','end_idx'])\n",
    "print(df.shape)\n",
    "df.to_parquet('./material/series_feature.engineered.pq')"
   ]
  },
  {
   "cell_type": "markdown",
   "id": "d0740fca-e720-435a-aecc-ca3d3ff0029f",
   "metadata": {},
   "source": [
    "## mend missing files"
   ]
  },
  {
   "cell_type": "code",
   "execution_count": 1,
   "id": "a84a8be0-9f99-473f-a033-db3c94e59f45",
   "metadata": {
    "tags": []
   },
   "outputs": [],
   "source": [
    "import pandas as pd\n",
    "df = pd.read_parquet('./material/series_feature.engineered.pq')\n",
    "acol = df.columns[29:].values.tolist()\n",
    "acol.remove('lat')\n",
    "acol.remove('lon')"
   ]
  },
  {
   "cell_type": "code",
   "execution_count": 2,
   "id": "20bb4881-e4ba-407e-9788-daabce977ae3",
   "metadata": {
    "tags": []
   },
   "outputs": [
    {
     "name": "stdout",
     "output_type": "stream",
     "text": [
      "(10204, 1254)\n",
      "(10204, 1155)\n",
      "(10204, 1016)\n"
     ]
    }
   ],
   "source": [
    "# drop all cols with invalid value > 50\n",
    "drop_col = []\n",
    "for ii in acol:\n",
    "    m = df[ii].isna().sum()\n",
    "    if m > 50:\n",
    "        drop_col.append(ii)\n",
    "        \n",
    "print(df.shape)\n",
    "df = df.drop(columns=drop_col)\n",
    "print(df.shape)\n",
    "\n",
    "# drop all lag columsn\n",
    "drop_col = [ii for ii in df.columns if '_lag1' in ii]\n",
    "df = df.drop(columns=drop_col)\n",
    "print(df.shape)"
   ]
  },
  {
   "cell_type": "code",
   "execution_count": 3,
   "id": "e6d0d5da-a182-4f11-9988-700b33eb7b01",
   "metadata": {
    "tags": []
   },
   "outputs": [
    {
     "name": "stdout",
     "output_type": "stream",
     "text": [
      "(10058, 1016)\n"
     ]
    }
   ],
   "source": [
    "# check other columns with missing values\n",
    "drop_col = []\n",
    "acol = df.columns[29:].values.tolist()\n",
    "acol.remove('lat')\n",
    "acol.remove('lon')\n",
    "\n",
    "for ii in acol:\n",
    "    m = df[ii].isna().sum()\n",
    "    if m > 0:\n",
    "        # print(ii, m)\n",
    "        drop_col.append(ii)\n",
    "        \n",
    "df = df.dropna(subset=acol,how='any')\n",
    "print(df.shape)"
   ]
  },
  {
   "cell_type": "markdown",
   "id": "64f1bd31-cbe7-4670-8c9a-df86b52044b3",
   "metadata": {},
   "source": [
    "## assign tile id"
   ]
  },
  {
   "cell_type": "code",
   "execution_count": 4,
   "id": "acaa5e09-e9c1-4855-9235-39227759c830",
   "metadata": {
    "tags": []
   },
   "outputs": [
    {
     "name": "stderr",
     "output_type": "stream",
     "text": [
      "ERROR 1: PROJ: proj_create_from_database: Open of /opt/conda/share/proj failed\n",
      "/opt/conda/lib/python3.8/site-packages/IPython/core/interactiveshell.py:3448: FutureWarning: The `op` parameter is deprecated and will be removed in a future release. Please use the `predicate` parameter instead.\n",
      "  if await self.run_code(code, result, async_=asy):\n"
     ]
    },
    {
     "name": "stdout",
     "output_type": "stream",
     "text": [
      "(10058, 1017)\n"
     ]
    }
   ],
   "source": [
    "import os\n",
    "os.environ['USE_PYGEOS'] = '0'\n",
    "import geopandas as gpd\n",
    "eu_tile = gpd.read_file('/home/xuemeng/work_xuemeng/soc/data/000_tiles.correct_epsg.3035.gpkg')\n",
    "gdf = gpd.GeoDataFrame(df, geometry=gpd.points_from_xy(df.lon, df.lat))\n",
    "gdf.crs = 'EPSG:4326'\n",
    "gdf = gdf.to_crs(eu_tile.crs)\n",
    "\n",
    "joined_gdf = gpd.sjoin(gdf, eu_tile, how=\"left\", op='within')\n",
    "joined_gdf = joined_gdf.drop(columns=['geometry','index_right'])\n",
    "joined_gdf = joined_gdf.rename(columns={'id_right':'tile_id','id_left':'id'})\n",
    "df = joined_gdf\n",
    "print(df.shape)"
   ]
  },
  {
   "cell_type": "markdown",
   "id": "e4d0d9f9-4016-4469-8495-8acfa0c3ccf4",
   "metadata": {},
   "source": [
    "## split the train test set"
   ]
  },
  {
   "cell_type": "code",
   "execution_count": 5,
   "id": "68cd8f37-678b-4d14-8132-a1b6b0b1d891",
   "metadata": {},
   "outputs": [
    {
     "name": "stdout",
     "output_type": "stream",
     "text": [
      "1000\n"
     ]
    }
   ],
   "source": [
    "ttid = pd.read_csv('./material/test_temporal_ids_v20250301.txt', header=None)[0].tolist() \n",
    "print(len(ttid))\n",
    "ttid = [str(i) for i in ttid]"
   ]
  },
  {
   "cell_type": "code",
   "execution_count": 6,
   "id": "fb7c8956-bd26-4ca5-ae79-a98a0ca25a35",
   "metadata": {},
   "outputs": [
    {
     "name": "stdout",
     "output_type": "stream",
     "text": [
      "(983, 1017)\n",
      "(1000, 1017)\n",
      "(8075, 1017)\n"
     ]
    }
   ],
   "source": [
    "test = df.loc[df['id'].isin(ttid)]\n",
    "print(test.shape)\n",
    "test.to_parquet('./material/data.series_test_v20250301.pq')\n",
    "other = df.loc[~df['id'].isin(ttid)]\n",
    "cal = other.sample(1000, random_state=42)\n",
    "cal.to_parquet('./material/data.series_cal_v20250301.pq')\n",
    "print(cal.shape)\n",
    "train = other.drop(cal.index)\n",
    "print(train.shape)\n",
    "train.to_parquet('./material/data.series_train_v20250301.pq')"
   ]
  },
  {
   "cell_type": "markdown",
   "id": "b21d994f-53aa-4966-82fb-a22e3ce9bcbe",
   "metadata": {},
   "source": [
    "## check distribution"
   ]
  },
  {
   "cell_type": "code",
   "execution_count": 7,
   "id": "b16c3569-d9e6-4079-8268-272c334d035b",
   "metadata": {},
   "outputs": [
    {
     "data": {
      "image/png": "[encoded data removed]",
      "text/plain": [
       "<Figure size 800x500 with 4 Axes>"
      ]
     },
     "metadata": {},
     "output_type": "display_data"
    }
   ],
   "source": [
    "import matplotlib.pyplot as plt\n",
    "fig, axes = plt.subplots(2, 2, figsize=(8, 5))\n",
    "\n",
    "axes[0, 0].hist(df[\"ts_slope\"], bins=100, alpha=0.7, color=\"blue\", density=True)\n",
    "axes[0, 0].set_title(\"All data\")\n",
    "axes[0, 0].set_xlabel(\"SOC (g/kg/year)\")\n",
    "axes[0, 0].set_ylabel(\"Density\")\n",
    "\n",
    "axes[0, 1].hist(cal[\"ts_slope\"], bins=100, alpha=0.7, color=\"green\", density=True)\n",
    "axes[0, 1].set_title(\"Calibration\")\n",
    "axes[0, 1].set_xlabel(\"SOC (g/kg/year)\")\n",
    "axes[0, 1].set_ylabel(\"Density\")\n",
    "\n",
    "axes[1, 0].hist(train[\"ts_slope\"], bins=100, alpha=0.7, color=\"red\", density=True)\n",
    "axes[1, 0].set_title(\"Train\")\n",
    "axes[1, 0].set_xlabel(\"SOC (g/kg/year)\")\n",
    "axes[1, 0].set_ylabel(\"Density\")\n",
    "\n",
    "axes[1, 1].hist(test[\"ts_slope\"], bins=100, alpha=0.7, color=\"purple\", density=True)\n",
    "axes[1, 1].set_title(\"Test\")\n",
    "axes[1, 1].set_xlabel(\"SOC (g/kg/year)\")\n",
    "axes[1, 1].set_ylabel(\"Density\")\n",
    "\n",
    "plt.tight_layout()\n",
    "plt.show()"
   ]
  },
  {
   "cell_type": "code",
   "execution_count": null,
   "id": "46f6021d-6baf-4386-8351-8ba84dbcf14c",
   "metadata": {},
   "outputs": [],
   "source": []
  }
 ],
 "metadata": {
  "kernelspec": {
   "display_name": "Python 3 (ipykernel)",
   "language": "python",
   "name": "python3"
  },
  "language_info": {
   "codemirror_mode": {
    "name": "ipython",
    "version": 3
   },
   "file_extension": ".py",
   "mimetype": "text/x-python",
   "name": "python",
   "nbconvert_exporter": "python",
   "pygments_lexer": "ipython3",
   "version": "3.8.16"
  }
 },
 "nbformat": 4,
 "nbformat_minor": 5
}
