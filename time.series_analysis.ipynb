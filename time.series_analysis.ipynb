{
 "cells": [
  {
   "cell_type": "markdown",
   "id": "a5a2cc76-096e-489b-8dc7-d0e38c98a8ee",
   "metadata": {},
   "source": [
    "## focus on soc measurements"
   ]
  },
  {
   "cell_type": "code",
   "execution_count": 1,
   "id": "72974f32-5b5f-41e8-ad44-5da6e3a8c3d1",
   "metadata": {
    "tags": []
   },
   "outputs": [
    {
     "name": "stdout",
     "output_type": "stream",
     "text": [
      "(409369, 644)\n"
     ]
    }
   ],
   "source": [
    "import pandas as pd\n",
    "df = pd.read_parquet('./material/soil_organized.pq')\n",
    "print(df.shape)"
   ]
  },
  {
   "cell_type": "code",
   "execution_count": 2,
   "id": "dceadc75-1edb-4a1f-8083-b7b6884b0359",
   "metadata": {
    "tags": []
   },
   "outputs": [
    {
     "name": "stdout",
     "output_type": "stream",
     "text": [
      "(409369, 608)\n"
     ]
    }
   ],
   "source": [
    "drop_col = ['bulk.density.tot_qa', 'bulk.density.tot',\n",
    "'bulk.density.fe_qa', 'bulk.density.fe', 'coarse.mass_qa',\n",
    "'coarse.mass', 'coarse.vol_qa', 'coarse.vol', 'ocd', 'ph.h2o_qa',\n",
    "'ph.h2o', 'sand_qa', 'sand', 'silt_qa', 'silt', 'clay_qa', 'clay',\n",
    "'total.n_qa', 'total.n', 'carbonates_qa', 'carbonates', 'ph.cacl2_qa',\n",
    "'ph.cacl2', 'extractable.p_qa', 'extractable.p', 'extractable.k_qa',\n",
    "'extractable.k', 'ec_qa', 'ec', 'cec_qa', 'cec','tile_id', 'texture1', \n",
    "'texture2', 'texture1_qa', 'texture2_qa']\n",
    "df = df.drop(columns=drop_col)\n",
    "print(df.shape)"
   ]
  },
  {
   "cell_type": "code",
   "execution_count": 3,
   "id": "9deb20ea-7f6e-4bdc-b526-71593d403385",
   "metadata": {
    "tags": []
   },
   "outputs": [
    {
     "name": "stdout",
     "output_type": "stream",
     "text": [
      "(124625, 608)\n"
     ]
    }
   ],
   "source": [
    "df = df.loc[df['soc_qa']>2]\n",
    "print(df.shape)"
   ]
  },
  {
   "cell_type": "code",
   "execution_count": 4,
   "id": "f47c1d06-6c61-45d6-a4ab-9b2112ed81d3",
   "metadata": {
    "tags": []
   },
   "outputs": [
    {
     "name": "stdout",
     "output_type": "stream",
     "text": [
      "(121394, 608)\n"
     ]
    }
   ],
   "source": [
    "df = df.dropna(subset=['soc'],how='any')\n",
    "print(df.shape)"
   ]
  },
  {
   "cell_type": "code",
   "execution_count": 5,
   "id": "6f491d08-1f4e-4ce4-8f6e-6b6b5556b8c1",
   "metadata": {
    "tags": []
   },
   "outputs": [
    {
     "name": "stdout",
     "output_type": "stream",
     "text": [
      "(62578, 608)\n",
      "(62200, 608)\n"
     ]
    }
   ],
   "source": [
    "df = df.loc[df['ref']=='LUCAS']\n",
    "print(df.shape)\n",
    "\n",
    "df = df.loc[df['hzn_dep']==10]\n",
    "print(df.shape)"
   ]
  },
  {
   "cell_type": "markdown",
   "id": "0feabaef-f80f-4ecb-b730-20d6be090a8c",
   "metadata": {},
   "source": [
    "## organize lucas soc time series"
   ]
  },
  {
   "cell_type": "code",
   "execution_count": 6,
   "id": "9f77b458-06b4-4f21-a8dd-85101beae962",
   "metadata": {
    "tags": []
   },
   "outputs": [],
   "source": [
    "dfs = df\n",
    "lid = dfs.groupby('id').filter(lambda x: len(x) == 3)['id'].unique().tolist() # only focus on 3-pnt series"
   ]
  },
  {
   "cell_type": "code",
   "execution_count": 7,
   "id": "299943dd-686b-4807-b1b4-1c6405455800",
   "metadata": {},
   "outputs": [],
   "source": [
    "name_map = {'ndvi_glad.landast.ard2.seasconv.m.yearly_p50_30m_s_YYYY0101_YYYY1231_eu_epsg.3035_v20231127':'ndvi_p50',\n",
    "            'ndwi.gao_glad.landsat.ard2.seasconv.m.yearly_p50_30m_s_YYYY0101_YYYY1231_eu_epsg.3035_v20231218':'ndwi_p50',\n",
    "            'ndvi_glad.landsat.ard2.seasconv.yearly.m.theilslopes_m_30m_s_20000101_20221231_eu_epsg.3035_v20231218':'ndvi_slope',\n",
    "            'ndwi_glad.landsat.ard2.seasconv.yearly.m.theilslopes_m_30m_s_20000101_20221231_eu_epsg.3035_v20231218':'ndwi_slope'}\n",
    "\n",
    "dfs = dfs.rename(columns = name_map)\n",
    "            \n",
    "for col in ['ndvi_p50','ndwi_p50']:\n",
    "    dfs[col] = (dfs[col]-125)/125\n",
    "    "
   ]
  },
  {
   "cell_type": "code",
   "execution_count": 8,
   "id": "2b270f48-d003-4d86-aa32-8647b8182cec",
   "metadata": {
    "tags": []
   },
   "outputs": [],
   "source": [
    "tcol = ['lat', 'lon', 'time', 'soc', 'lc_survey', 'ndvi_p50', 'ndwi_p50'] # time series cols\n",
    "scol = ['id', 'ref', 'nuts0', 'hzn_dep', 'ndvi_slope','ndwi_slope'] # static cols\n",
    "mcol = ['lat', 'lon', 'ndvi_p50','ndwi_p50'] # cols that needs to take the average of the time series\n"
   ]
  },
  {
   "cell_type": "code",
   "execution_count": 9,
   "id": "a5ab2813-1069-4038-a005-2d194952c111",
   "metadata": {
    "tags": []
   },
   "outputs": [
    {
     "name": "stdout",
     "output_type": "stream",
     "text": [
      "[14:22:14] start organizing\n",
      "[14:24:05] finish organizing\n"
     ]
    }
   ],
   "source": [
    "from skmap.misc import TimeTracker, ttprint\n",
    "\n",
    "ttprint('start organizing')\n",
    "tsdf = pd.DataFrame(columns=scol + [i+'_mean' for i in mcol] + [i+'_series' for i in tcol])\n",
    "for iid in lid:\n",
    "    temp = dfs.loc[dfs['id'] == iid].sort_values(by=['time'])  \n",
    "    \n",
    "    # Extract static values (first row of static columns)\n",
    "    static_vals = temp.iloc[0][scol].tolist()\n",
    "    \n",
    "    # Compute mean values for columns requiring averaging\n",
    "    mean_vals = temp[mcol].mean().tolist()\n",
    "    \n",
    "    # Extract time series values as lists\n",
    "    ts_vals = [temp[itcol].tolist() for itcol in tcol]\n",
    "    \n",
    "    # Concatenate all extracted values\n",
    "    tsdf.loc[len(tsdf)] = static_vals + mean_vals + ts_vals\n",
    "    \n",
    "ttprint('finish organizing')"
   ]
  },
  {
   "cell_type": "code",
   "execution_count": 10,
   "id": "30537c34-b33c-4f88-8ec2-1b4748b17418",
   "metadata": {
    "tags": []
   },
   "outputs": [],
   "source": [
    "tsdf.to_csv('./material/soc_time.series_lucas.csv',index=False)"
   ]
  },
  {
   "cell_type": "markdown",
   "id": "82e26027-7a11-4513-84bb-e2c26c4808fe",
   "metadata": {},
   "source": [
    "## analyze time series\n"
   ]
  },
  {
   "cell_type": "code",
   "execution_count": 12,
   "id": "df61bf47-3165-404b-b68b-ec054a6858d5",
   "metadata": {
    "tags": []
   },
   "outputs": [],
   "source": [
    "import matplotlib.pyplot as plt\n",
    "import numpy as np\n",
    "import geopy.distance\n",
    "\n",
    "dist = []\n",
    "\n",
    "trend_class = []\n",
    "fluctuate = []\n",
    "lc_change = []\n",
    "lcl1 = []\n",
    "d_threshold = 0.5  # Define a threshold for stability\n",
    "\n",
    "for index, row in tsdf.iterrows():\n",
    "    soc = row['soc_series']\n",
    "    time = row['time_series']\n",
    "    \n",
    "    colat = row['lat_series']\n",
    "    colon = row['lon_series']\n",
    "    \n",
    "    dist.append([geopy.distance.geodesic((colon[0], colat[0]),(colon[1], colat[1])).m,\n",
    "                 geopy.distance.geodesic((colon[1], colat[1]),(colon[2], colat[2])).m])\n",
    "    \n",
    "    fluctuate.append([abs(soc[1]-soc[0]),abs(soc[2]-soc[1])])\n",
    "    \n",
    "    lc_level1 = [ii[0] for ii in row['lc_survey_series']]\n",
    "    lcl1.append(lc_level1)\n",
    "    if len(set(lc_level1))==1:\n",
    "        lc_change.append(0)\n",
    "    else:\n",
    "        lc_change.append(1)\n",
    "\n",
    "    # Check for increasing trend\n",
    "    if (soc[2] > soc[1]) and (soc[1] > soc[0]):\n",
    "        trend_class.append('increasing')\n",
    "\n",
    "    # Check for decreasing trend\n",
    "    elif (soc[2] < soc[1]) and (soc[1] < soc[0]):\n",
    "        trend_class.append('decreasing')\n",
    "\n",
    "    # Check for stability vs. noise\n",
    "    else:\n",
    "        d1 = abs(soc[1] - soc[0]) / (time[1] - time[0])\n",
    "        d2 = abs(soc[2] - soc[1]) / (time[2] - time[1])\n",
    "        \n",
    "        if (d1 < d_threshold) and (d2 < d_threshold):\n",
    "            trend_class.append('stable')\n",
    "        else:\n",
    "            trend_class.append('noisy')\n",
    "\n",
    "# Add the classification back to the DataFrame\n",
    "tsdf['trend_class'] = trend_class\n",
    "tsdf['fluctuation'] = fluctuate\n",
    "tsdf['lc_change'] = lc_change\n",
    "tsdf['lc_level1'] = lcl1\n",
    "tsdf['distance'] = dist"
   ]
  },
  {
   "cell_type": "code",
   "execution_count": 2,
   "id": "3665eaf5-fc6a-47c0-b3d8-7a79a0b0cd17",
   "metadata": {
    "tags": []
   },
   "outputs": [
    {
     "data": {
      "text/plain": [
       "array(['[2009, 2015, 2018]', '[2012, 2015, 2018]'], dtype=object)"
      ]
     },
     "execution_count": 2,
     "metadata": {},
     "output_type": "execute_result"
    }
   ],
   "source": [
    "import pandas as pd\n",
    "tsdf = pd.read_csv('./material/soc_time.series_lucas.csv')\n",
    "tsdf['time_series'].unique()"
   ]
  },
  {
   "cell_type": "code",
   "execution_count": 19,
   "id": "f742ae71-ace0-406f-8adc-c3e1c2c7d150",
   "metadata": {
    "tags": []
   },
   "outputs": [
    {
     "data": {
      "image/png": "[encoded data removed]",
      "text/plain": [
       "<Figure size 640x480 with 1 Axes>"
      ]
     },
     "metadata": {},
     "output_type": "display_data"
    }
   ],
   "source": [
    "\n",
    "\n",
    "# Flatten lists using list comprehension\n",
    "dist_flat = [item for sublist in dist for item in sublist]\n",
    "fluctuate_flat = [item for sublist in fluctuate for item in sublist]\n",
    "\n",
    "# Scatter plot\n",
    "plt.scatter(dist_flat, fluctuate_flat)\n",
    "plt.xlim([0,100])\n",
    "plt.xlabel(\"Distance\")\n",
    "plt.ylabel(\"Fluctuation\")\n",
    "plt.title(\"Scatter Plot of Distance vs Fluctuation\")\n",
    "plt.show()\n"
   ]
  },
  {
   "cell_type": "code",
   "execution_count": null,
   "id": "39afe4ba-6fd5-49c6-ac97-e60329420537",
   "metadata": {
    "tags": []
   },
   "outputs": [],
   "source": [
    "for ii in tsdf['trend_class'].unique():\n",
    "    print(ii, len(tsdf.loc[tsdf['trend_class']==ii]),round(tsdf.loc[tsdf['trend_class']==ii,'fluctuation'].mean(),3))\n",
    "    "
   ]
  },
  {
   "cell_type": "code",
   "execution_count": null,
   "id": "32b69d1f-04fc-40b3-9a4d-68402fb2b1a9",
   "metadata": {
    "tags": []
   },
   "outputs": [],
   "source": [
    "tsdf"
   ]
  },
  {
   "cell_type": "code",
   "execution_count": null,
   "id": "d4693b47-a88d-4dce-bb2b-2e7dab43d5fd",
   "metadata": {
    "tags": []
   },
   "outputs": [],
   "source": [
    "import matplotlib.pyplot as plt\n",
    "\n",
    "# Extract unique trend classes\n",
    "trend_classes = tsdf['trend_class'].unique()\n",
    "\n",
    "# Prepare data for plotting\n",
    "counts = [len(tsdf.loc[tsdf['trend_class'] == ii]) for ii in trend_classes]\n",
    "mean_fluctuations = [tsdf.loc[tsdf['trend_class'] == ii, 'fluctuation'].mean() for ii in trend_classes]\n",
    "std_fluctuations = [tsdf.loc[tsdf['trend_class'] == ii, 'fluctuation'].std() for ii in trend_classes]\n",
    "\n",
    "# Create bar plot with error bars\n",
    "plt.figure(figsize=(10, 6))\n",
    "plt.bar(trend_classes, mean_fluctuations, yerr=std_fluctuations, capsize=5, alpha=0.7)\n",
    "plt.xlabel('Trend Class')\n",
    "plt.ylabel('Mean Fluctuation')\n",
    "plt.title('Mean Fluctuation by Trend Class with Variation')\n",
    "plt.xticks(rotation=45)\n",
    "plt.grid(axis='y', linestyle='--', alpha=0.7)\n",
    "\n",
    "plt.show()\n"
   ]
  },
  {
   "cell_type": "code",
   "execution_count": null,
   "id": "c089d94e-9f6d-498e-93ed-c109301c9ea7",
   "metadata": {
    "tags": []
   },
   "outputs": [],
   "source": [
    "ts = tsdf.loc[tsdf['fluctuation']<4.5]"
   ]
  },
  {
   "cell_type": "code",
   "execution_count": null,
   "id": "b027451e-3193-4aa2-acb2-f137e94c37bb",
   "metadata": {
    "tags": []
   },
   "outputs": [],
   "source": [
    "ts['fluctuation'].hist(bins=40)"
   ]
  },
  {
   "cell_type": "code",
   "execution_count": null,
   "id": "5ff1f6e6-632c-4540-b331-ffe873cee119",
   "metadata": {
    "tags": []
   },
   "outputs": [],
   "source": [
    "tsdf.loc[tsdf['lc_change']==0,'fluctuation'].hist(bins=40)"
   ]
  },
  {
   "cell_type": "code",
   "execution_count": null,
   "id": "b5b4866e-2081-4488-a0c6-b5fcd7d61d1d",
   "metadata": {
    "tags": []
   },
   "outputs": [],
   "source": [
    "sampled_df"
   ]
  },
  {
   "cell_type": "code",
   "execution_count": null,
   "id": "b618881d-1b63-473b-be47-50b9747317c8",
   "metadata": {
    "tags": []
   },
   "outputs": [],
   "source": [
    "sampled_df = tsdf.groupby('trend_class').apply(lambda x: x.sample(n=1, replace=True) if len(x) >= 4 else x).reset_index(drop=True)\n",
    "\n",
    "for index, row in sampled_df.iterrows():\n",
    "    soc = row['soc_series']\n",
    "    time = row['time_series']\n",
    "    \n",
    "    # Plot the time series\n",
    "    plt.figure(figsize=(6,3))\n",
    "    plt.plot(time, soc, marker='o', linestyle='-')\n",
    "    plt.title(f\"Point id: {row['id']}, {row['trend_class']}\")\n",
    "    plt.xlabel(\"Year\")\n",
    "    plt.ylabel(\"SOC (g/kg)\")\n",
    "    plt.show()\n"
   ]
  },
  {
   "cell_type": "code",
   "execution_count": null,
   "id": "7abaa229-5370-4b04-a62d-4b8e6e4391d3",
   "metadata": {
    "tags": []
   },
   "outputs": [],
   "source": [
    "for index, row in tsdf.iterrows():\n",
    "    soc = row['soc_series']\n",
    "    time = row['time_series']\n",
    "    fluctuate.append(np.max(soc)-np.min(soc))\n",
    "    \n",
    "    # # Plot the time series\n",
    "    # plt.plot(time, soc, marker='o', linestyle='-')\n",
    "    # plt.title(f\"Time Series {index}\")\n",
    "    # plt.xlabel(\"Year\")\n",
    "    # plt.ylabel(\"SOC\")\n",
    "    # plt.show()"
   ]
  }
 ],
 "metadata": {
  "kernelspec": {
   "display_name": "Python 3 (ipykernel)",
   "language": "python",
   "name": "python3"
  },
  "language_info": {
   "codemirror_mode": {
    "name": "ipython",
    "version": 3
   },
   "file_extension": ".py",
   "mimetype": "text/x-python",
   "name": "python",
   "nbconvert_exporter": "python",
   "pygments_lexer": "ipython3",
   "version": "3.8.16"
  }
 },
 "nbformat": 4,
 "nbformat_minor": 5
}
