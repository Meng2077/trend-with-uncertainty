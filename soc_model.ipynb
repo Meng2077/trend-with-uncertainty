{
 "cells": [
  {
   "cell_type": "markdown",
   "id": "83dd8ddb-9ce4-4e15-a6af-43657eefa4e4",
   "metadata": {},
   "source": [
    "## focus on soc measurements"
   ]
  },
  {
   "cell_type": "code",
   "execution_count": 1,
   "id": "fd62ac69-a620-4e72-a638-d5644f5102bd",
   "metadata": {
    "tags": []
   },
   "outputs": [
    {
     "name": "stdout",
     "output_type": "stream",
     "text": [
      "original (409369, 644)\n",
      "filter by qa (124625, 644)\n",
      "filter by nan (121394, 645)\n",
      "drop other properties (121394, 618)\n"
     ]
    }
   ],
   "source": [
    "import pandas as pd\n",
    "import numpy as np\n",
    "df = pd.read_parquet('./material/soil_organized.pq')\n",
    "print('original', df.shape)\n",
    "\n",
    "df = df.loc[df['soc_qa']>2]\n",
    "print('filter by qa', df.shape)\n",
    "\n",
    "df = df.dropna(subset=['soc'],how='any')\n",
    "df['soc_log1p'] = np.log1p(df['soc'])\n",
    "print('filter by nan', df.shape)\n",
    "\n",
    "drop_col = ['bulk.density.tot_qa', 'bulk.density.tot',\n",
    "'bulk.density.fe_qa', 'bulk.density.fe', 'coarse.mass_qa',\n",
    "'coarse.mass', 'coarse.vol_qa', 'coarse.vol', 'ph.h2o_qa',\n",
    "'sand_qa', 'silt_qa', 'clay_qa', 'total.n_qa', 'carbonates_qa','ph.cacl2_qa',\n",
    "'extractable.p_qa', 'extractable.p', 'extractable.k_qa',\n",
    "'extractable.k', 'ec_qa', 'ec', 'cec_qa', 'cec','texture1', \n",
    "'texture2', 'texture1_qa', 'texture2_qa']\n",
    "df = df.drop(columns=drop_col)\n",
    "print('drop other properties', df.shape)"
   ]
  },
  {
   "cell_type": "markdown",
   "id": "a34a93e5-37b0-45ec-b7eb-32a11ae23d1a",
   "metadata": {},
   "source": [
    "## deal with incomplete data"
   ]
  },
  {
   "cell_type": "code",
   "execution_count": 2,
   "id": "6719bd50-a110-4b5f-b045-652892ae2120",
   "metadata": {
    "tags": []
   },
   "outputs": [
    {
     "name": "stdout",
     "output_type": "stream",
     "text": [
      "accum.ndwi_glad.landsat.seasconv.m.yearly_p50_30m_s_YYYY0101_YYYY1231_eu_epsg.3035_v20240513 0.02\n",
      "accum.ndvi_glad.landsat.seasconv.m.yearly_p50_30m_s_YYYY0101_YYYY1231_eu_epsg.3035_v20240513 0.26\n",
      "CHELSA_swe_1981-2010_V.2.1 0.69\n",
      "drop nan col (121394, 613)\n"
     ]
    }
   ],
   "source": [
    "drop_col = []\n",
    "covs = df.columns[18:-1].tolist()\n",
    "for ii in covs:\n",
    "    inum = df[ii].isna().sum()\n",
    "    irto = round(inum/len(df),2)\n",
    "    if 'accum.nd' in ii:\n",
    "        drop_col.append(ii)\n",
    "    if irto>0.0005:\n",
    "        print(ii, irto)\n",
    "        \n",
    "drop_col.append('CHELSA_swe_1981-2010_V.2.1')\n",
    "df = df.drop(columns=drop_col)   \n",
    "print('drop nan col', df.shape)"
   ]
  },
  {
   "cell_type": "code",
   "execution_count": 12,
   "id": "ccdb7714-20e2-48d7-b7d1-c0ad57ff754e",
   "metadata": {
    "tags": []
   },
   "outputs": [
    {
     "name": "stdout",
     "output_type": "stream",
     "text": [
      "599\n",
      "594\n"
     ]
    }
   ],
   "source": [
    "print(len(covs))\n",
    "covs = [ii for ii in covs if ii not in drop_col]\n",
    "print(len(covs))"
   ]
  },
  {
   "cell_type": "code",
   "execution_count": 13,
   "id": "2915ea59-4812-4f5b-baf0-09994a3b4ce4",
   "metadata": {
    "tags": []
   },
   "outputs": [],
   "source": [
    "import json\n",
    "with open(\"./material/cov_all.json\", \"w\") as fp:\n",
    "    json.dump(covs, fp)"
   ]
  },
  {
   "cell_type": "markdown",
   "id": "c5c18336-3120-49f0-b2b9-62ea07aed7c4",
   "metadata": {},
   "source": [
    "## select test dataset"
   ]
  },
  {
   "cell_type": "code",
   "execution_count": 3,
   "id": "b02d2774-1f7c-486d-be6f-9f64c0bb36b4",
   "metadata": {},
   "outputs": [
    {
     "name": "stdout",
     "output_type": "stream",
     "text": [
      "only lucas (62578, 613)\n",
      "only depth 0-20 (62200, 613)\n",
      "only valid tile id (62199, 613)\n",
      "3-pnt series only (39681, 613)\n"
     ]
    }
   ],
   "source": [
    "# select time series of soc from LUCAS as test dataset\n",
    "ds = df.loc[df['ref']=='LUCAS']\n",
    "print('only lucas', ds.shape)\n",
    "\n",
    "ds = ds.loc[ds['hzn_dep']==10]\n",
    "print('only depth 0-20', ds.shape)\n",
    "\n",
    "ds = ds.dropna(subset=['tile_id'])\n",
    "print('only valid tile id', ds.shape)\n",
    "\n",
    "lid = ds.groupby('id').filter(lambda x: len(x) == 3)['id'].unique().tolist() # only focus on 3-pnt series\n",
    "ds = ds.loc[ds['id'].isin(lid)]\n",
    "print('3-pnt series only', ds.shape)"
   ]
  },
  {
   "cell_type": "code",
   "execution_count": 4,
   "id": "45d6d181-3609-48de-8d6f-7a5663ea2136",
   "metadata": {
    "tags": []
   },
   "outputs": [],
   "source": [
    "from sklearn.model_selection import train_test_split\n",
    "\n",
    "unique_ids = ds[['id', 'tile_id']].drop_duplicates()\n",
    "\n",
    "# merge time series from small tiles\n",
    "tile_counts = unique_ids['tile_id'].value_counts()\n",
    "small_groups = tile_counts[tile_counts < 3].index\n",
    "unique_ids['tile_id'] = unique_ids['tile_id'].replace(small_groups, 500)\n",
    "\n",
    "sampled_ids, _ = train_test_split(\n",
    "    unique_ids, \n",
    "    train_size=3000,  \n",
    "    stratify=unique_ids['tile_id'], \n",
    "    random_state=42\n",
    ")\n",
    "\n",
    "test = df[df['id'].isin(sampled_ids['id'])]\n",
    "train = df[~df['id'].isin(sampled_ids['id'])]"
   ]
  },
  {
   "cell_type": "code",
   "execution_count": 5,
   "id": "6d8b6ad6-04d2-44d3-824d-c26bfce2fdff",
   "metadata": {
    "tags": []
   },
   "outputs": [
    {
     "name": "stdout",
     "output_type": "stream",
     "text": [
      "(9030, 613)\n"
     ]
    }
   ],
   "source": [
    "test.to_parquet('./material/soc_test.pq')\n",
    "print(test.shape)"
   ]
  },
  {
   "cell_type": "code",
   "execution_count": 6,
   "id": "c2b9a837-fe60-493f-9071-bcf5b39efa78",
   "metadata": {
    "tags": []
   },
   "outputs": [
    {
     "name": "stderr",
     "output_type": "stream",
     "text": [
      "/tmp/ipykernel_1768/1109542441.py:5: SettingWithCopyWarning: \n",
      "A value is trying to be set on a copy of a slice from a DataFrame.\n",
      "Try using .loc[row_indexer,col_indexer] = value instead\n",
      "\n",
      "See the caveats in the documentation: https://pandas.pydata.org/pandas-docs/stable/user_guide/indexing.html#returning-a-view-versus-a-copy\n",
      "  train['tile_id'] = train['tile_id'].replace(small_groups, 1817)\n"
     ]
    },
    {
     "name": "stdout",
     "output_type": "stream",
     "text": [
      "calibration (106746, 613)\n",
      "train (5618, 613)\n"
     ]
    }
   ],
   "source": [
    "# split train and calibration now\n",
    "train.loc[train['tile_id'].isna(),'tile_id'] = 1818\n",
    "tile_counts = train['tile_id'].value_counts()\n",
    "small_groups = tile_counts[tile_counts < 2].index\n",
    "train['tile_id'] = train['tile_id'].replace(small_groups, 1817)\n",
    "trn, cal = train_test_split(\n",
    "    train, \n",
    "    train_size=0.05,  \n",
    "    stratify=train['tile_id'], \n",
    "    random_state=42\n",
    ")\n",
    "print('calibration', cal.shape)\n",
    "cal.to_parquet('./material/soc_cal.pq')\n",
    "print('train', trn.shape)\n",
    "trn.to_parquet('./material/soc_train.pq')"
   ]
  },
  {
   "cell_type": "markdown",
   "id": "b1590846-d651-4c16-9dcc-a34f1c9aa7eb",
   "metadata": {},
   "source": [
    "## transformation check"
   ]
  },
  {
   "cell_type": "code",
   "execution_count": 7,
   "id": "e5b826ef-dbfe-4905-b70e-089c00028649",
   "metadata": {
    "tags": []
   },
   "outputs": [
    {
     "data": {
      "image/png": "[encoded data removed]",
      "text/plain": [
       "<Figure size 800x500 with 4 Axes>"
      ]
     },
     "metadata": {},
     "output_type": "display_data"
    }
   ],
   "source": [
    "import matplotlib.pyplot as plt\n",
    "fig, axes = plt.subplots(2, 2, figsize=(8, 5))\n",
    "\n",
    "axes[0, 0].hist(df[\"soc\"], bins=100, alpha=0.7, color=\"blue\", density=True)\n",
    "axes[0, 0].set_title(\"All data\")\n",
    "axes[0, 0].set_xlabel(\"SOC (g/kg)\")\n",
    "axes[0, 0].set_ylabel(\"Density\")\n",
    "\n",
    "axes[0, 1].hist(cal[\"soc\"], bins=100, alpha=0.7, color=\"green\", density=True)\n",
    "axes[0, 1].set_title(\"Calibration\")\n",
    "axes[0, 1].set_xlabel(\"SOC (g/kg)\")\n",
    "axes[0, 1].set_ylabel(\"Density\")\n",
    "\n",
    "axes[1, 0].hist(trn[\"soc\"], bins=100, alpha=0.7, color=\"red\", density=True)\n",
    "axes[1, 0].set_title(\"Train\")\n",
    "axes[1, 0].set_xlabel(\"SOC (g/kg)\")\n",
    "axes[1, 0].set_ylabel(\"Density\")\n",
    "\n",
    "axes[1, 1].hist(test[\"soc\"], bins=100, alpha=0.7, color=\"purple\", density=True)\n",
    "axes[1, 1].set_title(\"Test\")\n",
    "axes[1, 1].set_xlabel(\"SOC (g/kg)\")\n",
    "axes[1, 1].set_ylabel(\"Density\")\n",
    "\n",
    "plt.tight_layout()\n",
    "plt.show()"
   ]
  },
  {
   "cell_type": "code",
   "execution_count": 8,
   "id": "7e14868f-b5ab-4f58-bcb3-d461ec029ec2",
   "metadata": {
    "tags": []
   },
   "outputs": [
    {
     "data": {
      "image/png": "[encoded data removed]",
      "text/plain": [
       "<Figure size 800x500 with 4 Axes>"
      ]
     },
     "metadata": {},
     "output_type": "display_data"
    }
   ],
   "source": [
    "import numpy as np\n",
    "fig, axes = plt.subplots(2, 2, figsize=(8, 5))\n",
    "\n",
    "axes[0, 0].hist(df[\"soc_log1p\"], bins=100, alpha=0.7, color=\"blue\", density=True)\n",
    "axes[0, 0].set_title(\"All data\")\n",
    "axes[0, 0].set_xlabel(\"SOC (g/kg)\")\n",
    "axes[0, 0].set_ylabel(\"Density\")\n",
    "\n",
    "axes[0, 1].hist(cal[\"soc_log1p\"], bins=100, alpha=0.7, color=\"green\", density=True)\n",
    "axes[0, 1].set_title(\"Calibration\")\n",
    "axes[0, 1].set_xlabel(\"SOC (g/kg)\")\n",
    "axes[0, 1].set_ylabel(\"Density\")\n",
    "\n",
    "axes[1, 0].hist(trn[\"soc_log1p\"], bins=100, alpha=0.7, color=\"red\", density=True)\n",
    "axes[1, 0].set_title(\"Train\")\n",
    "axes[1, 0].set_xlabel(\"SOC (g/kg)\")\n",
    "axes[1, 0].set_ylabel(\"Density\")\n",
    "\n",
    "axes[1, 1].hist(test[\"soc_log1p\"], bins=100, alpha=0.7, color=\"purple\", density=True)\n",
    "axes[1, 1].set_title(\"Test\")\n",
    "axes[1, 1].set_xlabel(\"SOC (g/kg)\")\n",
    "axes[1, 1].set_ylabel(\"Density\")\n",
    "\n",
    "plt.tight_layout()\n",
    "plt.show()"
   ]
  },
  {
   "cell_type": "markdown",
   "id": "2d866eeb-41ce-427f-ad15-dd0ba0a7210a",
   "metadata": {},
   "source": [
    "## feature selection"
   ]
  },
  {
   "cell_type": "code",
   "execution_count": 14,
   "id": "778dcc6c-0404-412b-9db9-5ebdbaff0f27",
   "metadata": {
    "tags": []
   },
   "outputs": [
    {
     "ename": "ModuleNotFoundError",
     "evalue": "No module named 'model_fit'",
     "output_type": "error",
     "traceback": [
      "\u001b[0;31m---------------------------------------------------------------------------\u001b[0m",
      "\u001b[0;31mModuleNotFoundError\u001b[0m                       Traceback (most recent call last)",
      "Cell \u001b[0;32mIn[14], line 1\u001b[0m\n\u001b[0;32m----> 1\u001b[0m \u001b[38;5;28;01mfrom\u001b[39;00m \u001b[38;5;21;01mmodel_fit\u001b[39;00m \u001b[38;5;28;01mimport\u001b[39;00m cfi_calc\n\u001b[1;32m      2\u001b[0m prop \u001b[38;5;241m=\u001b[39m \u001b[38;5;124m'\u001b[39m\u001b[38;5;124msoc\u001b[39m\u001b[38;5;124m'\u001b[39m\n\u001b[1;32m      3\u001b[0m tgt \u001b[38;5;241m=\u001b[39m \u001b[38;5;124m'\u001b[39m\u001b[38;5;124msoc_log1p\u001b[39m\u001b[38;5;124m'\u001b[39m\n",
      "\u001b[0;31mModuleNotFoundError\u001b[0m: No module named 'model_fit'"
     ]
    }
   ],
   "source": [
    "from model_fit import cfi_calc\n",
    "prop = 'soc'\n",
    "tgt = 'soc_log1p'\n",
    "space = 'log1p'\n",
    "output_folder = './metric/'\n",
    "version = 'v20250301'\n",
    "cfi = cfi_calc(cal, tgt, prop, space, output_folder, version, covar_cols=covs) # produce"
   ]
  },
  {
   "cell_type": "code",
   "execution_count": null,
   "id": "931fd025-5c3c-40bf-9774-2b3eefe0bf3f",
   "metadata": {},
   "outputs": [],
   "source": []
  }
 ],
 "metadata": {
  "kernelspec": {
   "display_name": "Python 3 (ipykernel)",
   "language": "python",
   "name": "python3"
  },
  "language_info": {
   "codemirror_mode": {
    "name": "ipython",
    "version": 3
   },
   "file_extension": ".py",
   "mimetype": "text/x-python",
   "name": "python",
   "nbconvert_exporter": "python",
   "pygments_lexer": "ipython3",
   "version": "3.8.16"
  }
 },
 "nbformat": 4,
 "nbformat_minor": 5
}
