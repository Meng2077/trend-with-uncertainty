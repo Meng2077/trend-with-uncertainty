{
 "cells": [
  {
   "cell_type": "code",
   "execution_count": 2,
   "id": "b1e66651-70a2-418c-801b-9808c1151646",
   "metadata": {
    "tags": []
   },
   "outputs": [],
   "source": [
    "version = 'v20250521'\n",
    "\n",
    "import os\n",
    "os.environ['USE_PYGEOS'] = '0'\n",
    "import geopandas as gpd\n",
    "import pandas as pd\n",
    "from shapely.geometry import Point\n",
    "import copy\n",
    "import pandas as pd\n",
    "import matplotlib.pyplot as plt\n",
    "from sklearn.model_selection import GroupKFold,cross_val_predict\n",
    "from skmap.misc import find_files, GoogleSheet, ttprint\n",
    "import joblib\n",
    "import numpy as np\n",
    "\n",
    "# discretinized points\n",
    "df = pd.read_parquet('./material/agg_pixel_change.pq')\n",
    "geometry = [Point(xy) for xy in zip(df['lon'], df['lat'])]\n",
    "df = gpd.GeoDataFrame(df, geometry=geometry, crs=\"EPSG:3035\")\n",
    "print(df.shape)\n",
    "\n",
    "# # samples # in the end, we didn't opt for sample vs. pixel comparison\n",
    "# spl = pd.read_parquet(f'./material/srs_agg_{version}.pq')\n",
    "# geometry = [Point(xy) for xy in zip(spl['lon_mean'], spl['lat_mean'])]\n",
    "# spl = gpd.GeoDataFrame(spl, geometry=geometry, crs=\"EPSG:4032\")\n",
    "# spl = spl.to_crs('EPSG:3035')\n",
    "\n",
    "sizes = [2.5, 10, 40, 200]"
   ]
  },
  {
   "cell_type": "code",
   "execution_count": 3,
   "id": "d7cdcd4b-c4f5-41f5-b543-c90650cae78e",
   "metadata": {
    "tags": []
   },
   "outputs": [],
   "source": [
    "for isize in sizes:\n",
    "    ttprint(isize, '-------------------------------')\n",
    "    plg = gpd.read_file(f'./material/grid_all.{isize}km_agg.vlz.{version}.gpkg')\n",
    "    df = gpd.sjoin(df, plg[['geometry']], how=\"inner\", predicate=\"intersects\")\n",
    "    df = df.rename(columns={'index_right':f'id_{isize}'})"
   ]
  },
  {
   "cell_type": "markdown",
   "id": "1f57dcad-2d49-4490-ab0e-fc9372f04e59",
   "metadata": {},
   "source": [
    "## read in the predicted point level data"
   ]
  },
  {
   "cell_type": "code",
   "execution_count": 15,
   "id": "d9d615c7-66ca-4ead-abc1-f306fde69f50",
   "metadata": {
    "tags": []
   },
   "outputs": [],
   "source": [
    "agg = []\n",
    "for isize in [50,100,200]:\n",
    "    tgg = gpd.read_file(f'./material/grid_all.{isize}km_agg.calc.{version}.gpkg')\n",
    "    tgg['size'] = isize\n",
    "    agg.append(tgg)\n",
    "    \n",
    "agg_pnt = pd.concat(agg)\n"
   ]
  },
  {
   "cell_type": "markdown",
   "id": "720f6d1c-e832-4094-8e4d-d85a5a441a99",
   "metadata": {
    "tags": []
   },
   "source": [
    "## get paired SNR"
   ]
  },
  {
   "cell_type": "code",
   "execution_count": 4,
   "id": "0734ef2b-5299-4eb1-b532-a354ba79be8d",
   "metadata": {
    "tags": []
   },
   "outputs": [
    {
     "name": "stdout",
     "output_type": "stream",
     "text": [
      "[16:46:18] start organizing pairs\n",
      "[16:46:32] finish organizing\n",
      "(1158, 19)\n"
     ]
    }
   ],
   "source": [
    "# organize data pairs\n",
    "tcol = ['time', 'sample_mean','sample_std','sample_count', 'pred_std','pred_mean','ndvi'] # time series cols\n",
    "scol = ['id', 'geometry', 'nuts0'] # static cols\n",
    "\n",
    "ttprint('start organizing pairs')\n",
    "\n",
    "ap = []\n",
    "for isize in [50,100,200]:\n",
    "    agg = gpd.read_file(f'./material/grid_all.{isize}km_agg.calc.{version}.gpkg')\n",
    "    agp_df = pd.DataFrame(columns=scol + tcol)\n",
    "    for iid in agg['id'].unique():\n",
    "        temp = agg.loc[agg['id'] == iid].sort_values(by=['time'])  \n",
    "\n",
    "        static_vals = temp.iloc[0][scol].tolist()\n",
    "\n",
    "        ts_vals = [temp.iloc[[0, 1]][itcol].tolist() for itcol in tcol]\n",
    "        agp_df.loc[len(agp_df)] = static_vals + ts_vals\n",
    "\n",
    "        ts_vals = [temp.iloc[[1, 2]][itcol].tolist() for itcol in tcol]\n",
    "        agp_df.loc[len(agp_df)] = static_vals + ts_vals\n",
    "\n",
    "        ts_vals = [temp.iloc[[0, 2]][itcol].tolist() for itcol in tcol]\n",
    "        agp_df.loc[len(agp_df)] = static_vals + ts_vals\n",
    "        \n",
    "    agp_df['change_obsv'] = agp_df['sample_mean'].str[1]-agp_df['sample_mean'].str[0]\n",
    "    agp_df['change_pred'] = agp_df['pred_mean'].str[1]-agp_df['pred_mean'].str[0]\n",
    "    agp_df['noise'] = np.sqrt(agp_df['pred_std'].str[1]**2+agp_df['pred_std'].str[0]**2)\n",
    "    agp_df['signal'] = agp_df['change_pred'].abs()\n",
    "    agp_df['SNR'] = agp_df['signal']/agp_df['noise']\n",
    "    agp_df['size'] = isize\n",
    "    \n",
    "    agp_df = gpd.GeoDataFrame(agp_df, geometry=agp_df['geometry'], crs=\"EPSG:3035\")\n",
    "    agp_df['times'] = agp_df['time'].str[0].astype(str) + '-' + agp_df['time'].str[1].astype(str)\n",
    "    agp_df['count1'] = agp_df['sample_count'].str[0]\n",
    "    agp_df['count2'] = agp_df['sample_count'].str[1]\n",
    "    agp_df[['id','nuts0','geometry','noise','signal','SNR','size','change_obsv', 'change_pred', 'times', 'count1','count2']].to_file(f'./material/grid.pair_all.{isize}km_agg.calc.{version}.gpkg')\n",
    "    ap.append(agp_df)\n",
    "\n",
    "ttprint('finish organizing')\n",
    "agg_pair = pd.concat(ap)\n",
    "print(agg_pair.shape)\n",
    "\n",
    "agg_pair.to_parquet(f'./material/grid.pair_all.size_agg.calc.{version}.pq')\n"
   ]
  },
  {
   "cell_type": "markdown",
   "id": "4e32ebcc-6472-40c4-b44d-915ca926a435",
   "metadata": {},
   "source": [
    "## get series SNR"
   ]
  },
  {
   "cell_type": "code",
   "execution_count": 6,
   "id": "f208a1a2-9865-433b-8481-ad1fd813946d",
   "metadata": {},
   "outputs": [
    {
     "name": "stdout",
     "output_type": "stream",
     "text": [
      "[16:51:29] start organizing series\n",
      "[16:51:31] finish organizing\n"
     ]
    }
   ],
   "source": [
    "# organize time series\n",
    "tcol = ['time', 'sample_mean','sample_std','sample_count', 'pred_std','pred_mean','ndvi'] # time series cols\n",
    "scol = ['id', 'geometry', 'nuts0'] # static cols\n",
    "\n",
    "ttprint('start organizing series')\n",
    "ags_df = pd.DataFrame(columns=scol + tcol + ['size'])\n",
    "ass = []\n",
    "for isize in [50,100,200]:\n",
    "    agg = gpd.read_file(f'./material/grid_all.{isize}km_agg.calc.{version}.gpkg')\n",
    "    for iid in agg['id'].unique():\n",
    "        temp = agg.loc[agg['id'] == iid].sort_values(by=['time'])  \n",
    "\n",
    "        static_vals = temp.iloc[0][scol].tolist()\n",
    "        ts_vals = [temp[itcol].tolist() for itcol in tcol]\n",
    "\n",
    "        ags_df.loc[len(ags_df)] = static_vals + ts_vals + [isize]\n",
    "        \n",
    "    ass.append(ags_df)\n",
    "    \n",
    "ttprint('finish organizing')\n",
    "agg_srs = pd.concat(ass)\n"
   ]
  },
  {
   "cell_type": "code",
   "execution_count": 10,
   "id": "22e11369-8c9a-4146-a292-f5780d2456f1",
   "metadata": {
    "tags": []
   },
   "outputs": [
    {
     "name": "stdout",
     "output_type": "stream",
     "text": [
      "[16:52:51] start organizing\n",
      "[16:57:41] finish organizing\n"
     ]
    }
   ],
   "source": [
    "# obtain time series SNR\n",
    "from sklearn.linear_model import HuberRegressor, TheilSenRegressor\n",
    "\n",
    "plzc = [] # two consecutive soc changes\n",
    "tsr = TheilSenRegressor(random_state=42)\n",
    "slope_sample = [] \n",
    "slope_pred = [] \n",
    "intercept_sample = [] # linear intercept\n",
    "score_sample = [] # R2 of predicted linear time series\n",
    "intercept_pred = [] # linear intercept\n",
    "score_pred = [] # R2 of predicted linear time series\n",
    "std_slope_list = []\n",
    "\n",
    "ttprint('start organizing')\n",
    "for index, row in agg_srs.iterrows():\n",
    "    soc_s = row['sample_mean']\n",
    "    soc_p = row['pred_mean']\n",
    "    if np.isnan(soc_s).any():\n",
    "        plzc.append(np.nan)\n",
    "        slope_sample.append(np.nan)\n",
    "        intercept_sample.append(np.nan)\n",
    "        score_sample.append(np.nan)\n",
    "        slope_pred.append(np.nan)\n",
    "        intercept_pred.append(np.nan)\n",
    "        score_pred.append(np.nan)\n",
    "        std_slope_list.append(np.nan)\n",
    "        continue\n",
    "\n",
    "    time = row['time']\n",
    "    soc_std = row['pred_std']\n",
    "        \n",
    "    # fit linear slope\n",
    "    X = np.array(time)-2009\n",
    "    # for observations\n",
    "    tsr.fit(X.reshape(-1, 1), np.array(soc_s))\n",
    "    slope_sample.append(tsr.coef_[0])\n",
    "    intercept_sample.append(tsr.intercept_)\n",
    "    score_sample.append(tsr.score(X.reshape(-1, 1), np.array(soc_s)))\n",
    "    # for prediction\n",
    "    tsr.fit(X.reshape(-1, 1), np.array(soc_p))\n",
    "    slope_pred.append(tsr.coef_[0])\n",
    "    intercept_pred.append(tsr.intercept_)\n",
    "    score_pred.append(tsr.score(X.reshape(-1, 1), np.array(soc_p)))\n",
    "    \n",
    "    # shape becomes (n_realizations, n_time_steps), e.g., (120, 3)\n",
    "    n_realizations = 120\n",
    "    rt = np.random.normal(loc=soc_p, scale=soc_std, size=(n_realizations, 3))\n",
    "    slope_r = []\n",
    "\n",
    "    for i in range(200):  # 50 Monte Carlo samples\n",
    "        # Sample one realization (index) per time step\n",
    "        # Choose a random index from 0 to 119 (assuming 120 realizations)\n",
    "        sample_indices = np.random.randint(0, rt.shape[0], size=rt.shape[1])\n",
    "        ss = np.array([rt[sample_indices[j], j] for j in range(rt.shape[1])])  # shape (n_time_steps,)\n",
    "\n",
    "        tsr.fit(X.reshape(-1, 1), ss)\n",
    "        slope_r.append(tsr.coef_[0])\n",
    "        # score_r.append(tsr.score(X.reshape(-1, 1), ss))\n",
    "\n",
    "    # Store statistics\n",
    "    std_slope_list.append(np.std(slope_r))\n",
    "    # m_slope_list.append(np.mean(slope_r))\n",
    "    # std_score_list.append(np.std(score_r))\n",
    "    # m_score_list.append(np.mean(score_r))\n",
    "    \n",
    "ttprint('finish organizing')\n",
    "    \n",
    "agg_srs[r'slope_sample'] = slope_sample\n",
    "agg_srs[r'intercept_sample'] = intercept_sample\n",
    "agg_srs[r'score_sample'] = score_sample\n",
    "agg_srs[r'slope_pred'] = slope_pred\n",
    "agg_srs[r'intercept_pred'] = intercept_pred\n",
    "agg_srs[r'score_pred'] = score_pred\n",
    "agg_srs[r'noise'] = std_slope_list\n",
    "agg_srs['signal'] = agg_srs['slope_pred'].abs()\n",
    "agg_srs['SNR'] = agg_srs['signal']/agg_srs['noise']"
   ]
  },
  {
   "cell_type": "code",
   "execution_count": 13,
   "id": "d8f9f804-bea7-47e6-8f09-c761ab04a67a",
   "metadata": {
    "tags": []
   },
   "outputs": [],
   "source": [
    "agg_srs[['id', 'nuts0', 'time', 'sample_mean', 'sample_std','sample_count', 'pred_std', 'pred_mean', 'ndvi', 'size', \n",
    "         'slope_sample','intercept_sample', 'score_sample', 'slope_pred','intercept_pred','score_pred',\n",
    "         'noise', 'signal', 'SNR']].to_parquet(f'./material/grid.srs_all.size_agg.calc.{version}.pq')\n",
    "agg_srs = gpd.GeoDataFrame(agg_srs, geometry=agg_srs['geometry'], crs=\"EPSG:3035\")\n",
    "for isize in [50,100,200]:\n",
    "    agg_srs.loc[agg_srs['size']==isize][['id','nuts0','geometry','noise','signal','SNR','size', 'slope_sample', 'slope_pred']].to_file(f'./material/grid.srs_all.{isize}km_agg.calc.{version}.gpkg')"
   ]
  },
  {
   "cell_type": "markdown",
   "id": "bfd3b6b1-f02d-4bbe-9471-67acb8d31ace",
   "metadata": {},
   "source": [
    "### plot"
   ]
  },
  {
   "cell_type": "code",
   "execution_count": 23,
   "id": "5097ad9f-305a-4289-b247-3d0733d769a2",
   "metadata": {
    "tags": []
   },
   "outputs": [],
   "source": [
    "agg_pnt['signal'] = agg_pnt['pred_mean']\n",
    "agg_pnt['noise'] = agg_pnt['pred_std']\n",
    "agg_pnt['SNR'] = agg_pnt['signal']/agg_pnt['noise']"
   ]
  },
  {
   "cell_type": "code",
   "execution_count": 25,
   "id": "e8213369-480b-4cd4-ba50-fc7ae477bea9",
   "metadata": {
    "tags": []
   },
   "outputs": [
    {
     "data": {
      "image/png": "[encoded data removed]",
      "text/plain": [
       "<Figure size 1200x900 with 9 Axes>"
      ]
     },
     "metadata": {},
     "output_type": "display_data"
    }
   ],
   "source": [
    "import matplotlib.pyplot as plt\n",
    "import pandas as pd\n",
    "import numpy as np\n",
    "from matplotlib.patches import Patch\n",
    "\n",
    "# DataFrames: agg_pnt, agg_pair, agg_srs\n",
    "dataframes = [agg_pnt, agg_pair, agg_srs]\n",
    "df_labels = ['$c$', '$\\delta$', r'$\\beta$']\n",
    "metrics = ['signal', 'noise', 'SNR']\n",
    "\n",
    "# Unique sizes and regions\n",
    "all_scales = sorted(set(agg_pnt['size']) | set(agg_pair['size']) | set(agg_srs['size']))\n",
    "all_regions = sorted(set(agg_pnt['nuts0']) | set(agg_pair['nuts0']) | set(agg_srs['nuts0']))\n",
    "\n",
    "# Assign colors\n",
    "region_colors = {region: color for region, color in zip(all_regions, ['tab:blue', 'tab:orange'])}\n",
    "\n",
    "# Create subplot grid\n",
    "fig, axes = plt.subplots(3, 3, figsize=(12, 9))\n",
    "fig.subplots_adjust(hspace=0.4, wspace=0.3)\n",
    "\n",
    "offset = 0.6  # spacing between ES and DE\n",
    "group_spacing = 2\n",
    "\n",
    "for row_idx, (df, df_label) in enumerate(zip(dataframes, df_labels)):\n",
    "    for col_idx, metric in enumerate(metrics):\n",
    "        ax = axes[row_idx, col_idx]\n",
    "        num_scales = len(all_scales)\n",
    "\n",
    "        for i, region in enumerate(all_regions):\n",
    "            data_per_scale = []\n",
    "            positions = []\n",
    "\n",
    "            for j, scale in enumerate(all_scales):\n",
    "                subset = df[(df['size'] == scale) & (df['nuts0'] == region)][metric].dropna()\n",
    "                if len(subset) > 0:\n",
    "                    data_per_scale.append(subset.values)\n",
    "                    pos = j * group_spacing + i * offset\n",
    "                    positions.append(pos)\n",
    "\n",
    "            if data_per_scale:  # Only plot if we have valid data\n",
    "                bp = ax.boxplot(\n",
    "                    data_per_scale,\n",
    "                    positions=positions,\n",
    "                    widths=0.5,\n",
    "                    patch_artist=True,\n",
    "                    showfliers=False,\n",
    "                    boxprops=dict(facecolor=region_colors[region], color='black'),\n",
    "                    medianprops=dict(color='black'),\n",
    "                    whiskerprops=dict(color='black'),\n",
    "                    capprops=dict(color='black')\n",
    "                )\n",
    "\n",
    "            # positions = np.arange(num_scales) * group_spacing + i * offset\n",
    "            # bp = ax.boxplot(\n",
    "            #     data_per_scale,\n",
    "            #     positions=positions,\n",
    "            #     widths=0.5,\n",
    "            #     patch_artist=True,\n",
    "            #     showfliers=False,\n",
    "            #     boxprops=dict(facecolor=region_colors[region], color='black'),\n",
    "            #     medianprops=dict(color='black'),\n",
    "            #     whiskerprops=dict(color='black'),\n",
    "            #     capprops=dict(color='black')\n",
    "            # )\n",
    "\n",
    "        # Set titles and labels\n",
    "        if row_idx == 0:\n",
    "            if metric == 'signal':\n",
    "                metric = 'Signal'\n",
    "            if metric == 'noise':\n",
    "                metric = 'Noise'\n",
    "            ax.set_title(metric, fontsize=16)\n",
    "        if col_idx == 0:\n",
    "            ax.set_ylabel(df_label, fontsize=15)\n",
    "\n",
    "        # Set x-ticks centered between pairs\n",
    "        tick_positions = np.arange(num_scales) * group_spacing + offset / 2\n",
    "        ax.set_xticks(tick_positions)\n",
    "        if row_idx == 2:\n",
    "            ax.set_xticklabels([f'{s}km' for s in all_scales], fontsize=15)\n",
    "        else:\n",
    "            ax.set_xticklabels([])\n",
    "\n",
    "# Add color legend\n",
    "legend_elements = [Patch(facecolor=region_colors[r], label=r) for r in all_regions]\n",
    "fig.legend(handles=legend_elements, loc='upper center', ncol=len(all_regions), fontsize=14)\n",
    "\n",
    "# Tidy layout with top space for legend\n",
    "fig.tight_layout(rect=[0, 0, 1, 0.95])\n",
    "plt.savefig(f'./figure/plot_agg_compare.pdf', bbox_inches='tight')\n",
    "plt.show()\n"
   ]
  },
  {
   "cell_type": "code",
   "execution_count": null,
   "id": "74b56ea6-2087-4777-a4af-20726efe738c",
   "metadata": {
    "tags": []
   },
   "outputs": [],
   "source": []
  },
  {
   "cell_type": "code",
   "execution_count": null,
   "id": "b98a0bb9-11af-437b-a27e-c4f38f171d04",
   "metadata": {
    "tags": []
   },
   "outputs": [],
   "source": []
  },
  {
   "cell_type": "code",
   "execution_count": null,
   "id": "b24e9911-df59-4df5-a197-aa5884e9fb20",
   "metadata": {},
   "outputs": [],
   "source": []
  }
 ],
 "metadata": {
  "kernelspec": {
   "display_name": "Python 3 (ipykernel)",
   "language": "python",
   "name": "python3"
  },
  "language_info": {
   "codemirror_mode": {
    "name": "ipython",
    "version": 3
   },
   "file_extension": ".py",
   "mimetype": "text/x-python",
   "name": "python",
   "nbconvert_exporter": "python",
   "pygments_lexer": "ipython3",
   "version": "3.8.16"
  }
 },
 "nbformat": 4,
 "nbformat_minor": 5
}
