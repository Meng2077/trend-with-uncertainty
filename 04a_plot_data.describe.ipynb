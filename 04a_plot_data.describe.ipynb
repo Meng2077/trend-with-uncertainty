{
 "cells": [
  {
   "cell_type": "code",
   "execution_count": 1,
   "id": "34be102e-91f0-44e5-bfcc-8110fd40301d",
   "metadata": {
    "tags": []
   },
   "outputs": [],
   "source": [
    "version = 'v20250521'\n",
    "\n",
    "import matplotlib.pyplot as plt\n",
    "import numpy as np\n",
    "import pandas as pd\n",
    "\n",
    "point = pd.read_parquet(f'./material/soc.topsoil_organized_{version}.pq')\n",
    "series = pd.read_parquet(f'./material/srs_lucas.plausible_{version}.pq')\n",
    "pair = pd.read_parquet(f'./material/pair_lucas.plausible_{version}.pq')"
   ]
  },
  {
   "cell_type": "markdown",
   "id": "39455ced-3789-4162-9fcf-44ae87881eaa",
   "metadata": {},
   "source": [
    "## temporal distribution"
   ]
  },
  {
   "cell_type": "code",
   "execution_count": 4,
   "id": "95d69f77-e385-413f-af2e-204f6f644431",
   "metadata": {
    "tags": []
   },
   "outputs": [
    {
     "data": {
      "image/png": "[encoded data removed]",
      "text/plain": [
       "<Figure size 900x400 with 1 Axes>"
      ]
     },
     "metadata": {},
     "output_type": "display_data"
    }
   ],
   "source": [
    "pnt_series = point.loc[point['id'].isin(series['id'].values)]\n",
    "\n",
    "# Create time bins\n",
    "time_bins = np.arange(min(point['time'].min(), pnt_series['time'].min()), \n",
    "                      max(point['time'].max(), pnt_series['time'].max()) + 1)\n",
    "\n",
    "# Histogram counts per year\n",
    "series_counts, _ = np.histogram(pnt_series['time'], bins=time_bins)\n",
    "point_counts, _ = np.histogram(point['time'], bins=time_bins)\n",
    "non_series_counts = point_counts - series_counts\n",
    "\n",
    "# X-axis (mid of bins)\n",
    "bin_centers = time_bins[:-1]\n",
    "bar_width = 0.6\n",
    "\n",
    "# Create single plot\n",
    "fig, ax = plt.subplots(figsize=(9, 4))\n",
    "\n",
    "# Plot stacked bars\n",
    "ax.bar(bin_centers, non_series_counts, width=bar_width, label='Point, excluding series', alpha=0.7, edgecolor='black')\n",
    "ax.bar(bin_centers, series_counts, width=bar_width, bottom=non_series_counts, label='Series', alpha=0.7, edgecolor='black')\n",
    "\n",
    "# X-axis formatting\n",
    "x_ticks = [2003, 2006, 2009, 2012, 2015, 2018]\n",
    "ax.set_xticks(x_ticks)\n",
    "ax.tick_params(labelsize=13)\n",
    "ax.set_xlabel('Year', fontsize=16)\n",
    "ax.set_ylabel('Count', fontsize=16)\n",
    "ax.legend(fontsize=13)\n",
    "# ax.grid(True)\n",
    "ax.text(0.95, 0.95, '(C)', transform=ax.transAxes,\n",
    "        ha='right', va='top', fontsize=18, fontweight='semibold')#, bbox=dict(facecolor='white', alpha=0.6, edgecolor='none')\n",
    "\n",
    "\n",
    "plt.tight_layout()\n",
    "plt.savefig(f'./figure/fig_data_temp.availibility.svg')\n",
    "plt.show()"
   ]
  },
  {
   "cell_type": "markdown",
   "id": "92ab6832-7109-4be2-b26b-c894f0b49157",
   "metadata": {},
   "source": [
    "## pair distribution"
   ]
  },
  {
   "cell_type": "code",
   "execution_count": 37,
   "id": "f59e4b65-42e5-434a-bc0d-f25c747cc796",
   "metadata": {
    "tags": []
   },
   "outputs": [],
   "source": [
    "pair['time'] = pair['time_pair'].apply(lambda x: f\"{x[0]}-{x[1]}\")\n",
    "pair['time_diff'] = pair['time_pair'].apply(lambda x: x[1]-x[0])\n",
    "pair['time_start'] = pair['time_pair'].apply(lambda x: x[0])\n",
    "pair['time_end'] = pair['time_pair'].apply(lambda x: x[1])\n",
    "\n",
    "ac = pair.value_counts(subset=['time', 'time_start','time_end','time_diff']).reset_index(name='count')\n",
    "ac = ac.loc[[1,2,3,4,0]]"
   ]
  },
  {
   "cell_type": "code",
   "execution_count": 38,
   "id": "e4962e88-ccef-4139-9cd1-086c2b76efd8",
   "metadata": {
    "tags": []
   },
   "outputs": [
    {
     "data": {
      "text/html": [
       "<div>\n",
       "<style scoped>\n",
       "    .dataframe tbody tr th:only-of-type {\n",
       "        vertical-align: middle;\n",
       "    }\n",
       "\n",
       "    .dataframe tbody tr th {\n",
       "        vertical-align: top;\n",
       "    }\n",
       "\n",
       "    .dataframe thead th {\n",
       "        text-align: right;\n",
       "    }\n",
       "</style>\n",
       "<table border=\"1\" class=\"dataframe\">\n",
       "  <thead>\n",
       "    <tr style=\"text-align: right;\">\n",
       "      <th></th>\n",
       "      <th>time</th>\n",
       "      <th>time_start</th>\n",
       "      <th>time_end</th>\n",
       "      <th>time_diff</th>\n",
       "      <th>count</th>\n",
       "    </tr>\n",
       "  </thead>\n",
       "  <tbody>\n",
       "    <tr>\n",
       "      <th>1</th>\n",
       "      <td>2009-2015</td>\n",
       "      <td>2009</td>\n",
       "      <td>2015</td>\n",
       "      <td>6</td>\n",
       "      <td>10151</td>\n",
       "    </tr>\n",
       "    <tr>\n",
       "      <th>2</th>\n",
       "      <td>2009-2018</td>\n",
       "      <td>2009</td>\n",
       "      <td>2018</td>\n",
       "      <td>9</td>\n",
       "      <td>10151</td>\n",
       "    </tr>\n",
       "    <tr>\n",
       "      <th>3</th>\n",
       "      <td>2012-2015</td>\n",
       "      <td>2012</td>\n",
       "      <td>2015</td>\n",
       "      <td>3</td>\n",
       "      <td>53</td>\n",
       "    </tr>\n",
       "    <tr>\n",
       "      <th>4</th>\n",
       "      <td>2012-2018</td>\n",
       "      <td>2012</td>\n",
       "      <td>2018</td>\n",
       "      <td>6</td>\n",
       "      <td>53</td>\n",
       "    </tr>\n",
       "    <tr>\n",
       "      <th>0</th>\n",
       "      <td>2015-2018</td>\n",
       "      <td>2015</td>\n",
       "      <td>2018</td>\n",
       "      <td>3</td>\n",
       "      <td>10204</td>\n",
       "    </tr>\n",
       "  </tbody>\n",
       "</table>\n",
       "</div>"
      ],
      "text/plain": [
       "        time  time_start  time_end  time_diff  count\n",
       "1  2009-2015        2009      2015          6  10151\n",
       "2  2009-2018        2009      2018          9  10151\n",
       "3  2012-2015        2012      2015          3     53\n",
       "4  2012-2018        2012      2018          6     53\n",
       "0  2015-2018        2015      2018          3  10204"
      ]
     },
     "execution_count": 38,
     "metadata": {},
     "output_type": "execute_result"
    }
   ],
   "source": [
    "ac"
   ]
  },
  {
   "cell_type": "code",
   "execution_count": 72,
   "id": "36ec7d96-50f1-4c92-a121-cd8ccfd6c993",
   "metadata": {
    "tags": []
   },
   "outputs": [
    {
     "name": "stderr",
     "output_type": "stream",
     "text": [
      "/tmp/ipykernel_7574/1954445676.py:18: UserWarning: FixedFormatter should only be used together with FixedLocator\n",
      "  ax.set_xticklabels(ac['time'], rotation=10)\n"
     ]
    },
    {
     "data": {
      "image/png": "[encoded data removed]",
      "text/plain": [
       "<Figure size 700x400 with 1 Axes>"
      ]
     },
     "metadata": {},
     "output_type": "display_data"
    }
   ],
   "source": [
    "\n",
    "\n",
    "# Color map based on unique time_diff values\n",
    "unique_diffs = ac['time_diff'].unique()\n",
    "color_map = {diff: color for diff, color in zip(unique_diffs, plt.cm.tab10.colors)}\n",
    "bar_colors = ac['time_diff'].map(color_map)\n",
    "\n",
    "# Create figure and axis\n",
    "fig, ax = plt.subplots(figsize=(7, 4))\n",
    "bars = ax.bar(ac['time'], ac['count'], color=bar_colors, edgecolor='black')\n",
    "\n",
    "# Custom legend\n",
    "handles = [plt.Rectangle((0, 0), 1, 1, color=color_map[diff]) for diff in unique_diffs]\n",
    "labels = [f\"$\\Delta$ year = {diff}\" for diff in unique_diffs]\n",
    "ax.legend(handles, labels, fontsize=13, bbox_to_anchor=(0.45, 0.48))\n",
    "\n",
    "# Labels and styling\n",
    "ax.set_xlabel('Year Interval', fontsize=14)\n",
    "ax.set_ylabel('Count', fontsize=14)\n",
    "ax.set_xticklabels(ac['time'], rotation=10)\n",
    "ax.tick_params(labelsize=13)\n",
    "ax.grid(axis='y', linestyle='--', alpha=0.7)\n",
    "ax.set_yscale('log')\n",
    "ax.set_ylim([10, 30000])  # Avoid setting to 0 on log scale\n",
    "\n",
    "# Add count labels on top of bars\n",
    "for bar in bars:\n",
    "    height = bar.get_height()\n",
    "    ax.text(\n",
    "        bar.get_x() + bar.get_width() / 2,\n",
    "        height,\n",
    "        f'{int(height)}',\n",
    "        ha='center', va='bottom', fontsize=11\n",
    "    )\n",
    "\n",
    "# Add panel label\n",
    "ax.text(0.63, 0.95, '(D)', transform=ax.transAxes,\n",
    "        ha='right', va='top', fontsize=18, fontweight='semibold')\n",
    "\n",
    "# Save and show\n",
    "plt.tight_layout()\n",
    "plt.savefig(f'./figure/fig_data.pair_temp.availibility.svg', format='svg', bbox_inches='tight')\n",
    "plt.show()\n"
   ]
  },
  {
   "cell_type": "markdown",
   "id": "4baafa6c-8417-448b-9f29-fc04513d8bf1",
   "metadata": {},
   "source": [
    "## descriptive stats"
   ]
  },
  {
   "cell_type": "code",
   "execution_count": 5,
   "id": "8b794ffa-c956-4f86-8ac9-664da893d9a5",
   "metadata": {
    "tags": []
   },
   "outputs": [],
   "source": [
    "stat = point.groupby(['ref'])['soc'].describe()[['count','mean','50%','std']]"
   ]
  },
  {
   "cell_type": "code",
   "execution_count": 6,
   "id": "210697f4-b403-4cf1-941f-a786a1c36cb0",
   "metadata": {
    "tags": []
   },
   "outputs": [],
   "source": [
    "stat['n_site'] = np.nan\n",
    "for ii in point['ref'].unique():\n",
    "    ln = len(point.loc[point['ref']==ii, 'id'].unique())\n",
    "    stat.loc[stat.index==ii,'n_site'] = ln"
   ]
  },
  {
   "cell_type": "code",
   "execution_count": 7,
   "id": "24f01746-3049-4b2e-9145-9ab56a6b7820",
   "metadata": {},
   "outputs": [
    {
     "data": {
      "text/html": [
       "<div>\n",
       "<style scoped>\n",
       "    .dataframe tbody tr th:only-of-type {\n",
       "        vertical-align: middle;\n",
       "    }\n",
       "\n",
       "    .dataframe tbody tr th {\n",
       "        vertical-align: top;\n",
       "    }\n",
       "\n",
       "    .dataframe thead th {\n",
       "        text-align: right;\n",
       "    }\n",
       "</style>\n",
       "<table border=\"1\" class=\"dataframe\">\n",
       "  <thead>\n",
       "    <tr style=\"text-align: right;\">\n",
       "      <th></th>\n",
       "      <th>n_site</th>\n",
       "      <th>count</th>\n",
       "      <th>mean</th>\n",
       "      <th>50%</th>\n",
       "      <th>std</th>\n",
       "    </tr>\n",
       "    <tr>\n",
       "      <th>ref</th>\n",
       "      <th></th>\n",
       "      <th></th>\n",
       "      <th></th>\n",
       "      <th></th>\n",
       "      <th></th>\n",
       "    </tr>\n",
       "  </thead>\n",
       "  <tbody>\n",
       "    <tr>\n",
       "      <th>LUCAS</th>\n",
       "      <td>27737.0</td>\n",
       "      <td>62437.0</td>\n",
       "      <td>45.978352</td>\n",
       "      <td>20.700000</td>\n",
       "      <td>82.029290</td>\n",
       "    </tr>\n",
       "    <tr>\n",
       "      <th>ParcelasINES</th>\n",
       "      <td>21502.0</td>\n",
       "      <td>21505.0</td>\n",
       "      <td>36.629255</td>\n",
       "      <td>23.530000</td>\n",
       "      <td>38.665153</td>\n",
       "    </tr>\n",
       "    <tr>\n",
       "      <th>thuenen.bze.lw</th>\n",
       "      <td>2953.0</td>\n",
       "      <td>2953.0</td>\n",
       "      <td>30.069683</td>\n",
       "      <td>18.372983</td>\n",
       "      <td>49.221224</td>\n",
       "    </tr>\n",
       "    <tr>\n",
       "      <th>ParcelasCOS</th>\n",
       "      <td>789.0</td>\n",
       "      <td>789.0</td>\n",
       "      <td>40.784685</td>\n",
       "      <td>27.170000</td>\n",
       "      <td>34.643113</td>\n",
       "    </tr>\n",
       "  </tbody>\n",
       "</table>\n",
       "</div>"
      ],
      "text/plain": [
       "                 n_site    count       mean        50%        std\n",
       "ref                                                              \n",
       "LUCAS           27737.0  62437.0  45.978352  20.700000  82.029290\n",
       "ParcelasINES    21502.0  21505.0  36.629255  23.530000  38.665153\n",
       "thuenen.bze.lw   2953.0   2953.0  30.069683  18.372983  49.221224\n",
       "ParcelasCOS       789.0    789.0  40.784685  27.170000  34.643113"
      ]
     },
     "execution_count": 7,
     "metadata": {},
     "output_type": "execute_result"
    }
   ],
   "source": [
    "stat.sort_values(by='count',ascending=False)[['n_site','count','mean','50%','std']]"
   ]
  },
  {
   "cell_type": "code",
   "execution_count": null,
   "id": "f3fa249e-6163-46ff-abf7-1ff353fee749",
   "metadata": {},
   "outputs": [],
   "source": []
  }
 ],
 "metadata": {
  "kernelspec": {
   "display_name": "Python 3 (ipykernel)",
   "language": "python",
   "name": "python3"
  },
  "language_info": {
   "codemirror_mode": {
    "name": "ipython",
    "version": 3
   },
   "file_extension": ".py",
   "mimetype": "text/x-python",
   "name": "python",
   "nbconvert_exporter": "python",
   "pygments_lexer": "ipython3",
   "version": "3.8.16"
  }
 },
 "nbformat": 4,
 "nbformat_minor": 5
}
