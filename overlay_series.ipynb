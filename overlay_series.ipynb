{
 "cells": [
  {
   "cell_type": "code",
   "execution_count": 1,
   "id": "d844e1ff-32a7-484a-ab95-c7fbb3af0a3f",
   "metadata": {
    "tags": []
   },
   "outputs": [],
   "source": [
    "import sys\n",
    "import pathlib\n",
    "import os\n",
    "from skmap.catalog import DataCatalog\n",
    "from skmap.loader import TiledDataLoader\n",
    "from skmap.overlay import SpaceOverlay, SpaceTimeOverlay\n",
    "from skmap.misc import find_files, GoogleSheet, ttprint\n",
    "from osgeo.gdal import BuildVRT, SetConfigOption\n",
    "import random\n",
    "import pandas as pd\n",
    "import time\n",
    "import skmap_bindings as sb\n",
    "import numpy as np\n",
    "from shapely.geometry import Point\n",
    "from geopandas import gpd \n",
    "\n",
    "version = 'v20250301'"
   ]
  },
  {
   "cell_type": "markdown",
   "id": "4db729c8-4d23-4dcd-8191-b5e6491cbe1b",
   "metadata": {},
   "source": [
    "### prepare the data"
   ]
  },
  {
   "cell_type": "code",
   "execution_count": 3,
   "id": "de019a0a-e5c9-452a-8d5e-e63c0b54d52d",
   "metadata": {
    "tags": []
   },
   "outputs": [],
   "source": [
    "# read in the data to be overlaid\n",
    "df = pd.read_parquet('./time.series_lucas_plausible.pq')\n",
    "# df['site_key'] = df['site_key'].astype('str')\n",
    "years = list(np.arange(2000,2024,1))"
   ]
  },
  {
   "cell_type": "markdown",
   "id": "6a56ee2b-daef-45d1-9310-f67a7c41dc95",
   "metadata": {},
   "source": [
    "### extract the layers"
   ]
  },
  {
   "cell_type": "code",
   "execution_count": 4,
   "id": "6dcc9051-f737-4df8-a133-ab590bb983d5",
   "metadata": {
    "scrolled": true,
    "tags": []
   },
   "outputs": [
    {
     "name": "stdout",
     "output_type": "stream",
     "text": [
      "Year 2000 not available for layer non.photosynthetic.veg_mcd43a4.fc_m_500m_s_{year}0101_{year}1231_go_epsg.4326_v20240616, propagating year 2001\n",
      "Year 2000 not available for layer non.photosynthetic.veg_mcd43a4.fc_mx_500m_s_{year}0101_{year}1231_go_epsg.4326_v20240616, propagating year 2001\n",
      "Year 2000 not available for layer non.photosynthetic.veg_mcd43a4.fc_std_500m_s_{year}0101_{year}1231_go_epsg.4326_v20240616, propagating year 2001\n",
      "Year 2000 not available for layer non.photosynthetic.veg_mcd43a4.fc_std_gf_500m_s_{year}0101_{year}1231_go_epsg.4326_v20250116, propagating year 2001\n",
      "Year 2000 not available for layer photosynthetic.veg_mcd43a4.fc_m_500m_s_{year}0101_{year}1231_go_epsg.4326_v20240616, propagating year 2001\n",
      "Year 2000 not available for layer photosynthetic.veg_mcd43a4.fc_mx_500m_s_{year}0101_{year}1231_go_epsg.4326_v20240616, propagating year 2001\n",
      "Year 2000 not available for layer photosynthetic.veg_mcd43a4.fc_std_500m_s_{year}0101_{year}1231_go_epsg.4326_v20240616, propagating year 2001\n",
      "Year 2019 not available for layer clm_accum.precipitation_chelsa.annual_m_1km_s0..0cm_{year}_v2.1, propagating year 2018\n",
      "Year 2020 not available for layer clm_accum.precipitation_chelsa.annual_m_1km_s0..0cm_{year}_v2.1, propagating year 2018\n",
      "Year 2021 not available for layer clm_accum.precipitation_chelsa.annual_m_1km_s0..0cm_{year}_v2.1, propagating year 2018\n",
      "Year 2021 not available for layer pft.bare_esa.cci.lc_pc_300m_s_{year}0101_{year}1231_go_epsg.4326_v20230616, propagating year 2020\n",
      "Year 2021 not available for layer pft.built_esa.cci.lc_pc_300m_s_{year}0101_{year}1231_go_epsg.4326_v20230616, propagating year 2020\n",
      "Year 2021 not available for layer pft.grass.man_esa.cci.lc_pc_300m_s_{year}0101_{year}1231_go_epsg.4326_v20230616, propagating year 2020\n",
      "Year 2021 not available for layer pft.grass.nat_esa.cci.lc_pc_300m_s_{year}0101_{year}1231_go_epsg.4326_v20230616, propagating year 2020\n",
      "Year 2021 not available for layer pft.shrubs.bd_esa.cci.lc_pc_300m_s_{year}0101_{year}1231_go_epsg.4326_v20230616, propagating year 2020\n",
      "Year 2021 not available for layer pft.shrubs.be_esa.cci.lc_pc_300m_s_{year}0101_{year}1231_go_epsg.4326_v20230616, propagating year 2020\n",
      "Year 2021 not available for layer pft.shrubs.nd_esa.cci.lc_pc_300m_s_{year}0101_{year}1231_go_epsg.4326_v20230616, propagating year 2020\n",
      "Year 2021 not available for layer pft.shrubs.ne_esa.cci.lc_pc_300m_s_{year}0101_{year}1231_go_epsg.4326_v20230616, propagating year 2020\n",
      "Year 2021 not available for layer pft.snowice_esa.cci.lc_pc_300m_s_{year}0101_{year}1231_go_epsg.4326_v20230616, propagating year 2020\n",
      "Year 2021 not available for layer pft.trees.bd_esa.cci.lc_pc_300m_s_{year}0101_{year}1231_go_epsg.4326_v20230616, propagating year 2020\n",
      "Year 2021 not available for layer pft.trees.be_esa.cci.lc_pc_300m_s_{year}0101_{year}1231_go_epsg.4326_v20230616, propagating year 2020\n",
      "Year 2021 not available for layer pft.trees.nd_esa.cci.lc_pc_300m_s_{year}0101_{year}1231_go_epsg.4326_v20230616, propagating year 2020\n",
      "Year 2021 not available for layer pft.trees.ne_esa.cci.lc_pc_300m_s_{year}0101_{year}1231_go_epsg.4326_v20230616, propagating year 2020\n",
      "Year 2021 not available for layer pft.water.inland_esa.cci.lc_pc_300m_s_{year}0101_{year}1231_go_epsg.4326_v20230616, propagating year 2020\n",
      "Year 2021 not available for layer pft.water_esa.cci.lc_pc_300m_s_{year}0101_{year}1231_go_epsg.4326_v20230616, propagating year 2020\n",
      "Year 2022 not available for layer clm_accum.precipitation_chelsa.annual_m_1km_s0..0cm_{year}_v2.1, propagating year 2018\n",
      "Year 2022 not available for layer pft.bare_esa.cci.lc_pc_300m_s_{year}0101_{year}1231_go_epsg.4326_v20230616, propagating year 2020\n",
      "Year 2022 not available for layer pft.built_esa.cci.lc_pc_300m_s_{year}0101_{year}1231_go_epsg.4326_v20230616, propagating year 2020\n",
      "Year 2022 not available for layer pft.grass.man_esa.cci.lc_pc_300m_s_{year}0101_{year}1231_go_epsg.4326_v20230616, propagating year 2020\n",
      "Year 2022 not available for layer pft.grass.nat_esa.cci.lc_pc_300m_s_{year}0101_{year}1231_go_epsg.4326_v20230616, propagating year 2020\n",
      "Year 2022 not available for layer pft.shrubs.bd_esa.cci.lc_pc_300m_s_{year}0101_{year}1231_go_epsg.4326_v20230616, propagating year 2020\n",
      "Year 2022 not available for layer pft.shrubs.be_esa.cci.lc_pc_300m_s_{year}0101_{year}1231_go_epsg.4326_v20230616, propagating year 2020\n",
      "Year 2022 not available for layer pft.shrubs.nd_esa.cci.lc_pc_300m_s_{year}0101_{year}1231_go_epsg.4326_v20230616, propagating year 2020\n",
      "Year 2022 not available for layer pft.shrubs.ne_esa.cci.lc_pc_300m_s_{year}0101_{year}1231_go_epsg.4326_v20230616, propagating year 2020\n",
      "Year 2022 not available for layer pft.snowice_esa.cci.lc_pc_300m_s_{year}0101_{year}1231_go_epsg.4326_v20230616, propagating year 2020\n",
      "Year 2022 not available for layer pft.trees.bd_esa.cci.lc_pc_300m_s_{year}0101_{year}1231_go_epsg.4326_v20230616, propagating year 2020\n",
      "Year 2022 not available for layer pft.trees.be_esa.cci.lc_pc_300m_s_{year}0101_{year}1231_go_epsg.4326_v20230616, propagating year 2020\n",
      "Year 2022 not available for layer pft.trees.nd_esa.cci.lc_pc_300m_s_{year}0101_{year}1231_go_epsg.4326_v20230616, propagating year 2020\n",
      "Year 2022 not available for layer pft.trees.ne_esa.cci.lc_pc_300m_s_{year}0101_{year}1231_go_epsg.4326_v20230616, propagating year 2020\n",
      "Year 2022 not available for layer pft.water.inland_esa.cci.lc_pc_300m_s_{year}0101_{year}1231_go_epsg.4326_v20230616, propagating year 2020\n",
      "Year 2022 not available for layer pft.water_esa.cci.lc_pc_300m_s_{year}0101_{year}1231_go_epsg.4326_v20230616, propagating year 2020\n",
      "Year 2022 not available for layer clm_lst_mod11a2.daytime_p05_1km_s0..0cm_{year}_v1.2, propagating year 2021\n",
      "Year 2022 not available for layer clm_lst_mod11a2.daytime_p50_1km_s0..0cm_{year}_v1.2, propagating year 2021\n",
      "Year 2022 not available for layer clm_lst_mod11a2.daytime_p95_1km_s0..0cm_{year}_v1.2, propagating year 2021\n",
      "Year 2022 not available for layer clm_lst_mod11a2.nighttime_p05_1km_s0..0cm_{year}_v1.2, propagating year 2021\n",
      "Year 2022 not available for layer clm_lst_mod11a2.nighttime_p50_1km_s0..0cm_{year}_v1.2, propagating year 2021\n",
      "Year 2022 not available for layer clm_lst_mod11a2.nighttime_p95_1km_s0..0cm_{year}_v1.2, propagating year 2021\n",
      "Year 2023 not available for layer bsf_glad.landsat.ard2.seasconv.m.yearly_sum_30m_s_{year}0101_{year}1231_eu_epsg.3035_v20231127, propagating year 2022\n",
      "Year 2023 not available for layer cropland.extent_glad.interpolate_p_30m_s_{year}0101_{year}1231_eu_epsg.3035_v20240604, propagating year 2022\n",
      "Year 2023 not available for layer ndti.min_glad.landsat.ard2.seasconv.bimonthly.min_m_30m_s_{year}0101_{year}1231_eu_epsg.3035_v20231218, propagating year 2022\n",
      "Year 2023 not available for layer nos_glad.landsat.ard2.seasconv_m_30m_s_{year}0101_{year}1231_eu_epsg.3035_v20231127, propagating year 2022\n",
      "Year 2023 not available for layer cdr_glad.landsat.seasconv_m_30m_s_{year}0101_{year}1231_eu_epsg.3035_v20231127, propagating year 2022\n",
      "Year 2023 not available for layer clm_accum.precipitation_chelsa.annual_m_1km_s0..0cm_{year}_v2.1, propagating year 2018\n",
      "Year 2023 not available for layer pft.bare_esa.cci.lc_pc_300m_s_{year}0101_{year}1231_go_epsg.4326_v20230616, propagating year 2020\n",
      "Year 2023 not available for layer pft.built_esa.cci.lc_pc_300m_s_{year}0101_{year}1231_go_epsg.4326_v20230616, propagating year 2020\n",
      "Year 2023 not available for layer pft.grass.man_esa.cci.lc_pc_300m_s_{year}0101_{year}1231_go_epsg.4326_v20230616, propagating year 2020\n",
      "Year 2023 not available for layer pft.grass.nat_esa.cci.lc_pc_300m_s_{year}0101_{year}1231_go_epsg.4326_v20230616, propagating year 2020\n",
      "Year 2023 not available for layer pft.shrubs.bd_esa.cci.lc_pc_300m_s_{year}0101_{year}1231_go_epsg.4326_v20230616, propagating year 2020\n",
      "Year 2023 not available for layer pft.shrubs.be_esa.cci.lc_pc_300m_s_{year}0101_{year}1231_go_epsg.4326_v20230616, propagating year 2020\n",
      "Year 2023 not available for layer pft.shrubs.nd_esa.cci.lc_pc_300m_s_{year}0101_{year}1231_go_epsg.4326_v20230616, propagating year 2020\n",
      "Year 2023 not available for layer pft.shrubs.ne_esa.cci.lc_pc_300m_s_{year}0101_{year}1231_go_epsg.4326_v20230616, propagating year 2020\n",
      "Year 2023 not available for layer pft.snowice_esa.cci.lc_pc_300m_s_{year}0101_{year}1231_go_epsg.4326_v20230616, propagating year 2020\n",
      "Year 2023 not available for layer pft.trees.bd_esa.cci.lc_pc_300m_s_{year}0101_{year}1231_go_epsg.4326_v20230616, propagating year 2020\n",
      "Year 2023 not available for layer pft.trees.be_esa.cci.lc_pc_300m_s_{year}0101_{year}1231_go_epsg.4326_v20230616, propagating year 2020\n",
      "Year 2023 not available for layer pft.trees.nd_esa.cci.lc_pc_300m_s_{year}0101_{year}1231_go_epsg.4326_v20230616, propagating year 2020\n",
      "Year 2023 not available for layer pft.trees.ne_esa.cci.lc_pc_300m_s_{year}0101_{year}1231_go_epsg.4326_v20230616, propagating year 2020\n",
      "Year 2023 not available for layer pft.water.inland_esa.cci.lc_pc_300m_s_{year}0101_{year}1231_go_epsg.4326_v20230616, propagating year 2020\n",
      "Year 2023 not available for layer pft.water_esa.cci.lc_pc_300m_s_{year}0101_{year}1231_go_epsg.4326_v20230616, propagating year 2020\n",
      "Year 2023 not available for layer blue_glad.landsat.ard2.seasconv.m.yearly_p25_30m_s_{year}0101_{year}1231_eu_epsg.3035_v20231127, propagating year 2022\n",
      "Year 2023 not available for layer blue_glad.landsat.ard2.seasconv.m.yearly_p50_30m_s_{year}0101_{year}1231_eu_epsg.3035_v20231127, propagating year 2022\n",
      "Year 2023 not available for layer blue_glad.landsat.ard2.seasconv.m.yearly_p75_30m_s_{year}0101_{year}1231_eu_epsg.3035_v20231127, propagating year 2022\n",
      "Year 2023 not available for layer green_glad.landsat.ard2.seasconv.m.yearly_p25_30m_s_{year}0101_{year}1231_eu_epsg.3035_v20231127, propagating year 2022\n",
      "Year 2023 not available for layer green_glad.landsat.ard2.seasconv.m.yearly_p50_30m_s_{year}0101_{year}1231_eu_epsg.3035_v20231127, propagating year 2022\n",
      "Year 2023 not available for layer green_glad.landsat.ard2.seasconv.m.yearly_p75_30m_s_{year}0101_{year}1231_eu_epsg.3035_v20231127, propagating year 2022\n",
      "Year 2023 not available for layer ndti_glad.landast.ard2.seasconv.m.yearly_p25_30m_s_{year}0101_{year}1231_eu_epsg.3035_v20231127, propagating year 2022\n",
      "Year 2023 not available for layer ndti_glad.landast.ard2.seasconv.m.yearly_p50_30m_s_{year}0101_{year}1231_eu_epsg.3035_v20231127, propagating year 2022\n",
      "Year 2023 not available for layer ndti_glad.landast.ard2.seasconv.m.yearly_p75_30m_s_{year}0101_{year}1231_eu_epsg.3035_v20231127, propagating year 2022\n",
      "Year 2023 not available for layer ndvi_glad.landast.ard2.seasconv.m.yearly_p25_30m_s_{year}0101_{year}1231_eu_epsg.3035_v20231127, propagating year 2022\n",
      "Year 2023 not available for layer ndvi_glad.landast.ard2.seasconv.m.yearly_p50_30m_s_{year}0101_{year}1231_eu_epsg.3035_v20231127, propagating year 2022\n",
      "Year 2023 not available for layer ndvi_glad.landast.ard2.seasconv.m.yearly_p75_30m_s_{year}0101_{year}1231_eu_epsg.3035_v20231127, propagating year 2022\n",
      "Year 2023 not available for layer ndwi.gao_glad.landsat.ard2.seasconv.m.yearly_p25_30m_s_{year}0101_{year}1231_eu_epsg.3035_v20231218, propagating year 2022\n",
      "Year 2023 not available for layer ndwi.gao_glad.landsat.ard2.seasconv.m.yearly_p50_30m_s_{year}0101_{year}1231_eu_epsg.3035_v20231218, propagating year 2022\n",
      "Year 2023 not available for layer ndwi.gao_glad.landsat.ard2.seasconv.m.yearly_p75_30m_s_{year}0101_{year}1231_eu_epsg.3035_v20231218, propagating year 2022\n",
      "Year 2023 not available for layer nir_glad.landsat.ard2.seasconv.m.yearly_p25_30m_s_{year}0101_{year}1231_eu_epsg.3035_v20231127, propagating year 2022\n",
      "Year 2023 not available for layer nir_glad.landsat.ard2.seasconv.m.yearly_p50_30m_s_{year}0101_{year}1231_eu_epsg.3035_v20231127, propagating year 2022\n",
      "Year 2023 not available for layer nir_glad.landsat.ard2.seasconv.m.yearly_p75_30m_s_{year}0101_{year}1231_eu_epsg.3035_v20231127, propagating year 2022\n",
      "Year 2023 not available for layer red_glad.landsat.ard2.seasconv.m.yearly_p25_30m_s_{year}0101_{year}1231_eu_epsg.3035_v20231127, propagating year 2022\n",
      "Year 2023 not available for layer red_glad.landsat.ard2.seasconv.m.yearly_p50_30m_s_{year}0101_{year}1231_eu_epsg.3035_v20231127, propagating year 2022\n",
      "Year 2023 not available for layer red_glad.landsat.ard2.seasconv.m.yearly_p75_30m_s_{year}0101_{year}1231_eu_epsg.3035_v20231127, propagating year 2022\n",
      "Year 2023 not available for layer swir1_glad.landsat.ard2.seasconv.m.yearly_p25_30m_s_{year}0101_{year}1231_eu_epsg.3035_v20231127, propagating year 2022\n",
      "Year 2023 not available for layer swir1_glad.landsat.ard2.seasconv.m.yearly_p50_30m_s_{year}0101_{year}1231_eu_epsg.3035_v20231127, propagating year 2022\n",
      "Year 2023 not available for layer swir1_glad.landsat.ard2.seasconv.m.yearly_p75_30m_s_{year}0101_{year}1231_eu_epsg.3035_v20231127, propagating year 2022\n",
      "Year 2023 not available for layer swir2_glad.landsat.ard2.seasconv.m.yearly_p25_30m_s_{year}0101_{year}1231_eu_epsg.3035_v20231127, propagating year 2022\n",
      "Year 2023 not available for layer swir2_glad.landsat.ard2.seasconv.m.yearly_p50_30m_s_{year}0101_{year}1231_eu_epsg.3035_v20231127, propagating year 2022\n",
      "Year 2023 not available for layer swir2_glad.landsat.ard2.seasconv.m.yearly_p75_30m_s_{year}0101_{year}1231_eu_epsg.3035_v20231127, propagating year 2022\n",
      "Year 2023 not available for layer thermal_glad.landsat.ard2.seasconv.m.yearly_p25_30m_s_{year}0101_{year}1231_eu_epsg.3035_v20231127, propagating year 2022\n",
      "Year 2023 not available for layer thermal_glad.landsat.ard2.seasconv.m.yearly_p50_30m_s_{year}0101_{year}1231_eu_epsg.3035_v20231127, propagating year 2022\n",
      "Year 2023 not available for layer thermal_glad.landsat.ard2.seasconv.m.yearly_p75_30m_s_{year}0101_{year}1231_eu_epsg.3035_v20231127, propagating year 2022\n",
      "Year 2023 not available for layer clm_lst_mod11a2.daytime_p05_1km_s0..0cm_{year}_v1.2, propagating year 2021\n",
      "Year 2023 not available for layer clm_lst_mod11a2.daytime_p50_1km_s0..0cm_{year}_v1.2, propagating year 2021\n",
      "Year 2023 not available for layer clm_lst_mod11a2.daytime_p95_1km_s0..0cm_{year}_v1.2, propagating year 2021\n",
      "Year 2023 not available for layer clm_lst_mod11a2.nighttime_p05_1km_s0..0cm_{year}_v1.2, propagating year 2021\n",
      "Year 2023 not available for layer clm_lst_mod11a2.nighttime_p50_1km_s0..0cm_{year}_v1.2, propagating year 2021\n",
      "Year 2023 not available for layer clm_lst_mod11a2.nighttime_p95_1km_s0..0cm_{year}_v1.2, propagating year 2021\n",
      "Year 2023 not available for layer wv_mcd19a2v061.seasconv.m.yearly_sd_1km_s_{year}0101_{year}1231_go_epsg.4326_v20230619, propagating year 2022\n",
      "Year 2023 not available for layer wv_mcd19a2v061.seasconv.m.yearly_p25_1km_s_{year}0101_{year}1231_go_epsg.4326_v20230619, propagating year 2022\n",
      "Year 2023 not available for layer wv_mcd19a2v061.seasconv.m.yearly_p50_1km_s_{year}0101_{year}1231_go_epsg.4326_v20230619, propagating year 2022\n",
      "Year 2023 not available for layer wv_mcd19a2v061.seasconv.m.yearly_p75_1km_s_{year}0101_{year}1231_go_epsg.4326_v20230619, propagating year 2022\n",
      "Year 2023 not available for layer wv_mcd19a2v061.seasconv.sd.yearly_sd_1km_s_{year}0101_{year}1231_go_epsg.4326_v20230619, propagating year 2022\n",
      "Year 2023 not available for layer wv_mcd19a2v061.seasconv.sd.yearly_p25_1km_s_{year}0101_{year}1231_go_epsg.4326_v20230619, propagating year 2022\n",
      "Year 2023 not available for layer wv_mcd19a2v061.seasconv.sd.yearly_p50_1km_s_{year}0101_{year}1231_go_epsg.4326_v20230619, propagating year 2022\n",
      "Year 2023 not available for layer wv_mcd19a2v061.seasconv.sd.yearly_p75_1km_s_{year}0101_{year}1231_go_epsg.4326_v20230619, propagating year 2022\n",
      "Year 2023 not available for layer evi_glad.landsat.ard2.seasconv_m_30m_s_{year}0101_{year}0228_eu_epsg.3035_v20231127, propagating year 2022\n",
      "Year 2023 not available for layer evi_glad.landsat.ard2.seasconv_m_30m_s_{year}0301_{year}0430_eu_epsg.3035_v20231127, propagating year 2022\n",
      "Year 2023 not available for layer evi_glad.landsat.ard2.seasconv_m_30m_s_{year}0501_{year}0630_eu_epsg.3035_v20231127, propagating year 2022\n",
      "Year 2023 not available for layer evi_glad.landsat.ard2.seasconv_m_30m_s_{year}0701_{year}0831_eu_epsg.3035_v20231127, propagating year 2022\n",
      "Year 2023 not available for layer evi_glad.landsat.ard2.seasconv_m_30m_s_{year}0901_{year}1031_eu_epsg.3035_v20231127, propagating year 2022\n",
      "Year 2023 not available for layer evi_glad.landsat.ard2.seasconv_m_30m_s_{year}1101_{year}1231_eu_epsg.3035_v20231127, propagating year 2022\n"
     ]
    }
   ],
   "source": [
    "base_path = [f'http://192.168.49.{gaia_id}:8333' for gaia_id in range(30,47)]\n",
    "GDAL_OPTS = {'GDAL_HTTP_VERSION': '1.0', 'CPL_VSIL_CURL_ALLOWED_EXTENSIONS': '.tif'}\n",
    "max_ram_mb = 750000\n",
    "n_threads = 96\n",
    "\n",
    "# read in gsheet\n",
    "gsheet_key = '/mnt/apollo/stac/gaia-319808-913d36b5fca4.json'\n",
    "gsheet_url = 'https://docs.google.com/spreadsheets/d/1lNTpzdHBG5dirYj46iBDRJMk_YAV0Um2ovBc8v3dR9w/edit?gid=78425683#gid=78425683'\n",
    "gsheet = GoogleSheet(gsheet_key, gsheet_url, verbose=False)\n",
    "\n",
    "# create catalog\n",
    "catalog = DataCatalog.create_catalog(catalog_def=gsheet.soc_change_snr, years=years, base_path=base_path, replace_group_feat_name=True)\n",
    "# catalog.save_json('soil.prop_eu.json')"
   ]
  },
  {
   "cell_type": "markdown",
   "id": "351f2569-43f0-4517-8357-2e7651d067c9",
   "metadata": {},
   "source": [
    "### overlay"
   ]
  },
  {
   "cell_type": "code",
   "execution_count": 6,
   "id": "23f3234e-ab10-43f5-a291-8104a9643195",
   "metadata": {
    "tags": []
   },
   "outputs": [
    {
     "name": "stdout",
     "output_type": "stream",
     "text": [
      "data size before overlay (10204, 29)\n"
     ]
    }
   ],
   "source": [
    "from shapely.geometry import Point\n",
    "print('data size before overlay', df.shape)\n",
    "geometry = [Point(xy) for xy in zip(df['lon_mean'], df['lat_mean'])]\n",
    "df = gpd.GeoDataFrame(df, geometry=geometry, crs=\"EPSG:4326\")"
   ]
  },
  {
   "cell_type": "code",
   "execution_count": 11,
   "id": "5741ef76-daf0-4b43-9ed6-aed8893408a3",
   "metadata": {
    "scrolled": true,
    "tags": []
   },
   "outputs": [
    {
     "name": "stdout",
     "output_type": "stream",
     "text": [
      "[10:55:45] Reading ./ard2_final_status.gpkg\n",
      "[11:00:27] Scanning blocks of 2267 layers\n",
      "[11:00:27] Finding query pixels for 0eedd36ec93fd9c99387cc8f5c320801 (34 layers)\n",
      "[11:00:27] Finding query pixels for 1111cac5fd6669660413a5daaf395e08 (11 layers)\n",
      "[11:00:29] Finding query pixels for 1c15fdb5dcc20e9188b97bbf7d255ad8 (23 layers)\n",
      "[11:00:29] Finding query pixels for 20b4790b3a160a2ac8adefedfe07fbe7 (1 layers)\n",
      "[11:00:30] Finding query pixels for 2bff5e510f1e47be04d69728dd453b6b (123 layers)\n",
      "[11:00:30] Finding query pixels for 2fbfe950e4c22a02ba7e3b52884be34f (3 layers)\n",
      "[11:00:37] Finding query pixels for 435d45ba442271d360c4ea7ec0c92bc6 (1 layers)\n",
      "[11:00:42] Finding query pixels for 4febf6577f1f162c52ad482e075d0c76 (7 layers)\n",
      "[11:01:00] Finding query pixels for 56140668da1ff98e935fb06418a942f2 (1 layers)\n",
      "[11:01:11] Finding query pixels for 60c20556ded90f9aa6601c805ff37e11 (10 layers)\n",
      "[11:01:40] Finding query pixels for 660960b8a39c6afeae9171be064ae057 (1000 layers)\n",
      "[11:01:57] Finding query pixels for 67d1c8ae1f1ff92ae4147038afb08e2b (10 layers)\n",
      "[11:01:57] Finding query pixels for 6df3e8a271732db3b9607012924e00d9 (1 layers)\n",
      "[11:02:09] Finding query pixels for 6ed680f0705ae492bb83f45e130f7980 (1 layers)\n",
      "[11:02:09] Finding query pixels for 725e180fc0b4da112983d7131869020a (10 layers)\n",
      "[11:02:09] Finding query pixels for 73f5cefd0637dd3db3954e1ad63a1fac (1 layers)\n",
      "[11:02:35] Finding query pixels for 741e70ee94219b346a230b59d312a20d (4 layers)\n",
      "[11:02:52] Finding query pixels for 7c8a64ee2ec5950fa58ad3d6cffd6c64 (1 layers)\n",
      "[11:02:54] Finding query pixels for 82b14127aedf4840b02b3a63f38f9d3a (192 layers)\n",
      "[11:02:54] Finding query pixels for 88cae960bc1da66c8a769730a4a4004b (6 layers)\n",
      "[11:03:31] Finding query pixels for 922fbfb1bd358ca87af1803a9da7ef6c (24 layers)\n",
      "[11:03:31] Finding query pixels for a252e434b807da2663ef4849b1b74890 (5 layers)\n",
      "[11:03:37] Finding query pixels for a3552eafbe5e63b1d596ecab2408aa1b (4 layers)\n",
      "[11:03:37] Finding query pixels for ad826e322c50da2638031907c06f8c3a (360 layers)\n",
      "[11:03:38] Finding query pixels for bf9356f70e233f1c957ce4b3afa21060 (1 layers)\n",
      "[11:04:26] Finding query pixels for c1efe9f56ad3faec93b7ebd6c22f3b44 (1 layers)\n",
      "[11:04:27] Finding query pixels for cadb78e8914f298fc9fcc8c1bf545c5f (144 layers)\n",
      "[11:04:27] Finding query pixels for d078d6a9f00a04bfea0f357eda113e12 (4 layers)\n",
      "[11:04:33] Finding query pixels for d2d3edaee8fa7d225dd92d9cde49bb0a (46 layers)\n",
      "[11:04:33] Finding query pixels for ea4394b71841b299979376c6d822b513 (12 layers)\n",
      "[11:04:34] Finding query pixels for ebe5ac182537081e79c259a3002b39fb (10 layers)\n",
      "[11:04:34] Finding query pixels for f36bf6d46c61a893ba043e68eb7ede16 (216 layers)\n",
      "[11:04:35] End\n",
      "Dropping 0 points out of 10204 because out of extent\n",
      "Extraction of overlay meta-data: 530.37 s\n"
     ]
    }
   ],
   "source": [
    "## ____________________test____________________________-\n",
    "\n",
    "start = time.time()\n",
    "space_overlay = SpaceOverlay(\n",
    "        # col_date='time',\n",
    "        points=df, \n",
    "        catalog=catalog,\n",
    "        raster_tiles='./ard2_final_status.gpkg',\n",
    "        verbose=True,\n",
    "        n_threads=n_threads,\n",
    "        tile_id_col='TILE')\n",
    "\n",
    "print(f\"Extraction of overlay meta-data: {(time.time() - start):.2f} s\")\n"
   ]
  },
  {
   "cell_type": "code",
   "execution_count": 12,
   "id": "7c539448-a4ae-46dc-b31e-d4fc43dbc8be",
   "metadata": {
    "scrolled": true,
    "tags": []
   },
   "outputs": [
    {
     "name": "stdout",
     "output_type": "stream",
     "text": [
      "[11:04:35] Loading and sampling 34 raster layers for group 0eedd36ec93fd9c99387cc8f5c320801\n",
      "[11:04:36] Loading and sampling 11 raster layers for group 1111cac5fd6669660413a5daaf395e08\n",
      "[11:04:51] Loading and sampling 23 raster layers for group 1c15fdb5dcc20e9188b97bbf7d255ad8\n",
      "[11:04:52] Loading and sampling 1 raster layers for group 20b4790b3a160a2ac8adefedfe07fbe7\n",
      "[11:04:53] Loading and sampling 123 raster layers for group 2bff5e510f1e47be04d69728dd453b6b\n",
      "[11:05:02] Loading and sampling 3 raster layers for group 2fbfe950e4c22a02ba7e3b52884be34f\n",
      "[11:05:21] Loading and sampling 1 raster layers for group 435d45ba442271d360c4ea7ec0c92bc6\n",
      "[11:05:23] Loading and sampling 7 raster layers for group 4febf6577f1f162c52ad482e075d0c76\n",
      "[11:05:49] Loading and sampling 1 raster layers for group 56140668da1ff98e935fb06418a942f2\n",
      "[11:06:04] Loading and sampling 10 raster layers for group 60c20556ded90f9aa6601c805ff37e11\n",
      "[11:07:18] Loading and sampling 1000 raster layers for group 660960b8a39c6afeae9171be064ae057\n",
      "[11:54:28] Loading and sampling 10 raster layers for group 67d1c8ae1f1ff92ae4147038afb08e2b\n",
      "[11:54:32] Loading and sampling 1 raster layers for group 6df3e8a271732db3b9607012924e00d9\n",
      "[11:54:47] Loading and sampling 1 raster layers for group 6ed680f0705ae492bb83f45e130f7980\n",
      "[11:54:47] Loading and sampling 10 raster layers for group 725e180fc0b4da112983d7131869020a\n",
      "[11:54:48] Loading and sampling 1 raster layers for group 73f5cefd0637dd3db3954e1ad63a1fac\n",
      "[11:54:49] Loading and sampling 4 raster layers for group 741e70ee94219b346a230b59d312a20d\n",
      "[11:54:51] Loading and sampling 1 raster layers for group 7c8a64ee2ec5950fa58ad3d6cffd6c64\n",
      "[11:54:52] Loading and sampling 192 raster layers for group 82b14127aedf4840b02b3a63f38f9d3a\n",
      "[11:54:55] Loading and sampling 6 raster layers for group 88cae960bc1da66c8a769730a4a4004b\n",
      "[11:55:34] Loading and sampling 24 raster layers for group 922fbfb1bd358ca87af1803a9da7ef6c\n",
      "[11:55:35] Loading and sampling 5 raster layers for group a252e434b807da2663ef4849b1b74890\n",
      "[11:55:52] Loading and sampling 4 raster layers for group a3552eafbe5e63b1d596ecab2408aa1b\n",
      "[11:55:53] Loading and sampling 360 raster layers for group ad826e322c50da2638031907c06f8c3a\n",
      "[11:56:09] Loading and sampling 1 raster layers for group bf9356f70e233f1c957ce4b3afa21060\n",
      "[11:56:12] Loading and sampling 1 raster layers for group c1efe9f56ad3faec93b7ebd6c22f3b44\n",
      "[11:56:12] Loading and sampling 144 raster layers for group cadb78e8914f298fc9fcc8c1bf545c5f\n",
      "[11:56:14] Loading and sampling 4 raster layers for group d078d6a9f00a04bfea0f357eda113e12\n",
      "[11:56:15] Loading and sampling 46 raster layers for group d2d3edaee8fa7d225dd92d9cde49bb0a\n",
      "[11:56:17] Loading and sampling 12 raster layers for group ea4394b71841b299979376c6d822b513\n",
      "[11:56:17] Loading and sampling 10 raster layers for group ebe5ac182537081e79c259a3002b39fb\n",
      "[11:56:17] Loading and sampling 216 raster layers for group f36bf6d46c61a893ba043e68eb7ede16\n",
      "Reading overlayed layers: 3118.78 s\n",
      "data size:  (10204, 2298)\n"
     ]
    }
   ],
   "source": [
    "start = time.time()\n",
    "ovelayed_data = space_overlay.run(gdal_opts=GDAL_OPTS, max_ram_mb=max_ram_mb, out_file_name=f\"soc.snr_series_overlaid_{version}.pq\")\n",
    "print(f\"Reading overlayed layers: {(time.time() - start):.2f} s\")\n",
    "print(f'data size: ', ovelayed_data.shape)"
   ]
  },
  {
   "cell_type": "code",
   "execution_count": null,
   "id": "143cc8a4-309e-48e0-a237-48be7fbd048a",
   "metadata": {},
   "outputs": [],
   "source": []
  }
 ],
 "metadata": {
  "kernelspec": {
   "display_name": "Python 3 (ipykernel)",
   "language": "python",
   "name": "python3"
  },
  "language_info": {
   "codemirror_mode": {
    "name": "ipython",
    "version": 3
   },
   "file_extension": ".py",
   "mimetype": "text/x-python",
   "name": "python",
   "nbconvert_exporter": "python",
   "pygments_lexer": "ipython3",
   "version": "3.8.16"
  }
 },
 "nbformat": 4,
 "nbformat_minor": 5
}
