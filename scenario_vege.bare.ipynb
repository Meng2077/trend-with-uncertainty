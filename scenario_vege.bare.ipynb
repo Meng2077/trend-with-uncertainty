{
 "cells": [
  {
   "cell_type": "markdown",
   "id": "3f144315-7e3e-4bff-84e2-349563dbf5fc",
   "metadata": {},
   "source": [
    "### Compare the model performance:\n",
    "- prediction\n",
    "- uncertainty estimation\n",
    "\n",
    "for scenarios of permanently vegetated area/bare soil/and excluding others (e.g. water, road, etc).\n",
    "And then continue the SNR analysis with the more promising one."
   ]
  },
  {
   "cell_type": "code",
   "execution_count": null,
   "id": "d368ea7f-c45b-4e18-9556-12f26f2da911",
   "metadata": {},
   "outputs": [],
   "source": []
  }
 ],
 "metadata": {
  "kernelspec": {
   "display_name": "Python 3 (ipykernel)",
   "language": "python",
   "name": "python3"
  },
  "language_info": {
   "codemirror_mode": {
    "name": "ipython",
    "version": 3
   },
   "file_extension": ".py",
   "mimetype": "text/x-python",
   "name": "python",
   "nbconvert_exporter": "python",
   "pygments_lexer": "ipython3",
   "version": "3.8.16"
  }
 },
 "nbformat": 4,
 "nbformat_minor": 5
}
