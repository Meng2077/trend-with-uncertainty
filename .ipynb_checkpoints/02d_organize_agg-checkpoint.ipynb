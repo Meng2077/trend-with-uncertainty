{
 "cells": [
  {
   "cell_type": "code",
   "execution_count": 1,
   "id": "e361fa19-d74a-4c04-a603-259fbc2f93f5",
   "metadata": {
    "tags": []
   },
   "outputs": [],
   "source": [
    "import os\n",
    "os.environ['USE_PYGEOS'] = '0'\n",
    "import geopandas as gpd\n",
    "import sys\n",
    "import pathlib\n",
    "import os\n",
    "from skmap.catalog import DataCatalog\n",
    "# from skmap.loader import TiledDataLoader\n",
    "from skmap.overlay import SpaceOverlay, SpaceTimeOverlay\n",
    "from skmap.misc import find_files, GoogleSheet, ttprint\n",
    "from osgeo.gdal import BuildVRT, SetConfigOption\n",
    "import random\n",
    "import pandas as pd\n",
    "import time\n",
    "import skmap_bindings as sb\n",
    "import numpy as np\n",
    "from shapely.geometry import Point\n",
    "from geopandas import gpd \n",
    "\n",
    "version = 'v20250521'\n"
   ]
  },
  {
   "cell_type": "markdown",
   "id": "94b5afeb-e22c-467f-835e-b326a6dcbb39",
   "metadata": {},
   "source": [
    "## discretization points"
   ]
  },
  {
   "cell_type": "code",
   "execution_count": 2,
   "id": "681c3c4c-1fb3-4a79-a028-5abd9698aeb8",
   "metadata": {},
   "outputs": [
    {
     "name": "stdout",
     "output_type": "stream",
     "text": [
      "[08:14:11] read 50\n",
      "(863365, 17)\n",
      "[08:16:59] read 100\n",
      "(220170, 24)\n",
      "[08:18:07] read 200\n",
      "(53954, 19)\n"
     ]
    },
    {
     "name": "stderr",
     "output_type": "stream",
     "text": [
      "/opt/conda/lib/python3.8/site-packages/geopandas/geodataframe.py:1538: SettingWithCopyWarning: \n",
      "A value is trying to be set on a copy of a slice from a DataFrame.\n",
      "Try using .loc[row_indexer,col_indexer] = value instead\n",
      "\n",
      "See the caveats in the documentation: https://pandas.pydata.org/pandas-docs/stable/user_guide/indexing.html#returning-a-view-versus-a-copy\n",
      "  super().__setitem__(key, value)\n",
      "/opt/conda/lib/python3.8/site-packages/geopandas/geodataframe.py:1538: SettingWithCopyWarning: \n",
      "A value is trying to be set on a copy of a slice from a DataFrame.\n",
      "Try using .loc[row_indexer,col_indexer] = value instead\n",
      "\n",
      "See the caveats in the documentation: https://pandas.pydata.org/pandas-docs/stable/user_guide/indexing.html#returning-a-view-versus-a-copy\n",
      "  super().__setitem__(key, value)\n"
     ]
    }
   ],
   "source": [
    "sizes = ['50','100','200'] #\n",
    "\n",
    "pnt = []\n",
    "for isize in sizes:\n",
    "    ttprint(f'read {isize}')\n",
    "    ip = gpd.read_file(f'./material/pnt_all.{isize}km_agg.gpkg')\n",
    "    ip['size'] = f'{isize}km'\n",
    "    \n",
    "    # poly = gpd.read_file(f'./material/grid_all.{isize}km_agg.gpkg')\n",
    "\n",
    "    pnt.append(ip)\n",
    "    print(ip.shape)"
   ]
  },
  {
   "cell_type": "code",
   "execution_count": 72,
   "id": "7dc7a895-8775-4845-bf80-7af952972408",
   "metadata": {
    "tags": []
   },
   "outputs": [
    {
     "name": "stderr",
     "output_type": "stream",
     "text": [
      "/opt/conda/lib/python3.8/site-packages/geopandas/geodataframe.py:1538: SettingWithCopyWarning: \n",
      "A value is trying to be set on a copy of a slice from a DataFrame.\n",
      "Try using .loc[row_indexer,col_indexer] = value instead\n",
      "\n",
      "See the caveats in the documentation: https://pandas.pydata.org/pandas-docs/stable/user_guide/indexing.html#returning-a-view-versus-a-copy\n",
      "  super().__setitem__(key, value)\n",
      "/opt/conda/lib/python3.8/site-packages/geopandas/geodataframe.py:1538: SettingWithCopyWarning: \n",
      "A value is trying to be set on a copy of a slice from a DataFrame.\n",
      "Try using .loc[row_indexer,col_indexer] = value instead\n",
      "\n",
      "See the caveats in the documentation: https://pandas.pydata.org/pandas-docs/stable/user_guide/indexing.html#returning-a-view-versus-a-copy\n",
      "  super().__setitem__(key, value)\n",
      "/opt/conda/lib/python3.8/site-packages/geopandas/geodataframe.py:1538: SettingWithCopyWarning: \n",
      "A value is trying to be set on a copy of a slice from a DataFrame.\n",
      "Try using .loc[row_indexer,col_indexer] = value instead\n",
      "\n",
      "See the caveats in the documentation: https://pandas.pydata.org/pandas-docs/stable/user_guide/indexing.html#returning-a-view-versus-a-copy\n",
      "  super().__setitem__(key, value)\n"
     ]
    }
   ],
   "source": [
    "ip50 = pnt[0][['id','CNTR_CODE', 'geometry', 'size']]\n",
    "ip100 = pnt[1][['id','CNTR_CODE', 'geometry', 'size']]\n",
    "ip200 = pnt[2][['id','CNTR_CODE', 'geometry', 'size']]\n",
    "\n",
    "ip50['50km'] = 1\n",
    "ip50['100km'] = 0\n",
    "ip50['200km'] = 0\n",
    "ip50.loc[ip50['geometry'].isin(ip100['geometry']), '100km'] = 1\n",
    "ip50.loc[ip50['geometry'].isin(ip200['geometry']), '200km'] = 1\n",
    "\n",
    "ip50 = ip50.rename(columns={'CNTR_CODE':'nuts0'})\n",
    "\n",
    "# ip50['100km'].sum()/len(ip50)\n",
    "# ip50['200km'].sum()/ip50['100km'].sum()"
   ]
  },
  {
   "cell_type": "code",
   "execution_count": 73,
   "id": "f84bf42b-0f0e-4467-bbf7-2061848cbb85",
   "metadata": {
    "tags": []
   },
   "outputs": [],
   "source": [
    "# read in polygons\n",
    "polygon = []\n",
    "for isize in sizes:\n",
    "    poly = gpd.read_file(f'./material/grid_all.{isize}km_agg.gpkg')\n",
    "    poly[f'id_{isize}km'] = poly.index\n",
    "    polygon.append(poly)\n",
    "    \n",
    "    #join with grids\n",
    "    ip50 = gpd.sjoin(ip50, poly[[f'id_{isize}km', 'geometry']], how='left', predicate='within')\n",
    "    ip50 = ip50.drop(columns=['index_right'])\n",
    "    \n",
    "    # only keep grids with enough discretinization points\n",
    "    group_counts = ip50.loc[ip50[f'{isize}km']==1].groupby(f'id_{isize}km').size().reset_index(name='count')\n",
    "    keep_ids = group_counts.loc[group_counts['count']>2000,f'id_{isize}km'].tolist()\n",
    "    poly = poly.loc[poly[f'id_{isize}km'].isin(keep_ids), ['CNTR_CODE','geometry', f'id_{isize}km']]\n",
    "    poly.to_file(f'./material/grid_all.{isize}km_agg.{version}.gpkg')\n",
    "    \n",
    "    # mark points outsize valid grids\n",
    "    ip50.loc[~ip50[f'id_{isize}km'].isin(keep_ids), f'{isize}km'] = 0"
   ]
  },
  {
   "cell_type": "code",
   "execution_count": 80,
   "id": "5bab90c1-0622-45e5-bc7b-0f006a58a15e",
   "metadata": {
    "tags": []
   },
   "outputs": [],
   "source": [
    "ipf = ip50.loc[(ip50['50km']==1)|(ip50['100km']==1)|(ip50['200km']==1)]"
   ]
  },
  {
   "cell_type": "code",
   "execution_count": 82,
   "id": "c8691a53-4a94-4b3f-820b-8b7c4536035c",
   "metadata": {
    "tags": []
   },
   "outputs": [
    {
     "name": "stderr",
     "output_type": "stream",
     "text": [
      "/opt/conda/lib/python3.8/site-packages/geopandas/geodataframe.py:1538: SettingWithCopyWarning: \n",
      "A value is trying to be set on a copy of a slice from a DataFrame.\n",
      "Try using .loc[row_indexer,col_indexer] = value instead\n",
      "\n",
      "See the caveats in the documentation: https://pandas.pydata.org/pandas-docs/stable/user_guide/indexing.html#returning-a-view-versus-a-copy\n",
      "  super().__setitem__(key, value)\n"
     ]
    }
   ],
   "source": [
    "from shapely.geometry import Point, MultiPoint\n",
    "\n",
    "def convert_multipoint_to_point(geom):\n",
    "    if isinstance(geom, MultiPoint) and len(geom.geoms) == 1:\n",
    "        return geom.geoms[0]  # extract the single Point\n",
    "    return geom  # leave unchanged if already Point or other\n",
    "\n",
    "ipf['geometry'] = ipf['geometry'].apply(convert_multipoint_to_point)\n",
    "ipf = ipf.drop(columns=['size'])\n",
    "ipf['id'] = ipf.index"
   ]
  },
  {
   "cell_type": "code",
   "execution_count": 84,
   "id": "2dfeb001-8888-44f1-aa7a-f312eb4eb623",
   "metadata": {
    "tags": []
   },
   "outputs": [
    {
     "name": "stdout",
     "output_type": "stream",
     "text": [
      "0.862081506662883\n"
     ]
    },
    {
     "data": {
      "text/html": [
       "<div>\n",
       "<style scoped>\n",
       "    .dataframe tbody tr th:only-of-type {\n",
       "        vertical-align: middle;\n",
       "    }\n",
       "\n",
       "    .dataframe tbody tr th {\n",
       "        vertical-align: top;\n",
       "    }\n",
       "\n",
       "    .dataframe thead th {\n",
       "        text-align: right;\n",
       "    }\n",
       "</style>\n",
       "<table border=\"1\" class=\"dataframe\">\n",
       "  <thead>\n",
       "    <tr style=\"text-align: right;\">\n",
       "      <th></th>\n",
       "      <th>id</th>\n",
       "      <th>nuts0</th>\n",
       "      <th>geometry</th>\n",
       "      <th>50km</th>\n",
       "      <th>100km</th>\n",
       "      <th>200km</th>\n",
       "      <th>id_50km</th>\n",
       "      <th>id_100km</th>\n",
       "      <th>id_200km</th>\n",
       "    </tr>\n",
       "  </thead>\n",
       "  <tbody>\n",
       "    <tr>\n",
       "      <th>322</th>\n",
       "      <td>322</td>\n",
       "      <td>DE</td>\n",
       "      <td>POINT (4046952.408 3192085.582)</td>\n",
       "      <td>1</td>\n",
       "      <td>0</td>\n",
       "      <td>0</td>\n",
       "      <td>280.0</td>\n",
       "      <td>93.0</td>\n",
       "      <td>32.0</td>\n",
       "    </tr>\n",
       "    <tr>\n",
       "      <th>323</th>\n",
       "      <td>323</td>\n",
       "      <td>DE</td>\n",
       "      <td>POINT (4046952.408 3191085.582)</td>\n",
       "      <td>1</td>\n",
       "      <td>0</td>\n",
       "      <td>0</td>\n",
       "      <td>280.0</td>\n",
       "      <td>93.0</td>\n",
       "      <td>32.0</td>\n",
       "    </tr>\n",
       "    <tr>\n",
       "      <th>324</th>\n",
       "      <td>324</td>\n",
       "      <td>DE</td>\n",
       "      <td>POINT (4046952.408 3190085.582)</td>\n",
       "      <td>1</td>\n",
       "      <td>0</td>\n",
       "      <td>0</td>\n",
       "      <td>280.0</td>\n",
       "      <td>93.0</td>\n",
       "      <td>32.0</td>\n",
       "    </tr>\n",
       "    <tr>\n",
       "      <th>325</th>\n",
       "      <td>325</td>\n",
       "      <td>DE</td>\n",
       "      <td>POINT (4046952.408 3189085.582)</td>\n",
       "      <td>1</td>\n",
       "      <td>0</td>\n",
       "      <td>0</td>\n",
       "      <td>280.0</td>\n",
       "      <td>93.0</td>\n",
       "      <td>32.0</td>\n",
       "    </tr>\n",
       "    <tr>\n",
       "      <th>326</th>\n",
       "      <td>326</td>\n",
       "      <td>DE</td>\n",
       "      <td>POINT (4046952.408 3188085.582)</td>\n",
       "      <td>1</td>\n",
       "      <td>0</td>\n",
       "      <td>0</td>\n",
       "      <td>280.0</td>\n",
       "      <td>93.0</td>\n",
       "      <td>32.0</td>\n",
       "    </tr>\n",
       "    <tr>\n",
       "      <th>...</th>\n",
       "      <td>...</td>\n",
       "      <td>...</td>\n",
       "      <td>...</td>\n",
       "      <td>...</td>\n",
       "      <td>...</td>\n",
       "      <td>...</td>\n",
       "      <td>...</td>\n",
       "      <td>...</td>\n",
       "      <td>...</td>\n",
       "    </tr>\n",
       "    <tr>\n",
       "      <th>861776</th>\n",
       "      <td>861776</td>\n",
       "      <td>ES</td>\n",
       "      <td>POINT (3745821.224 1856326.139)</td>\n",
       "      <td>1</td>\n",
       "      <td>0</td>\n",
       "      <td>0</td>\n",
       "      <td>264.0</td>\n",
       "      <td>83.0</td>\n",
       "      <td>27.0</td>\n",
       "    </tr>\n",
       "    <tr>\n",
       "      <th>861777</th>\n",
       "      <td>861777</td>\n",
       "      <td>ES</td>\n",
       "      <td>POINT (3745821.224 1855326.139)</td>\n",
       "      <td>1</td>\n",
       "      <td>0</td>\n",
       "      <td>0</td>\n",
       "      <td>264.0</td>\n",
       "      <td>83.0</td>\n",
       "      <td>27.0</td>\n",
       "    </tr>\n",
       "    <tr>\n",
       "      <th>861778</th>\n",
       "      <td>861778</td>\n",
       "      <td>ES</td>\n",
       "      <td>POINT (3745821.224 1854326.139)</td>\n",
       "      <td>1</td>\n",
       "      <td>0</td>\n",
       "      <td>0</td>\n",
       "      <td>264.0</td>\n",
       "      <td>83.0</td>\n",
       "      <td>27.0</td>\n",
       "    </tr>\n",
       "    <tr>\n",
       "      <th>861779</th>\n",
       "      <td>861779</td>\n",
       "      <td>ES</td>\n",
       "      <td>POINT (3745821.224 1853326.139)</td>\n",
       "      <td>1</td>\n",
       "      <td>0</td>\n",
       "      <td>0</td>\n",
       "      <td>264.0</td>\n",
       "      <td>83.0</td>\n",
       "      <td>27.0</td>\n",
       "    </tr>\n",
       "    <tr>\n",
       "      <th>861780</th>\n",
       "      <td>861780</td>\n",
       "      <td>ES</td>\n",
       "      <td>POINT (3745821.224 1852326.139)</td>\n",
       "      <td>1</td>\n",
       "      <td>0</td>\n",
       "      <td>0</td>\n",
       "      <td>264.0</td>\n",
       "      <td>83.0</td>\n",
       "      <td>27.0</td>\n",
       "    </tr>\n",
       "  </tbody>\n",
       "</table>\n",
       "<p>744291 rows × 9 columns</p>\n",
       "</div>"
      ],
      "text/plain": [
       "            id nuts0                         geometry  50km  100km  200km  \\\n",
       "322        322    DE  POINT (4046952.408 3192085.582)     1      0      0   \n",
       "323        323    DE  POINT (4046952.408 3191085.582)     1      0      0   \n",
       "324        324    DE  POINT (4046952.408 3190085.582)     1      0      0   \n",
       "325        325    DE  POINT (4046952.408 3189085.582)     1      0      0   \n",
       "326        326    DE  POINT (4046952.408 3188085.582)     1      0      0   \n",
       "...        ...   ...                              ...   ...    ...    ...   \n",
       "861776  861776    ES  POINT (3745821.224 1856326.139)     1      0      0   \n",
       "861777  861777    ES  POINT (3745821.224 1855326.139)     1      0      0   \n",
       "861778  861778    ES  POINT (3745821.224 1854326.139)     1      0      0   \n",
       "861779  861779    ES  POINT (3745821.224 1853326.139)     1      0      0   \n",
       "861780  861780    ES  POINT (3745821.224 1852326.139)     1      0      0   \n",
       "\n",
       "        id_50km  id_100km  id_200km  \n",
       "322       280.0      93.0      32.0  \n",
       "323       280.0      93.0      32.0  \n",
       "324       280.0      93.0      32.0  \n",
       "325       280.0      93.0      32.0  \n",
       "326       280.0      93.0      32.0  \n",
       "...         ...       ...       ...  \n",
       "861776    264.0      83.0      27.0  \n",
       "861777    264.0      83.0      27.0  \n",
       "861778    264.0      83.0      27.0  \n",
       "861779    264.0      83.0      27.0  \n",
       "861780    264.0      83.0      27.0  \n",
       "\n",
       "[744291 rows x 9 columns]"
      ]
     },
     "execution_count": 84,
     "metadata": {},
     "output_type": "execute_result"
    }
   ],
   "source": [
    "print(len(ipf)/len(ip50))\n",
    "ipf"
   ]
  },
  {
   "cell_type": "code",
   "execution_count": 85,
   "id": "514b950e-b2fb-4b97-85c6-7a7348e28dd7",
   "metadata": {
    "tags": []
   },
   "outputs": [],
   "source": [
    "ipf.to_file(f'./material/pnt_agg_all.{version}.gpkg')"
   ]
  },
  {
   "cell_type": "code",
   "execution_count": 91,
   "id": "bc3eebd6-5b07-4529-9af2-35b785144425",
   "metadata": {
    "tags": []
   },
   "outputs": [
    {
     "data": {
      "text/plain": [
       "<Axes: >"
      ]
     },
     "execution_count": 91,
     "metadata": {},
     "output_type": "execute_result"
    },
    {
     "data": {
      "image/png": "[encoded data removed]",
      "text/plain": [
       "<Figure size 640x480 with 1 Axes>"
      ]
     },
     "metadata": {},
     "output_type": "display_data"
    }
   ],
   "source": [
    "isize = 50\n",
    "\n",
    "ipt = ip50.loc[ip50[f'{isize}km']==1]\n",
    "# print(ipt[f'{isize}km'].sum()/len(ip50[f'id_{isize}km'].unique()))\n",
    "group_counts = ipt.groupby(f'id_{isize}km').size().reset_index(name='count')\n",
    "group_counts['count'].hist()\n",
    "\n"
   ]
  },
  {
   "cell_type": "markdown",
   "id": "b4c6a96b-872d-4286-ac5c-f43a22c8d6a2",
   "metadata": {},
   "source": [
    "## observations"
   ]
  },
  {
   "cell_type": "code",
   "execution_count": 8,
   "id": "0d63a947-310c-4d36-ae02-63871bfde67d",
   "metadata": {
    "tags": []
   },
   "outputs": [
    {
     "name": "stdout",
     "output_type": "stream",
     "text": [
      "(10204, 8)\n"
     ]
    }
   ],
   "source": [
    "df = pd.read_parquet(f'./material/srs_lucas.plausible_{version}.pq')\n",
    "df = df[['id', 'ref', 'nuts0', 'lat_mean', 'lon_mean', 'time_series', 'soc_series','lc']]\n",
    "print(df.shape)\n",
    "\n",
    "# df['time_str'] = df['time_pair'].str[0].astype(str) + '-' + df['time_pair'].str[1].astype(str) \n",
    "# df = df.loc[df['time_str'] == '2009-2018']\n",
    "# print(df.shape)\n",
    "\n",
    "gdf = gpd.GeoDataFrame(df, geometry=gpd.points_from_xy(df.lon_mean, df.lat_mean))\n",
    "gdf.crs = 'EPSG:4326'\n",
    "gdf = gdf.to_crs('EPSG:3035')"
   ]
  },
  {
   "cell_type": "code",
   "execution_count": 10,
   "id": "e1e57469-9099-439a-bfed-373479bace73",
   "metadata": {
    "tags": []
   },
   "outputs": [],
   "source": [
    "sizes = ['50','100','200']\n",
    "# join grid with paired points\n",
    "for isize in sizes:\n",
    "    poly = gpd.read_file(f'./material/grid_all.{isize}km_agg.{version}.gpkg')\n",
    "    \n",
    "    gdf = gpd.sjoin(gdf, poly, how='left', predicate='within')\n",
    "    gdf = gdf.drop(columns=['index_right','CNTR_CODE'])\n",
    "    \n",
    "#     # only keep grids with enough discretinization points\n",
    "#     group_counts = ip50.loc[ip50[f'{isize}km']==1].groupby(f'id_{isize}km').size().reset_index(name='count')\n",
    "#     keep_ids = group_counts.loc[group_counts['count']>2000,f'id_{isize}km'].tolist()\n",
    "#     poly = poly.loc[poly[f'id_{isize}km'].isin(keep_ids), ['CNTR_CODE','geometry', f'id_{isize}km']]\n",
    "#     poly.to_file(f'./material/grid_all.{isize}km_agg.{version}.gpkg')\n",
    "    \n",
    "#     # mark points outsize valid grids\n",
    "#     ip50.loc[~ip50[f'id_{isize}km'].isin(keep_ids), f'{isize}km'] = 0\n",
    "\n",
    "fdf = gdf.loc[(gdf['id_50km'].notna())|(gdf['id_100km'].notna())|(gdf['id_200km'].notna())]\n"
   ]
  },
  {
   "cell_type": "code",
   "execution_count": 15,
   "id": "3fa71d42-75f3-400e-b1a2-e5ae278cade4",
   "metadata": {
    "tags": []
   },
   "outputs": [],
   "source": [
    "fdf.to_parquet(f'./material/srs_agg_{version}.pq')"
   ]
  },
  {
   "cell_type": "code",
   "execution_count": null,
   "id": "543480f4-d964-42fb-8291-8aca0050eb04",
   "metadata": {},
   "outputs": [],
   "source": []
  }
 ],
 "metadata": {
  "kernelspec": {
   "display_name": "Python 3 (ipykernel)",
   "language": "python",
   "name": "python3"
  },
  "language_info": {
   "codemirror_mode": {
    "name": "ipython",
    "version": 3
   },
   "file_extension": ".py",
   "mimetype": "text/x-python",
   "name": "python",
   "nbconvert_exporter": "python",
   "pygments_lexer": "ipython3",
   "version": "3.8.16"
  }
 },
 "nbformat": 4,
 "nbformat_minor": 5
}
