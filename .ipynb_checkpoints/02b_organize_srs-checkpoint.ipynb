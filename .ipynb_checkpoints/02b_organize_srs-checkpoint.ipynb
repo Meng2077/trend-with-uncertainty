{
 "cells": [
  {
   "cell_type": "code",
   "execution_count": 1,
   "id": "7d4ee23e-16de-401d-98af-c6677c61ba2f",
   "metadata": {
    "tags": []
   },
   "outputs": [],
   "source": [
    "version = 'v20250521'"
   ]
  },
  {
   "cell_type": "markdown",
   "id": "a5a2cc76-096e-489b-8dc7-d0e38c98a8ee",
   "metadata": {},
   "source": [
    "## focus on lucas measurements"
   ]
  },
  {
   "cell_type": "code",
   "execution_count": 2,
   "id": "72974f32-5b5f-41e8-ad44-5da6e3a8c3d1",
   "metadata": {
    "tags": []
   },
   "outputs": [
    {
     "name": "stdout",
     "output_type": "stream",
     "text": [
      "(87684, 420)\n",
      "(62437, 420)\n"
     ]
    }
   ],
   "source": [
    "import pandas as pd\n",
    "df = pd.read_parquet(f'./material/soc.topsoil_organized_{version}.pq')\n",
    "print(df.shape)\n",
    "\n",
    "df = df.loc[df['ref']=='LUCAS']\n",
    "print(df.shape)\n",
    "\n",
    "# use carbon to nitrogen ratio\n",
    "df['c/n'] = df['soc']/df['total.n']"
   ]
  },
  {
   "cell_type": "markdown",
   "id": "0feabaef-f80f-4ecb-b730-20d6be090a8c",
   "metadata": {},
   "source": [
    "## organize time series\n",
    "- only focus on 3-pnt series"
   ]
  },
  {
   "cell_type": "code",
   "execution_count": 3,
   "id": "9f77b458-06b4-4f21-a8dd-85101beae962",
   "metadata": {
    "tags": []
   },
   "outputs": [
    {
     "name": "stdout",
     "output_type": "stream",
     "text": [
      "[12:12:12] start organizing\n",
      "[12:13:43] finish organizing\n",
      "(13429, 11)\n"
     ]
    }
   ],
   "source": [
    "lid = df.groupby('id').filter(lambda x: len(x) == 3)['id'].unique().tolist() \n",
    "    \n",
    "tcol = ['lat', 'lon', 'time', 'soc', 'c/n','lc_survey'] # time series cols\n",
    "scol = ['id', 'ref', 'nuts0'] # static cols\n",
    "mcol = ['lat', 'lon'] # cols that needs to take the average of the time series\n",
    "\n",
    "from skmap.misc import TimeTracker, ttprint\n",
    "\n",
    "ttprint('start organizing')\n",
    "tsdf = pd.DataFrame(columns=scol + [i+'_mean' for i in mcol] + [i+'_series' for i in tcol])\n",
    "for iid in lid:\n",
    "    temp = df.loc[df['id'] == iid].sort_values(by=['time'])  \n",
    "    \n",
    "    # Extract static values (first row of static columns)\n",
    "    static_vals = temp.iloc[0][scol].tolist()\n",
    "    \n",
    "    # Compute mean values for columns requiring averaging\n",
    "    mean_vals = temp[mcol].mean().tolist()\n",
    "    \n",
    "    # Extract time series values as lists\n",
    "    ts_vals = [temp[itcol].tolist() for itcol in tcol]\n",
    "    \n",
    "    # Concatenate all extracted values\n",
    "    tsdf.loc[len(tsdf)] = static_vals + mean_vals + ts_vals\n",
    "    \n",
    "ttprint('finish organizing')\n",
    "print(tsdf.shape)\n",
    "tsdf.to_parquet(f'./material/srs_lucas.all_{version}.pq')"
   ]
  },
  {
   "cell_type": "markdown",
   "id": "82e26027-7a11-4513-84bb-e2c26c4808fe",
   "metadata": {},
   "source": [
    "## calculate time series features\n"
   ]
  },
  {
   "cell_type": "code",
   "execution_count": 4,
   "id": "df61bf47-3165-404b-b68b-ec054a6858d5",
   "metadata": {
    "tags": []
   },
   "outputs": [
    {
     "name": "stderr",
     "output_type": "stream",
     "text": [
      "/opt/conda/lib/python3.8/site-packages/numpy/core/_methods.py:236: RuntimeWarning: invalid value encountered in subtract\n",
      "  x = asanyarray(arr - arrmean)\n",
      "/opt/conda/lib/python3.8/site-packages/numpy/core/_methods.py:236: RuntimeWarning: invalid value encountered in subtract\n",
      "  x = asanyarray(arr - arrmean)\n",
      "/opt/conda/lib/python3.8/site-packages/numpy/core/_methods.py:236: RuntimeWarning: invalid value encountered in subtract\n",
      "  x = asanyarray(arr - arrmean)\n",
      "/opt/conda/lib/python3.8/site-packages/numpy/core/_methods.py:236: RuntimeWarning: invalid value encountered in subtract\n",
      "  x = asanyarray(arr - arrmean)\n",
      "/opt/conda/lib/python3.8/site-packages/numpy/core/_methods.py:236: RuntimeWarning: invalid value encountered in subtract\n",
      "  x = asanyarray(arr - arrmean)\n"
     ]
    },
    {
     "name": "stdout",
     "output_type": "stream",
     "text": [
      "(13429, 20)\n"
     ]
    },
    {
     "name": "stderr",
     "output_type": "stream",
     "text": [
      "/opt/conda/lib/python3.8/site-packages/numpy/core/_methods.py:236: RuntimeWarning: invalid value encountered in subtract\n",
      "  x = asanyarray(arr - arrmean)\n"
     ]
    }
   ],
   "source": [
    "import matplotlib.pyplot as plt\n",
    "import numpy as np\n",
    "import geopy.distance\n",
    "from sklearn.linear_model import HuberRegressor, TheilSenRegressor\n",
    "\n",
    "# tsdf = pd.read_csv('./material/soc_time.series_lucas.csv')\n",
    "\n",
    "# filter\n",
    "dist = [] # distance between two consecutive samples\n",
    "lcs = [] # land cover series\n",
    "cn_std = []\n",
    "\n",
    "# change\n",
    "trend_class = [] # increase, decrease or varing\n",
    "fluctuate = [] # maximum soc absolute change\n",
    "\n",
    "# slope estimation\n",
    "huber = HuberRegressor(alpha=0.0, epsilon=1)\n",
    "tsr = TheilSenRegressor(random_state=42)\n",
    "slope = [] # linear slope\n",
    "intercept = [] # linear intercept\n",
    "score = [] # R2 of predicted linear time series\n",
    "pts = [] # predicted linear time series from linear estimator\n",
    "d_threshold = 0.5  # Define a threshold for stability\n",
    "\n",
    "\n",
    "for index, row in tsdf.iterrows():\n",
    "    soc = row['soc_series']\n",
    "    time = row['time_series']\n",
    "    cns = row['c/n_series']\n",
    "    cn_std.append(np.std(cns))\n",
    "    \n",
    "    colat = row['lat_series']\n",
    "    colon = row['lon_series']\n",
    "    \n",
    "    # distance\n",
    "    dist.append([geopy.distance.geodesic((colon[0], colat[0]),(colon[1], colat[1])).m,\n",
    "                 geopy.distance.geodesic((colon[1], colat[1]),(colon[2], colat[2])).m])\n",
    "    \n",
    "    # soc change\n",
    "    fluctuate.append([soc[1]-soc[0],soc[2]-soc[1]])\n",
    "    \n",
    "    # soc time series\n",
    "    if (soc[2] > soc[1]) and (soc[1] > soc[0]):\n",
    "        trend_class.append('increasing')\n",
    "    elif (soc[2] < soc[1]) and (soc[1] < soc[0]):\n",
    "        trend_class.append('decreasing')\n",
    "    else:\n",
    "        trend_class.append('varing')\n",
    "        \n",
    "    # land cover\n",
    "    lcs.append(row['lc_survey_series'])\n",
    "        \n",
    "    # fit linear slope\n",
    "    X = np.array(time)-2009\n",
    "    tsr.fit(X.reshape(-1, 1), np.array(soc))\n",
    "    slope.append(tsr.coef_[0])\n",
    "    intercept.append(tsr.intercept_)\n",
    "    score.append(tsr.score(X.reshape(-1, 1), np.array(soc)))\n",
    "    pts.append(tsr.predict(X.reshape(-1, 1)))\n",
    "\n",
    "tsdf['distance'] = dist\n",
    "tsdf['lc'] = lcs\n",
    "tsdf['cn_std'] = cn_std\n",
    "\n",
    "tsdf['trend_class'] = trend_class\n",
    "tsdf['fluctuation'] = fluctuate\n",
    "\n",
    "tsdf['ts_slope'] = slope\n",
    "tsdf['ts_intercept'] = intercept\n",
    "tsdf['ts_score'] = score\n",
    "tsdf['linear_ts'] = pts\n",
    "\n",
    "print(tsdf.shape)"
   ]
  },
  {
   "cell_type": "code",
   "execution_count": 5,
   "id": "20d2c86c-647e-46a6-8577-abf9ec628b72",
   "metadata": {
    "tags": []
   },
   "outputs": [
    {
     "name": "stdout",
     "output_type": "stream",
     "text": [
      "(13429, 21)\n"
     ]
    }
   ],
   "source": [
    "tsdf['dist_max'] = tsdf['distance'].apply(np.max)\n",
    "print(tsdf.shape)"
   ]
  },
  {
   "cell_type": "markdown",
   "id": "66046fa1-0269-478e-9d6c-f885b911a573",
   "metadata": {},
   "source": [
    "## Filter"
   ]
  },
  {
   "cell_type": "code",
   "execution_count": 6,
   "id": "88f961a1-c6f0-4522-9ac8-14e40ed77a42",
   "metadata": {
    "tags": []
   },
   "outputs": [
    {
     "name": "stdout",
     "output_type": "stream",
     "text": [
      "(11831, 21)\n"
     ]
    },
    {
     "data": {
      "image/png": "[encoded data removed]",
      "text/plain": [
       "<Figure size 640x480 with 1 Axes>"
      ]
     },
     "metadata": {},
     "output_type": "display_data"
    }
   ],
   "source": [
    "# distance filter\n",
    "tsdf['dist_max'].hist(bins=60, range=[0,120])\n",
    "plt.plot([30,30],[0,3500],label='Threshold')\n",
    "plt.xlabel('max distance (m)')\n",
    "plt.legend()\n",
    "\n",
    "ts = tsdf.loc[tsdf['dist_max']<30]\n",
    "# ol = tsdf.loc[tsdf['dist_max']>=40]\n",
    "print(ts.shape)"
   ]
  },
  {
   "cell_type": "code",
   "execution_count": 7,
   "id": "50a61913-c921-4d11-909e-879d8cda3257",
   "metadata": {
    "tags": []
   },
   "outputs": [
    {
     "name": "stdout",
     "output_type": "stream",
     "text": [
      "(10204, 21)\n"
     ]
    },
    {
     "data": {
      "image/png": "[encoded data removed]",
      "text/plain": [
       "<Figure size 640x480 with 1 Axes>"
      ]
     },
     "metadata": {},
     "output_type": "display_data"
    }
   ],
   "source": [
    "# carbon to nitrogen ratio filter\n",
    "ts['cn_std'].hist(bins=60, range=[0,12])\n",
    "plt.plot([3.8,3.8],[0,1400],label='Threshold')\n",
    "plt.xlabel('C/N ratio std')\n",
    "plt.legend()\n",
    "\n",
    "ts = ts.loc[ts['cn_std']<3.8]\n",
    "print(ts.shape)"
   ]
  },
  {
   "cell_type": "code",
   "execution_count": 8,
   "id": "4bd53e2c-5c10-4e20-8820-cf21f18fb20d",
   "metadata": {
    "tags": []
   },
   "outputs": [],
   "source": [
    "ts.to_parquet(f'./material/srs_lucas.plausible_{version}.pq')"
   ]
  },
  {
   "cell_type": "markdown",
   "id": "373bef79-b5c5-45a8-ab52-1142f3a9dc46",
   "metadata": {},
   "source": [
    "### check data"
   ]
  },
  {
   "cell_type": "code",
   "execution_count": 9,
   "id": "f360cec7-c867-4e7c-8df7-6b4bdcc9782e",
   "metadata": {
    "tags": []
   },
   "outputs": [],
   "source": [
    "def assign_lc_class(lcl):\n",
    "    if len(set(lcl))==1:\n",
    "        return lcl[0]\n",
    "    else:\n",
    "        return lcl[0]+'-'+lcl[1]+'-'+lcl[2]\n",
    "    \n",
    "ts['lc_class'] = ts['lc'].apply(assign_lc_class)"
   ]
  },
  {
   "cell_type": "code",
   "execution_count": 10,
   "id": "99a338e6-dedf-4c8e-946b-c27ead6b7b70",
   "metadata": {
    "tags": []
   },
   "outputs": [
    {
     "data": {
      "text/plain": [
       "lc_class                      trend_class\n",
       "cropland                      varing         2428\n",
       "woodland                      varing         1750\n",
       "grassland                     varing          980\n",
       "cropland                      increasing      668\n",
       "woodland                      increasing      557\n",
       "cropland                      decreasing      436\n",
       "grassland                     increasing      392\n",
       "woodland                      decreasing      338\n",
       "grassland-cropland-cropland   varing          201\n",
       "grassland                     decreasing      185\n",
       "cropland-cropland-bareland    varing          169\n",
       "cropland-cropland-grassland   varing          155\n",
       "cropland-grassland-grassland  varing          108\n",
       "cropland-bareland-cropland    varing          108\n",
       "cropland-grassland-cropland   varing           84\n",
       "grassland-grassland-cropland  varing           72\n",
       "shrubland                     varing           71\n",
       "grassland-woodland-woodland   varing           52\n",
       "grassland-cropland-grassland  varing           52\n",
       "cropland-grassland-grassland  increasing       52\n",
       "Name: count, dtype: int64"
      ]
     },
     "execution_count": 10,
     "metadata": {},
     "output_type": "execute_result"
    }
   ],
   "source": [
    "ts.value_counts(subset=['lc_class','trend_class'])[0:20]"
   ]
  },
  {
   "cell_type": "code",
   "execution_count": 11,
   "id": "25e28245-91f6-4802-9d6c-9658f5e18594",
   "metadata": {
    "tags": []
   },
   "outputs": [
    {
     "data": {
      "text/plain": [
       "101"
      ]
     },
     "execution_count": 11,
     "metadata": {},
     "output_type": "execute_result"
    }
   ],
   "source": [
    "len(ts.value_counts(subset=['lc_class']))"
   ]
  },
  {
   "cell_type": "markdown",
   "id": "b65965f9-1012-4474-b79e-b423c57c423a",
   "metadata": {},
   "source": [
    "## sample to get test data"
   ]
  },
  {
   "cell_type": "code",
   "execution_count": 12,
   "id": "b54db149-8003-41c0-9331-c2b715cbec89",
   "metadata": {
    "tags": []
   },
   "outputs": [
    {
     "name": "stdout",
     "output_type": "stream",
     "text": [
      "(1800, 22)\n"
     ]
    }
   ],
   "source": [
    "df_sample = ts.sample(n=1800, random_state=42)\n",
    "print(df_sample.shape)\n",
    "\n",
    "with open(f'./material/srs.id_test_{version}.txt', 'w') as file:\n",
    "    for number in df_sample['id']:\n",
    "        file.write(f\"{number}\\n\")\n",
    "        \n",
    "# df_sample.to_parquet(f'./material/srs_test_{version}.pq')"
   ]
  },
  {
   "cell_type": "markdown",
   "id": "057aae5c-0607-474c-92c5-58e51d0a6b9d",
   "metadata": {
    "tags": []
   },
   "source": [
    "### location check"
   ]
  },
  {
   "cell_type": "code",
   "execution_count": 14,
   "id": "6a530112-a7cb-4964-afa7-578337bacd01",
   "metadata": {
    "tags": []
   },
   "outputs": [],
   "source": [
    "ts[ts.columns[0:13]].to_csv('./material/srs_location_check.csv')"
   ]
  },
  {
   "cell_type": "code",
   "execution_count": null,
   "id": "585272c8-22fc-4c00-9d88-73caebabd5d8",
   "metadata": {},
   "outputs": [],
   "source": []
  }
 ],
 "metadata": {
  "kernelspec": {
   "display_name": "Python 3 (ipykernel)",
   "language": "python",
   "name": "python3"
  },
  "language_info": {
   "codemirror_mode": {
    "name": "ipython",
    "version": 3
   },
   "file_extension": ".py",
   "mimetype": "text/x-python",
   "name": "python",
   "nbconvert_exporter": "python",
   "pygments_lexer": "ipython3",
   "version": "3.8.16"
  }
 },
 "nbformat": 4,
 "nbformat_minor": 5
}
