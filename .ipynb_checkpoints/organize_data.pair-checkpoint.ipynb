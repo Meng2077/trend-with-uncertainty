{
 "cells": [
  {
   "cell_type": "markdown",
   "id": "a5a2cc76-096e-489b-8dc7-d0e38c98a8ee",
   "metadata": {},
   "source": [
    "## start from filtered lucas time series"
   ]
  },
  {
   "cell_type": "code",
   "execution_count": 1,
   "id": "72974f32-5b5f-41e8-ad44-5da6e3a8c3d1",
   "metadata": {
    "tags": []
   },
   "outputs": [
    {
     "name": "stdout",
     "output_type": "stream",
     "text": [
      "(94248, 421)\n",
      "(10204, 29)\n",
      "(30612, 421)\n"
     ]
    }
   ],
   "source": [
    "import pandas as pd\n",
    "df = pd.read_parquet('./material/soc.topsoil_organized.pq')\n",
    "print(df.shape)\n",
    "\n",
    "selected = pd.read_parquet('./material/time.series_lucas_plausible.pq')\n",
    "print(selected.shape)\n",
    "\n",
    "df = df.loc[df['id'].isin(selected['id'].values.tolist())]\n",
    "print(df.shape)"
   ]
  },
  {
   "cell_type": "code",
   "execution_count": 2,
   "id": "0d4ffb25-d2e3-485b-8cce-c7bf1993a648",
   "metadata": {
    "tags": []
   },
   "outputs": [],
   "source": [
    "# use carbon to nitrogen ratio\n",
    "df['c/n'] = df['soc']/df['total.n']"
   ]
  },
  {
   "cell_type": "markdown",
   "id": "0feabaef-f80f-4ecb-b730-20d6be090a8c",
   "metadata": {},
   "source": [
    "## organize data pairs"
   ]
  },
  {
   "cell_type": "code",
   "execution_count": 3,
   "id": "9f77b458-06b4-4f21-a8dd-85101beae962",
   "metadata": {
    "tags": []
   },
   "outputs": [],
   "source": [
    "# rename ndvi and ndwi features\n",
    "lid = df.groupby('id').filter(lambda x: len(x) == 3)['id'].unique().tolist() # only focus on 3-pnt series\n",
    "\n",
    "name_map = {'ndvi_glad.landast.ard2.seasconv.m.yearly_p50_30m_s_YYYY0101_YYYY1231_eu_epsg.3035_v20231127':'ndvi_p50',\n",
    "            'ndwi.gao_glad.landsat.ard2.seasconv.m.yearly_p50_30m_s_YYYY0101_YYYY1231_eu_epsg.3035_v20231218':'ndwi_p50'}\n",
    "            # 'ndvi_glad.landsat.ard2.seasconv.yearly.m.theilslopes_m_30m_s_20000101_20221231_eu_epsg.3035_v20231218':'ndvi_slope',\n",
    "            # 'ndwi_glad.landsat.ard2.seasconv.yearly.m.theilslopes_m_30m_s_20000101_20221231_eu_epsg.3035_v20231218':'ndwi_slope'}\n",
    "\n",
    "df = df.rename(columns = name_map)\n",
    "            \n",
    "for col in ['ndvi_p50','ndwi_p50']:\n",
    "    df[col] = (df[col]-125)/125\n",
    "    \n",
    "    \n",
    "tcol = ['lat', 'lon', 'ndvi_p50', 'ndwi_p50', 'soc', 'time', 'c/n','lc_survey'] # time series cols\n",
    "scol = ['id', 'ref', 'nuts0'] # static cols\n",
    "mcol = ['lat', 'lon', 'ndvi_p50','ndwi_p50', 'soc'] # cols that needs to take the average of the time series\n",
    "\n"
   ]
  },
  {
   "cell_type": "code",
   "execution_count": 4,
   "id": "a5ab2813-1069-4038-a005-2d194952c111",
   "metadata": {
    "tags": []
   },
   "outputs": [
    {
     "name": "stdout",
     "output_type": "stream",
     "text": [
      "[11:51:09] start organizing pairs\n",
      "[11:54:00] finish organizing\n",
      "(30612, 16)\n"
     ]
    }
   ],
   "source": [
    "from skmap.misc import TimeTracker, ttprint\n",
    "import numpy as np\n",
    "\n",
    "ttprint('start organizing pairs')\n",
    "pdf = pd.DataFrame(columns=scol + [i+'_mean' for i in mcol] + [i+'_pair' for i in tcol])\n",
    "for iid in lid:\n",
    "    temp = df.loc[df['id'] == iid].sort_values(by=['time'])  \n",
    "    \n",
    "    # Extract static values (first row of static columns)\n",
    "    static_vals = temp.iloc[0][scol].tolist()\n",
    "        \n",
    "    if len(temp) == 2:\n",
    "        ts_vals = [temp[itcol].tolist() for itcol in tcol]\n",
    "        mean_vals = [np.mean(il) for il in ts_vals[0:5]]\n",
    "        pdf.loc[len(pdf)] = static_vals + mean_vals + ts_vals\n",
    "\n",
    "    elif len(temp) > 2:\n",
    "        # Case with 3 points: form 3 pairs\n",
    "        ts_vals = [temp.iloc[[0, 1]][itcol].tolist() for itcol in tcol]\n",
    "        mean_vals = [np.mean(il) for il in ts_vals[0:5]]\n",
    "        pdf.loc[len(pdf)] = static_vals + mean_vals + ts_vals\n",
    "\n",
    "        ts_vals = [temp.iloc[[1, 2]][itcol].tolist() for itcol in tcol]\n",
    "        mean_vals = [np.mean(il) for il in ts_vals[0:5]]\n",
    "        pdf.loc[len(pdf)] = static_vals + mean_vals + ts_vals\n",
    "\n",
    "        ts_vals = [temp.iloc[[0, 2]][itcol].tolist() for itcol in tcol]\n",
    "        mean_vals = [np.mean(il) for il in ts_vals[0:5]]\n",
    "        pdf.loc[len(pdf)] = static_vals + mean_vals + ts_vals\n",
    "    \n",
    "ttprint('finish organizing')\n",
    "print(pdf.shape)\n",
    "# pdf.to_parquet('./material/pairs_lucas_all.pq')"
   ]
  },
  {
   "cell_type": "markdown",
   "id": "82e26027-7a11-4513-84bb-e2c26c4808fe",
   "metadata": {},
   "source": [
    "## calculate time series features\n"
   ]
  },
  {
   "cell_type": "code",
   "execution_count": 5,
   "id": "df61bf47-3165-404b-b68b-ec054a6858d5",
   "metadata": {
    "tags": []
   },
   "outputs": [
    {
     "name": "stdout",
     "output_type": "stream",
     "text": [
      "(30612, 21)\n"
     ]
    }
   ],
   "source": [
    "import matplotlib.pyplot as plt\n",
    "import numpy as np\n",
    "import geopy.distance\n",
    "from sklearn.linear_model import HuberRegressor, TheilSenRegressor\n",
    "\n",
    "# pdf = pd.read_csv('./material/pairs_lucas_all.pq')\n",
    "dist = [] # distance between two consecutive samples\n",
    "lc_change = [] # whether land cover change happened\n",
    "cn = [] # c/n ratio time series\n",
    "td = [] # time difference\n",
    "d = [] # soc change\n",
    "\n",
    "for index, row in pdf.iterrows():\n",
    "    soc = row['soc_pair']\n",
    "    time = row['time_pair']\n",
    "    cns = row['c/n_pair']\n",
    "    \n",
    "    # cn change\n",
    "    cn.append(cns[1]-cns[0])\n",
    "    \n",
    "    # distance\n",
    "    colat = row['lat_pair']\n",
    "    colon = row['lon_pair']\n",
    "    dist.append(geopy.distance.geodesic((colon[0], colat[0]),(colon[1], colat[1])).m)\n",
    "    \n",
    "    # soc change\n",
    "    d = soc[1] - soc[0]\n",
    "    \n",
    "    # time change\n",
    "    td = time[1] - time[0]\n",
    "        \n",
    "    # land cover\n",
    "    if len(set(row['lc_survey_pair']))==1:\n",
    "        lc_change.append(0)\n",
    "    else:\n",
    "        lc_change.append(1)\n",
    "        \n",
    "    \n",
    "pdf['lc_change'] = lc_change\n",
    "pdf['distance'] = dist\n",
    "pdf['cn_change'] = cn\n",
    "pdf['soc_change'] = d\n",
    "pdf['time_change'] = td\n",
    "print(pdf.shape)\n",
    "pdf.to_parquet('./material/pairs_lucas_plausible.pq')"
   ]
  },
  {
   "cell_type": "markdown",
   "id": "66046fa1-0269-478e-9d6c-f885b911a573",
   "metadata": {},
   "source": [
    "## Check filters"
   ]
  },
  {
   "cell_type": "code",
   "execution_count": 8,
   "id": "88f961a1-c6f0-4522-9ac8-14e40ed77a42",
   "metadata": {
    "tags": []
   },
   "outputs": [
    {
     "name": "stderr",
     "output_type": "stream",
     "text": [
      "No artists with labels found to put in legend.  Note that artists whose label start with an underscore are ignored when legend() is called with no argument.\n"
     ]
    },
    {
     "data": {
      "text/plain": [
       "<matplotlib.legend.Legend at 0x725bfd364f10>"
      ]
     },
     "execution_count": 8,
     "metadata": {},
     "output_type": "execute_result"
    },
    {
     "data": {
      "image/png": "[encoded data removed]",
      "text/plain": [
       "<Figure size 640x480 with 1 Axes>"
      ]
     },
     "metadata": {},
     "output_type": "display_data"
    }
   ],
   "source": [
    "# distance filter\n",
    "pdf['distance'].hist(bins=60, range=[0,120])\n",
    "# plt.plot([30,30],[0,10000],label='Threshold')\n",
    "plt.xlabel('distance (m)')\n",
    "plt.legend()\n",
    "\n",
    "# pf = pdf.loc[pdf['distance']<30]\n",
    "# print(pf.shape)"
   ]
  },
  {
   "cell_type": "code",
   "execution_count": 9,
   "id": "50a61913-c921-4d11-909e-879d8cda3257",
   "metadata": {
    "tags": []
   },
   "outputs": [
    {
     "name": "stderr",
     "output_type": "stream",
     "text": [
      "No artists with labels found to put in legend.  Note that artists whose label start with an underscore are ignored when legend() is called with no argument.\n"
     ]
    },
    {
     "data": {
      "text/plain": [
       "<matplotlib.legend.Legend at 0x725ccd37e130>"
      ]
     },
     "execution_count": 9,
     "metadata": {},
     "output_type": "execute_result"
    },
    {
     "data": {
      "image/png": "[encoded data removed]",
      "text/plain": [
       "<Figure size 640x480 with 1 Axes>"
      ]
     },
     "metadata": {},
     "output_type": "display_data"
    }
   ],
   "source": [
    "# carbon to nitrogen ratio filter\n",
    "pdf['cn_diff'] = pdf['cn_change'].abs()\n",
    "pdf['cn_diff'].hist(bins=40, range=[0,10])#\n",
    "# plt.plot([6.6,6.6],[0,3500],label='Threshold')\n",
    "plt.xlabel('C/N ratio difference')\n",
    "plt.legend()\n",
    "\n",
    "# pf = pf.loc[pf['cn_diff']<6.6]\n",
    "# print(pf.shape)"
   ]
  },
  {
   "cell_type": "markdown",
   "id": "b65965f9-1012-4474-b79e-b423c57c423a",
   "metadata": {},
   "source": [
    "## get test data"
   ]
  },
  {
   "cell_type": "code",
   "execution_count": 21,
   "id": "b54db149-8003-41c0-9331-c2b715cbec89",
   "metadata": {
    "tags": []
   },
   "outputs": [
    {
     "name": "stdout",
     "output_type": "stream",
     "text": [
      "(3000, 22)\n"
     ]
    }
   ],
   "source": [
    "# read in selected test ids\n",
    "with open('./material/test_temporal_ids_v20250301.txt', 'r') as file:\n",
    "    ids = file.readlines()\n",
    "ids = [ii.strip() for ii in ids]\n",
    "\n",
    "test_pair = pdf.loc[pdf['id'].isin(ids)]\n",
    "print(test_pair.shape)\n",
    "test_pair.to_parquet('./material/pairs_plausible.lucas_test.pq')"
   ]
  },
  {
   "cell_type": "code",
   "execution_count": null,
   "id": "2c20ef3d-ca50-40b5-b32b-5d0b44abe625",
   "metadata": {},
   "outputs": [],
   "source": []
  }
 ],
 "metadata": {
  "kernelspec": {
   "display_name": "Python 3 (ipykernel)",
   "language": "python",
   "name": "python3"
  },
  "language_info": {
   "codemirror_mode": {
    "name": "ipython",
    "version": 3
   },
   "file_extension": ".py",
   "mimetype": "text/x-python",
   "name": "python",
   "nbconvert_exporter": "python",
   "pygments_lexer": "ipython3",
   "version": "3.8.16"
  }
 },
 "nbformat": 4,
 "nbformat_minor": 5
}
