{
 "cells": [
  {
   "cell_type": "markdown",
   "id": "29c079be-eaa9-4fac-937a-ad87d23ca015",
   "metadata": {},
   "source": [
    "### Read in overlaid data"
   ]
  },
  {
   "cell_type": "code",
   "execution_count": 1,
   "id": "5b4724ff-56f5-4575-a735-59f5be368c38",
   "metadata": {
    "tags": []
   },
   "outputs": [
    {
     "name": "stdout",
     "output_type": "stream",
     "text": [
      "(122436, 468)\n"
     ]
    }
   ],
   "source": [
    "import pandas as pd\n",
    "df = pd.read_parquet('./material/soc.snr_overlaid_v20250301.pq')\n",
    "print(df.shape)"
   ]
  },
  {
   "cell_type": "markdown",
   "id": "9afb567b-068e-49d4-81f5-0079ca142a2c",
   "metadata": {},
   "source": [
    "### Mask out other land covers"
   ]
  },
  {
   "cell_type": "code",
   "execution_count": 2,
   "id": "19325456-0270-4822-bc47-de392f87dea4",
   "metadata": {
    "tags": []
   },
   "outputs": [
    {
     "name": "stdout",
     "output_type": "stream",
     "text": [
      "                total_count  nan_count  total_rows  nan_percentage\n",
      "ref                                                               \n",
      "Czech                   728          0         728        0.000000\n",
      "GLanCE                  911          0         911        0.000000\n",
      "LUCAS                 62577          1       62578        0.001598\n",
      "MarSOC                  103          0         103        0.000000\n",
      "NatbodDS                  0       4813        4813      100.000000\n",
      "ParcelasCOS            1578          0        1578        0.000000\n",
      "ParcelasINES          22161          0       22161        0.000000\n",
      "Pedološka               217          8         225        3.555556\n",
      "SoDaH                    72        303         375       80.800000\n",
      "basque                  826          0         826        0.000000\n",
      "dk.pilot                131          0         131        0.000000\n",
      "estonia.kese              0        172         172      100.000000\n",
      "foregs                    0        248         248      100.000000\n",
      "gemas                  4109          0        4109        0.000000\n",
      "infosolo               2154        739        2893       25.544418\n",
      "multione                  0       1500        1500      100.000000\n",
      "thuenen.bze.lw        16334          0       16334        0.000000\n",
      "ukceh                  2751          0        2751        0.000000\n"
     ]
    }
   ],
   "source": [
    "nan_stats = df.groupby('ref')['lc_survey'].agg(\n",
    "    total_count='count',\n",
    "    nan_count=lambda x: x.isna().sum(),\n",
    "    total_rows=lambda x: x.shape[0]\n",
    ")\n",
    "\n",
    "nan_stats['nan_percentage'] = 100 * nan_stats['nan_count'] / nan_stats['total_rows']\n",
    "print(nan_stats)\n",
    "keep_ref = nan_stats.loc[nan_stats['nan_percentage']<10].index.tolist()"
   ]
  },
  {
   "cell_type": "code",
   "execution_count": 3,
   "id": "e68a2ed8-311a-4d3a-8408-07ce7915a4fe",
   "metadata": {
    "tags": []
   },
   "outputs": [
    {
     "name": "stdout",
     "output_type": "stream",
     "text": [
      "(112435, 468)\n",
      "(112426, 468)\n",
      "(109675, 468)\n",
      "(109544, 468)\n",
      "['GLanCE', 'Pedološka', 'Czech', 'basque', 'ParcelasINES', 'MarSOC', 'gemas', 'LUCAS', 'thuenen.bze.lw', 'ParcelasCOS']\n"
     ]
    }
   ],
   "source": [
    "df = df.loc[df['ref'].isin(keep_ref)]\n",
    "print(df.shape)\n",
    "df = df.loc[df['lc_survey'].notna()]\n",
    "print(df.shape)\n",
    "# remove MarSOC and DK pilot points\n",
    "df = df.loc[df['ref']!='ukceh']\n",
    "print(df.shape)\n",
    "df = df.loc[df['ref']!='dk.pilot']\n",
    "print(df.shape)\n",
    "print(df['ref'].unique().tolist())"
   ]
  },
  {
   "cell_type": "markdown",
   "id": "8e6d93b1-cfd9-4a1d-8f9a-bf26d23b5f12",
   "metadata": {},
   "source": [
    "### Harmonize soc measurements to be topsoil"
   ]
  },
  {
   "cell_type": "code",
   "execution_count": 4,
   "id": "12c17c0c-e813-4ed2-9813-f6c7f969a56e",
   "metadata": {
    "tags": []
   },
   "outputs": [
    {
     "name": "stdout",
     "output_type": "stream",
     "text": [
      "keep single-depth records with hzn_dep <= 20 cm,  (89539, 469)\n"
     ]
    }
   ],
   "source": [
    "import numpy as np\n",
    "from scipy.interpolate import CubicSpline, PchipInterpolator, Akima1DInterpolator\n",
    "from skmap.misc import TimeTracker, ttprint\n",
    "\n",
    "single_depth_groups = df.groupby(['lat', 'lon', 'time']).filter(lambda g: len(g) == 1)\n",
    "single_records = single_depth_groups[single_depth_groups['hzn_dep'] <= 20].copy()\n",
    "single_records['type'] = 'measured'\n",
    "print(\"keep single-depth records with hzn_dep <= 20 cm, \", single_records.shape)"
   ]
  },
  {
   "cell_type": "code",
   "execution_count": 5,
   "id": "5bd7b31f-87a9-45ea-8eb6-fb61f8569c96",
   "metadata": {
    "tags": []
   },
   "outputs": [
    {
     "name": "stdout",
     "output_type": "stream",
     "text": [
      "Keep multi-depth records where hzn_dep = 10: (643, 469)\n"
     ]
    }
   ],
   "source": [
    "multi_depth_groups = df.groupby(['lat', 'lon', 'time']).filter(lambda g: len(g) > 1)\n",
    "multi_with_10 = multi_depth_groups[multi_depth_groups['hzn_dep'] == 10]\n",
    "multi_records_10 = multi_with_10.copy()  \n",
    "multi_records_10['type'] = 'measured'\n",
    "print(\"Keep multi-depth records where hzn_dep = 10:\", multi_records_10.shape)"
   ]
  },
  {
   "cell_type": "code",
   "execution_count": 6,
   "id": "d73dc00a-13b5-46bd-9bff-adb4c33d007a",
   "metadata": {
    "tags": []
   },
   "outputs": [
    {
     "name": "stdout",
     "output_type": "stream",
     "text": [
      "multi-depth group needs interpolation count: (18714, 468)\n",
      "Interpolating hzn_dep==10cm for multi-depth groups, (4073, 469)\n"
     ]
    }
   ],
   "source": [
    "multi_depth_interpolate = multi_depth_groups.groupby(['lat', 'lon', 'time']).filter(lambda g: not (g['hzn_dep'] == 10).any())\n",
    "print(\"multi-depth group needs interpolation count:\", multi_depth_interpolate.shape)\n",
    "\n",
    "itpl_records = []\n",
    "for (lat, lon, time), group in multi_depth_interpolate.groupby(['lat', 'lon', 'time']):\n",
    "    group = group.sort_values(by='hzn_dep').drop_duplicates(subset=['hzn_dep'])\n",
    "    new_record = group.iloc[0].copy()  # keep all other columns\n",
    "    for prop in ['soc','total.n','clay','ph.h2o','ph.cacl2']:\n",
    "        try:\n",
    "            # cs = CubicSpline(group['hzn_dep'], group[prop])\n",
    "            pc = PchipInterpolator(group['hzn_dep'], group[prop])\n",
    "            new_record[prop] = pc(10).item()  # interpolte\n",
    "        except Exception as e:\n",
    "            new_record[prop] = np.nan\n",
    "            # print(f\"Interpolation error at ({group['lat'].iloc[0]}, {group['lon'].iloc[0]}, {group['time'].iloc[0]}): {e}\")\n",
    "    new_record['hzn_dep'] = 10  # same as standard LUCAS depth\n",
    "    itpl_records.append(new_record)\n",
    "    \n",
    "interpolated_records = pd.DataFrame(itpl_records)\n",
    "interpolated_records['type'] = 'interpolated'\n",
    "print(\"Interpolating hzn_dep==10cm for multi-depth groups,\", interpolated_records.shape)"
   ]
  },
  {
   "cell_type": "code",
   "execution_count": 7,
   "id": "5c400549-00ce-4bf2-9fe8-8d95b2e92201",
   "metadata": {
    "tags": []
   },
   "outputs": [
    {
     "name": "stdout",
     "output_type": "stream",
     "text": [
      "topsoil harmonized,  (94255, 469)\n"
     ]
    }
   ],
   "source": [
    "dff = pd.concat([single_records, multi_records_10, interpolated_records], ignore_index=True)\n",
    "print(\"topsoil harmonized, \", dff.shape)\n"
   ]
  },
  {
   "cell_type": "code",
   "execution_count": 8,
   "id": "60631d9a-7b7f-4616-97a5-3b2c2fb4047c",
   "metadata": {
    "tags": []
   },
   "outputs": [
    {
     "name": "stdout",
     "output_type": "stream",
     "text": [
      "(94248, 469)\n"
     ]
    }
   ],
   "source": [
    "dff = dff.loc[dff['soc']>=0]\n",
    "print(dff.shape)"
   ]
  },
  {
   "cell_type": "markdown",
   "id": "7dba2ce4-36df-4996-a0f7-46427142eed0",
   "metadata": {},
   "source": [
    "### Visualize some examples"
   ]
  },
  {
   "cell_type": "code",
   "execution_count": 9,
   "id": "edef248c-bd65-448b-b9bb-545e1efebe56",
   "metadata": {
    "tags": []
   },
   "outputs": [],
   "source": [
    "num_examples = 3\n",
    "selected_groups = interpolated_records.sample(num_examples, random_state=42)[['lat', 'lon', 'time']]  # Select 3 unique groups\n",
    "selected_examples = multi_depth_groups.merge(selected_groups, on=['lat', 'lon', 'time'])"
   ]
  },
  {
   "cell_type": "code",
   "execution_count": 10,
   "id": "3a128fa5-b5b2-4b3d-b9de-fad210f496c5",
   "metadata": {
    "tags": []
   },
   "outputs": [
    {
     "data": {
      "image/png": "[encoded data removed]",
      "text/plain": [
       "<Figure size 1500x500 with 3 Axes>"
      ]
     },
     "metadata": {},
     "output_type": "display_data"
    }
   ],
   "source": [
    "import matplotlib.pyplot as plt\n",
    "import random\n",
    "fig, axes = plt.subplots(1, num_examples, figsize=(15, 5), sharey=True)\n",
    "\n",
    "for ax, ((lat, lon, time, ref), group) in zip(axes, selected_examples.groupby(['lat', 'lon','time','ref'])):\n",
    "    group = group.sort_values(by='hzn_dep').drop_duplicates(subset=['hzn_dep'])\n",
    "\n",
    "    pc = PchipInterpolator(group['hzn_dep'], group['soc'])\n",
    "    depths = np.linspace(min(group['hzn_dep']), max(group['hzn_dep']), 30)\n",
    "    soc_spline = pc(depths)\n",
    "    interpolated_soc = pc(10)  \n",
    "\n",
    "    ax.scatter(group['soc'], group['hzn_dep'], label=\"Observed SOC\", color='blue', zorder=2)\n",
    "    \n",
    "    ax.plot(soc_spline, depths, label=\"Cubic Spline\", linestyle='--', color='green', alpha=0.8)\n",
    "\n",
    "    ax.scatter(interpolated_soc, 10, color='red', s=100, edgecolor='black', label=\"Interpolated SOC (10 cm)\", zorder=3)\n",
    "\n",
    "    ax.invert_yaxis()  # Depth increases downwards\n",
    "    ax.set_ylabel(\"Depth (cm)\")  \n",
    "    ax.set_xlabel(\"SOC\")  \n",
    "    ax.set_title(f\"Lat: {round(lat,2)}, Lon: {round(lon,2)}\\nfrom year {time}, {ref}\")\n",
    "    ax.legend()\n",
    "\n",
    "plt.tight_layout()\n",
    "plt.show()\n"
   ]
  },
  {
   "cell_type": "markdown",
   "id": "c8eb3a41-0a49-4573-ae38-f8fef8d93265",
   "metadata": {},
   "source": [
    "### Clean out some columns"
   ]
  },
  {
   "cell_type": "code",
   "execution_count": 11,
   "id": "d672e32e-67f6-4318-bb2f-0df17b9e1782",
   "metadata": {
    "tags": []
   },
   "outputs": [
    {
     "data": {
      "text/plain": [
       "Index(['time', 'lat', 'lon', 'id', 'clay', 'clay_unit', 'clay_method',\n",
       "       'bulk.density.tot_unit', 'bulk.density.tot_method', 'bulk.density.tot',\n",
       "       'coarse.mass_unit', 'coarse.mass_method', 'coarse.mass', 'lc_survey',\n",
       "       'ref', 'nuts0', 'ph.h2o', 'bulk.density.fe', 'total.n', 'extractable.p',\n",
       "       'WEB_ID_SQUARE (ID)', 'WEB_ID_PLOT', 'PLOT_TYPE',\n",
       "       'bulk.density.fe_method', 'bulk.density.fe_unit', 'total.n_unit',\n",
       "       'total.n_method', 'extractable.p_method', 'extractable.p_unit',\n",
       "       'ph.h2o_method', 'ph.cacl2_method', 'ph.cacl2', 'extractable.k',\n",
       "       'extractable.k_method', 'extractable.k_unit', 'cec', 'cec_unit',\n",
       "       'cec_method', 'sand', 'silt', 'silt_method', 'silt_unit', 'sand_method',\n",
       "       'sand_unit', 'total.c', 'c/n', 'total.c_method', 'total.c_unit',\n",
       "       'carbonates', 'ec', 'carbonates_method', 'ec_method', 'ph.h2o_unit',\n",
       "       'carbonates_unit', 'ec_unit', 'coarse.vol', 'coarse.vol_unit',\n",
       "       'coarse.vol_method', 'ph.cacl2_unit', 'hzn_dep', 'ocd', 'ocd_method',\n",
       "       'soc_qa', 'soc',\n",
       "       'cropland.extent_glad.interpolate_p_30m_s_YYYY0101_YYYY1231_eu_epsg.3035_v20240604'],\n",
       "      dtype='object')"
      ]
     },
     "execution_count": 11,
     "metadata": {},
     "output_type": "execute_result"
    }
   ],
   "source": [
    "dff.columns[0:65]"
   ]
  },
  {
   "cell_type": "code",
   "execution_count": 12,
   "id": "39bffab8-38c0-43c4-b408-daf84fffae0e",
   "metadata": {},
   "outputs": [
    {
     "name": "stdout",
     "output_type": "stream",
     "text": [
      "(94248, 418)\n"
     ]
    }
   ],
   "source": [
    "drop_col = ['clay_unit', 'clay_method', 'bulk.density.tot_unit', 'bulk.density.tot_method', 'bulk.density.tot',\n",
    "       'coarse.mass_unit', 'coarse.mass_method', 'coarse.mass', 'bulk.density.fe', 'extractable.p',\n",
    "       'WEB_ID_SQUARE (ID)', 'WEB_ID_PLOT', 'PLOT_TYPE',\n",
    "       'bulk.density.fe_method', 'bulk.density.fe_unit', 'total.n_unit',\n",
    "       'total.n_method', 'extractable.p_method', 'extractable.p_unit',\n",
    "       'ph.h2o_method', 'ph.cacl2_method', 'extractable.k',\n",
    "       'extractable.k_method', 'extractable.k_unit', 'cec', 'cec_unit',\n",
    "       'cec_method', 'sand', 'silt', 'silt_method', 'silt_unit', 'sand_method',\n",
    "       'sand_unit', 'total.c', 'c/n', 'total.c_method', 'total.c_unit',\n",
    "       'carbonates', 'ec', 'carbonates_method', 'ec_method', 'ph.h2o_unit',\n",
    "       'carbonates_unit', 'ec_unit', 'coarse.vol', 'coarse.vol_unit',\n",
    "       'coarse.vol_method', 'ph.cacl2_unit', 'ocd', 'ocd_method',\n",
    "       'soc_qa']\n",
    "\n",
    "dff = dff.drop(columns=drop_col)\n",
    "print(dff.shape)"
   ]
  },
  {
   "cell_type": "markdown",
   "id": "8c92861b-2f2d-413f-a7c6-d93d41b87388",
   "metadata": {},
   "source": [
    "### organize covariate features"
   ]
  },
  {
   "cell_type": "code",
   "execution_count": 13,
   "id": "5310b09e-ed8e-409e-83f2-6d73b320ed14",
   "metadata": {
    "tags": []
   },
   "outputs": [
    {
     "name": "stdout",
     "output_type": "stream",
     "text": [
      "cropland.extent_glad.interpolate_p_30m_s_YYYY0101_YYYY1231_eu_epsg.3035_v20240604 0.634 25.0 100.0\n",
      "b3_soilsuite_m_30m_s_20180101_20221231_eu_epsg.3035_v20250307 0.6 104.0 6050.0\n",
      "CHELSA_swe_1981-2010_V.2.1 0.657 35.0 28517.0\n",
      "b12_soilsuite_m_30m_s_20180101_20221231_eu_epsg.3035_v20250307 0.6 43.0 6815.0\n",
      "b6_soilsuite_m_30m_s_20180101_20221231_eu_epsg.3035_v20250307 0.6 51.0 7486.0\n",
      "b4_soilsuite_m_30m_s_20180101_20221231_eu_epsg.3035_v20250307 0.6 119.0 6890.0\n",
      "b2_soilsuite_m_30m_s_20180101_20221231_eu_epsg.3035_v20250307 0.6 57.0 5343.0\n",
      "b8_soilsuite_m_30m_s_20180101_20221231_eu_epsg.3035_v20250307 0.6 45.0 7494.0\n",
      "b11_soilsuite_m_30m_s_20180101_20221231_eu_epsg.3035_v20250307 0.6 65.0 8015.0\n",
      "b7_soilsuite_m_30m_s_20180101_20221231_eu_epsg.3035_v20250307 0.6 54.0 7562.0\n",
      "b5_soilsuite_m_30m_s_20180101_20221231_eu_epsg.3035_v20250307 0.6 157.0 7170.0\n",
      "b8a_soilsuite_m_30m_s_20180101_20221231_eu_epsg.3035_v20250307 0.6 39.0 7857.0\n"
     ]
    }
   ],
   "source": [
    "fix_col = []\n",
    "covs = dff.columns[13::].tolist()\n",
    "for icov in covs:\n",
    "    inum = dff[icov].isna().sum()\n",
    "    irto = round(inum/len(dff),3)\n",
    "    \n",
    "    if irto>0.02:\n",
    "        print(icov, irto, dff[icov].min(), dff[icov].max())\n",
    "        fix_col.append(icov)"
   ]
  },
  {
   "cell_type": "code",
   "execution_count": 14,
   "id": "a845e874-5cbb-436f-8e93-5bd84d04499d",
   "metadata": {
    "tags": []
   },
   "outputs": [],
   "source": [
    "fl = 'cropland.extent_glad.interpolate_p_30m_s_YYYY0101_YYYY1231_eu_epsg.3035_v20240604'\n",
    "dff.loc[dff[fl].isna(),fl] = 0\n",
    "dff.loc[dff[fl]>0,fl] = 100\n",
    "fix_col.remove(fl)\n",
    "\n",
    "fl = 'CHELSA_swe_1981-2010_V.2.1'\n",
    "dff = dff.drop(columns=[fl])\n",
    "fix_col.remove(fl)\n",
    "covs.remove(fl)\n",
    "\n",
    "for fl in fix_col:\n",
    "    dff.loc[dff[fl].isna(),fl] = 0\n"
   ]
  },
  {
   "cell_type": "code",
   "execution_count": 15,
   "id": "730d38b3-8fef-47e5-8097-9875b01db4cb",
   "metadata": {
    "scrolled": true,
    "tags": []
   },
   "outputs": [
    {
     "name": "stdout",
     "output_type": "stream",
     "text": [
      "ndvi_glad.landast.ard2.seasconv.m.yearly_p25_30m_s_YYYY0101_YYYY1231_eu_epsg.3035_v20231127 0.001 50\n",
      "evi_glad.landsat.ard2.seasconv_m_30m_s_YYYY0901_YYYY1031_eu_epsg.3035_v20231127 0.001 50\n",
      "clm_lst_mod11a2.nighttime_p05_1km_s0..0cm_YYYY_v1.2 0.002 145\n",
      "ndvi_glad.landast.ard2.seasconv.m.yearly_p50_30m_s_YYYY0101_YYYY1231_eu_epsg.3035_v20231127 0.001 50\n",
      "evi_glad.landsat.ard2.seasconv_m_30m_s_YYYY0301_YYYY0430_eu_epsg.3035_v20231127 0.001 50\n",
      "wv_mcd19a2v061.seasconv.m.yearly_p25_1km_s_YYYY0101_YYYY1231_go_epsg.4326_v20230619 0.0 2\n",
      "blue_glad.landsat.ard2.seasconv.m.yearly_p50_30m_s_YYYY0101_YYYY1231_eu_epsg.3035_v20231127 0.001 50\n",
      "swir1_glad.landsat.ard2.seasconv.m.yearly_p50_30m_s_YYYY0101_YYYY1231_eu_epsg.3035_v20231127 0.001 50\n",
      "wv_mcd19a2v061.seasconv.m.yearly_p50_1km_s_YYYY0101_YYYY1231_go_epsg.4326_v20230619 0.0 2\n",
      "nos_glad.landsat.ard2.seasconv_m_30m_s_YYYY0101_YYYY1231_eu_epsg.3035_v20231127 0.001 50\n",
      "bare.soil_mcd43a4.fc_m_500m_s_YYYY0101_YYYY1231_go_epsg.4326_v20240616 0.003 266\n",
      "photosynthetic.veg_mcd43a4.fc_std_500m_s_YYYY0101_YYYY1231_go_epsg.4326_v20240616 0.002 186\n",
      "nir_glad.landsat.ard2.seasconv.m.yearly_p25_30m_s_YYYY0101_YYYY1231_eu_epsg.3035_v20231127 0.001 50\n",
      "evi_glad.landsat.ard2.seasconv_m_30m_s_YYYY1101_YYYY1231_eu_epsg.3035_v20231127 0.001 51\n",
      "ndwi.gao_glad.landsat.ard2.seasconv.m.yearly_p75_30m_s_YYYY0101_YYYY1231_eu_epsg.3035_v20231218 0.001 50\n",
      "photosynthetic.veg_mcd43a4.fc_mx_500m_s_YYYY0101_YYYY1231_go_epsg.4326_v20240616 0.002 185\n",
      "non.photosynthetic.veg_mcd43a4.fc_std_500m_s_YYYY0101_YYYY1231_go_epsg.4326_v20240616 0.003 311\n",
      "ndti_glad.landast.ard2.seasconv.m.yearly_p75_30m_s_YYYY0101_YYYY1231_eu_epsg.3035_v20231127 0.001 50\n",
      "ndwi.gao_glad.landsat.ard2.seasconv.m.yearly_p25_30m_s_YYYY0101_YYYY1231_eu_epsg.3035_v20231218 0.001 50\n",
      "evi_glad.landsat.ard2.seasconv_m_30m_s_YYYY0701_YYYY0831_eu_epsg.3035_v20231127 0.001 50\n",
      "green_glad.landsat.ard2.seasconv.m.yearly_p75_30m_s_YYYY0101_YYYY1231_eu_epsg.3035_v20231127 0.001 50\n",
      "clm_lst_mod11a2.daytime_p05_1km_s0..0cm_YYYY_v1.2 0.002 145\n",
      "non.photosynthetic.veg_mcd43a4.fc_std_gf_500m_s_YYYY0101_YYYY1231_go_epsg.4326_v20250116 0.0 2\n",
      "clm_lst_mod11a2.nighttime_p95_1km_s0..0cm_YYYY_v1.2 0.002 145\n",
      "red_glad.landsat.ard2.seasconv.m.yearly_p25_30m_s_YYYY0101_YYYY1231_eu_epsg.3035_v20231127 0.001 50\n",
      "non.photosynthetic.veg_mcd43a4.fc_mx_500m_s_YYYY0101_YYYY1231_go_epsg.4326_v20240616 0.002 223\n",
      "ndti_glad.landast.ard2.seasconv.m.yearly_p25_30m_s_YYYY0101_YYYY1231_eu_epsg.3035_v20231127 0.001 50\n",
      "green_glad.landsat.ard2.seasconv.m.yearly_p25_30m_s_YYYY0101_YYYY1231_eu_epsg.3035_v20231127 0.001 50\n",
      "thermal_glad.landsat.ard2.seasconv.m.yearly_p25_30m_s_YYYY0101_YYYY1231_eu_epsg.3035_v20231127 0.001 50\n",
      "red_glad.landsat.ard2.seasconv.m.yearly_p75_30m_s_YYYY0101_YYYY1231_eu_epsg.3035_v20231127 0.001 50\n",
      "ndti.min_glad.landsat.ard2.seasconv.bimonthly.min_m_30m_s_YYYY0101_YYYY1231_eu_epsg.3035_v20231218 0.001 95\n",
      "clm_lst_mod11a2.nighttime_p50_1km_s0..0cm_YYYY_v1.2 0.002 145\n",
      "swir2_glad.landsat.ard2.seasconv.m.yearly_p75_30m_s_YYYY0101_YYYY1231_eu_epsg.3035_v20231127 0.001 50\n",
      "thermal_glad.landsat.ard2.seasconv.m.yearly_p50_30m_s_YYYY0101_YYYY1231_eu_epsg.3035_v20231127 0.001 50\n",
      "wv_mcd19a2v061.seasconv.sd.yearly_p75_1km_s_YYYY0101_YYYY1231_go_epsg.4326_v20230619 0.0 2\n",
      "evi_glad.landsat.ard2.seasconv_m_30m_s_YYYY0501_YYYY0630_eu_epsg.3035_v20231127 0.001 50\n",
      "ndwi.gao_glad.landsat.ard2.seasconv.m.yearly_p50_30m_s_YYYY0101_YYYY1231_eu_epsg.3035_v20231218 0.001 50\n",
      "bsf_glad.landsat.ard2.seasconv.m.yearly_sum_30m_s_YYYY0101_YYYY1231_eu_epsg.3035_v20231127 0.001 50\n",
      "blue_glad.landsat.ard2.seasconv.m.yearly_p25_30m_s_YYYY0101_YYYY1231_eu_epsg.3035_v20231127 0.001 50\n",
      "thermal_glad.landsat.ard2.seasconv.m.yearly_p75_30m_s_YYYY0101_YYYY1231_eu_epsg.3035_v20231127 0.001 50\n",
      "non.photosynthetic.veg_mcd43a4.fc_m_500m_s_YYYY0101_YYYY1231_go_epsg.4326_v20240616 0.002 235\n",
      "cdr_glad.landsat.seasconv_m_30m_s_YYYY0101_YYYY1231_eu_epsg.3035_v20231127 0.0 1\n",
      "wv_mcd19a2v061.seasconv.sd.yearly_sd_1km_s_YYYY0101_YYYY1231_go_epsg.4326_v20230619 0.0 2\n",
      "photosynthetic.veg_mcd43a4.fc_m_500m_s_YYYY0101_YYYY1231_go_epsg.4326_v20240616 0.002 186\n",
      "wv_mcd19a2v061.seasconv.sd.yearly_p50_1km_s_YYYY0101_YYYY1231_go_epsg.4326_v20230619 0.0 2\n",
      "wv_mcd19a2v061.seasconv.m.yearly_p75_1km_s_YYYY0101_YYYY1231_go_epsg.4326_v20230619 0.0 2\n",
      "swir1_glad.landsat.ard2.seasconv.m.yearly_p25_30m_s_YYYY0101_YYYY1231_eu_epsg.3035_v20231127 0.001 50\n",
      "wv_mcd19a2v061.seasconv.m.yearly_sd_1km_s_YYYY0101_YYYY1231_go_epsg.4326_v20230619 0.0 2\n",
      "swir2_glad.landsat.ard2.seasconv.m.yearly_p25_30m_s_YYYY0101_YYYY1231_eu_epsg.3035_v20231127 0.001 50\n",
      "blue_glad.landsat.ard2.seasconv.m.yearly_p75_30m_s_YYYY0101_YYYY1231_eu_epsg.3035_v20231127 0.001 50\n",
      "clm_lst_mod11a2.daytime_p95_1km_s0..0cm_YYYY_v1.2 0.002 145\n",
      "swir1_glad.landsat.ard2.seasconv.m.yearly_p75_30m_s_YYYY0101_YYYY1231_eu_epsg.3035_v20231127 0.001 50\n",
      "wv_mcd19a2v061.seasconv.sd.yearly_p25_1km_s_YYYY0101_YYYY1231_go_epsg.4326_v20230619 0.0 2\n",
      "ndti_glad.landast.ard2.seasconv.m.yearly_p50_30m_s_YYYY0101_YYYY1231_eu_epsg.3035_v20231127 0.001 50\n",
      "green_glad.landsat.ard2.seasconv.m.yearly_p50_30m_s_YYYY0101_YYYY1231_eu_epsg.3035_v20231127 0.001 50\n",
      "bare.soil_mcd43a4.fc_std_500m_s_YYYY0101_YYYY1231_go_epsg.4326_v20240616 0.003 313\n",
      "swir2_glad.landsat.ard2.seasconv.m.yearly_p50_30m_s_YYYY0101_YYYY1231_eu_epsg.3035_v20231127 0.001 50\n",
      "red_glad.landsat.ard2.seasconv.m.yearly_p50_30m_s_YYYY0101_YYYY1231_eu_epsg.3035_v20231127 0.001 50\n",
      "nir_glad.landsat.ard2.seasconv.m.yearly_p75_30m_s_YYYY0101_YYYY1231_eu_epsg.3035_v20231127 0.001 50\n",
      "clm_lst_mod11a2.daytime_p50_1km_s0..0cm_YYYY_v1.2 0.002 145\n",
      "nir_glad.landsat.ard2.seasconv.m.yearly_p50_30m_s_YYYY0101_YYYY1231_eu_epsg.3035_v20231127 0.001 50\n",
      "bare.soil_mcd43a4.fc_mx_500m_s_YYYY0101_YYYY1231_go_epsg.4326_v20240616 0.002 209\n",
      "ndvi_glad.landast.ard2.seasconv.m.yearly_p75_30m_s_YYYY0101_YYYY1231_eu_epsg.3035_v20231127 0.001 50\n",
      "evi_glad.landsat.ard2.seasconv_m_30m_s_YYYY0101_YYYY0228_eu_epsg.3035_v20231127 0.001 50\n",
      "lithology.83.lithology_egdi.1m_c_250m_s_20000101_20221231_eu_epsg.3035_v20240530 0.0 33\n",
      "lithology.12.lithology_egdi.1m_c_250m_s_20000101_20221231_eu_epsg.3035_v20240530 0.0 33\n",
      "max.curv.bareearth_ensemble_m_120m_s_20000101_20221231_eu_epsg.3035_v20240501 0.0 1\n",
      "lithology.54.lithology_egdi.1m_c_250m_s_20000101_20221231_eu_epsg.3035_v20240530 0.0 33\n",
      "neg.openess.bareearth_ensemble_m_120m_s_20000101_20221231_eu_epsg.3035_v20240501 0.0 1\n",
      "CHELSA_sfcWind_max_1981-2010_V.2.1 0.0 17\n",
      "lithology.98.lithology_egdi.1m_c_250m_s_20000101_20221231_eu_epsg.3035_v20240530 0.0 33\n",
      "lithology.72.lithology_egdi.1m_c_250m_s_20000101_20221231_eu_epsg.3035_v20240530 0.0 33\n",
      "lithology.26.lithology_egdi.1m_c_250m_s_20000101_20221231_eu_epsg.3035_v20240530 0.0 33\n",
      "pos.openess.bareearth_ensemble_m_960m_s_20000101_20221231_eu_epsg.3035_v20240501 0.0 1\n",
      "slope.bareearth_ensemble_m_30m_s_20000101_20221231_eu_epsg.3035_v20240501 0.0 1\n",
      "lithology.60.lithology_egdi.1m_c_250m_s_20000101_20221231_eu_epsg.3035_v20240530 0.0 33\n",
      "lithology.66.lithology_egdi.1m_c_250m_s_20000101_20221231_eu_epsg.3035_v20240530 0.0 33\n",
      "CHELSA_cmi_max_1981-2010_V.2.1 0.0 17\n",
      "lithology.44.lithology_egdi.1m_c_250m_s_20000101_20221231_eu_epsg.3035_v20240530 0.0 33\n",
      "lithology.52.lithology_egdi.1m_c_250m_s_20000101_20221231_eu_epsg.3035_v20240530 0.0 33\n",
      "lithology.73.lithology_egdi.1m_c_250m_s_20000101_20221231_eu_epsg.3035_v20240530 0.0 33\n",
      "lithology.40.lithology_egdi.1m_c_250m_s_20000101_20221231_eu_epsg.3035_v20240530 0.0 33\n",
      "lithology.94.lithology_egdi.1m_c_250m_s_20000101_20221231_eu_epsg.3035_v20240530 0.0 33\n",
      "lithology.30.lithology_egdi.1m_c_250m_s_20000101_20221231_eu_epsg.3035_v20240530 0.0 33\n",
      "lithology.57.lithology_egdi.1m_c_250m_s_20000101_20221231_eu_epsg.3035_v20240530 0.0 33\n",
      "lithology.92.lithology_egdi.1m_c_250m_s_20000101_20221231_eu_epsg.3035_v20240530 0.0 33\n",
      "lithology.7.lithology_egdi.1m_c_250m_s_20000101_20221231_eu_epsg.3035_v20240530 0.0 33\n",
      "lithology.15.lithology_egdi.1m_c_250m_s_20000101_20221231_eu_epsg.3035_v20240530 0.0 33\n",
      "lithology.87.lithology_egdi.1m_c_250m_s_20000101_20221231_eu_epsg.3035_v20240530 0.0 33\n",
      "lithology.39.lithology_egdi.1m_c_250m_s_20000101_20221231_eu_epsg.3035_v20240530 0.0 33\n",
      "geomorphon.bareearth_ensemble_m_960m_s_20000101_20221231eu_epsg.3035_v20240501 0.0 1\n",
      "soil.moisture_s1.clms.qr.3.p0.5_m_1km_20140101_20241231_eu_epsg3035_v20250211 0.0 17\n",
      "geomorphon.bareearth_ensemble_m_240m_s_20000101_20221231_eu_epsg.3035_v20240501 0.0 1\n",
      "dtm.bareearth_ensemble_p10_480m_s_20000101_20221231_eu_epsg.3035_v20240424 0.0 1\n",
      "ndvi_glad.landsat.ard2.seasconv.yearly.m.theilslopes_m_30m_s_20000101_20221231_eu_epsg.3035_v20231218 0.001 51\n",
      "lithology.82.lithology_egdi.1m_c_250m_s_20000101_20221231_eu_epsg.3035_v20240530 0.0 33\n",
      "ls.factor.bareearth_ensemble_m_960m_s_20000101_20221231_eu_epsg.3035_v20240501 0.0 1\n",
      "lithology.119.lithology_egdi.1m_c_250m_s_20000101_20221231_eu_epsg.3035_v20240530 0.0 33\n",
      "lithology.16.lithology_egdi.1m_c_250m_s_20000101_20221231_eu_epsg.3035_v20240530 0.0 33\n",
      "lithology.6.lithology_egdi.1m_c_250m_s_20000101_20221231_eu_epsg.3035_v20240530 0.0 33\n",
      "lithology.17.lithology_egdi.1m_c_250m_s_20000101_20221231_eu_epsg.3035_v20240530 0.0 33\n",
      "lithology.106.lithology_egdi.1m_c_250m_s_20000101_20221231_eu_epsg.3035_v20240530 0.0 33\n",
      "CHELSA_swb_1981-2010_V.2.1 0.0 38\n",
      "max.curv.bareearth_ensemble_m_60m_s_20000101_20221231_eu_epsg.3035_v20240501 0.0 1\n",
      "backscatter.vh_s1gbm_m_30m_s_20160101_20171231_eu_epsg.3035.v20240613 0.001 50\n",
      "lithology.113.lithology_egdi.1m_c_250m_s_20000101_20221231_eu_epsg.3035_v20240530 0.0 33\n",
      "lithology.75.lithology_egdi.1m_c_250m_s_20000101_20221231_eu_epsg.3035_v20240530 0.0 33\n",
      "lithology.21.lithology_egdi.1m_c_250m_s_20000101_20221231_eu_epsg.3035_v20240530 0.0 33\n",
      "lithology.61.lithology_egdi.1m_c_250m_s_20000101_20221231_eu_epsg.3035_v20240530 0.0 33\n",
      "CHELSA_pet_penman_range_1981-2010_V.2.1 0.0 17\n",
      "ndti.min.slopes_glad.landsat.ard2.seasconv.yearly.min.theilslopes_m_30m_s_20000101_20221231_eu_epsg.3035_v20231218 0.001 50\n",
      "lithology.10.lithology_egdi.1m_c_250m_s_20000101_20221231_eu_epsg.3035_v20240530 0.0 33\n",
      "lithology.79.lithology_egdi.1m_c_250m_s_20000101_20221231_eu_epsg.3035_v20240530 0.0 33\n",
      "lithology.43.lithology_egdi.1m_c_250m_s_20000101_20221231_eu_epsg.3035_v20240530 0.0 33\n",
      "pos.openess.bareearth_ensemble_m_60m_s_20000101_20221231_eu_epsg.3035_v20240501 0.0 1\n",
      "lithology.70.lithology_egdi.1m_c_250m_s_20000101_20221231_eu_epsg.3035_v20240530 0.0 33\n",
      "max.curv.bareearth_ensemble_m_240m_s_20000101_20221231_eu_epsg.3035_v20240501 0.0 1\n",
      "lithology.109.lithology_egdi.1m_c_250m_s_20000101_20221231_eu_epsg.3035_v20240530 0.0 33\n",
      "lithology.42.lithology_egdi.1m_c_250m_s_20000101_20221231_eu_epsg.3035_v20240530 0.0 33\n",
      "CHELSA_pet_penman_mean_1981-2010_V.2.1 0.0 17\n",
      "soil.moisture_s1.clms.qr.1.p0.95_m_1km_20140101_20241231_eu_epsg3035_v20250211 0.0 17\n",
      "lithology.80.lithology_egdi.1m_c_250m_s_20000101_20221231_eu_epsg.3035_v20240530 0.0 33\n",
      "lithology.25.lithology_egdi.1m_c_250m_s_20000101_20221231_eu_epsg.3035_v20240530 0.0 33\n",
      "lithology.22.lithology_egdi.1m_c_250m_s_20000101_20221231_eu_epsg.3035_v20240530 0.0 33\n",
      "max.curv.bareearth_ensemble_m_30m_s_20000101_20221231_eu_epsg.3035_v20240501 0.0 1\n",
      "ndwi.gao_glad.landsat.ard2.seasconv.longterm_p25_30m_s_20000101_20221231_eu_epsg.3035_v20231218 0.002 225\n",
      "lithology.20.lithology_egdi.1m_c_250m_s_20000101_20221231_eu_epsg.3035_v20240530 0.0 33\n",
      "lithology.95.lithology_egdi.1m_c_250m_s_20000101_20221231_eu_epsg.3035_v20240530 0.0 33\n",
      "lithology.88.lithology_egdi.1m_c_250m_s_20000101_20221231_eu_epsg.3035_v20240530 0.0 33\n",
      "lithology.123.lithology_egdi.1m_c_250m_s_20000101_20221231_eu_epsg.3035_v20240530 0.0 33\n",
      "lithology.69.lithology_egdi.1m_c_250m_s_20000101_20221231_eu_epsg.3035_v20240530 0.0 33\n",
      "spec.catch.area.factor.bareearth_ensemble_m_240m_s_20000101_20221231_eu_epsg.3035_v20240501 0.0 1\n",
      "soil.moisture_s1.clms.qr.3.p0.95_m_1km_20140101_20241231_eu_epsg3035_v20250211 0.0 17\n",
      "lithology.62.lithology_egdi.1m_c_250m_s_20000101_20221231_eu_epsg.3035_v20240530 0.0 33\n",
      "lithology.11.lithology_egdi.1m_c_250m_s_20000101_20221231_eu_epsg.3035_v20240530 0.0 33\n",
      "CHELSA_sfcWind_mean_1981-2010_V.2.1 0.0 17\n",
      "lithology.71.lithology_egdi.1m_c_250m_s_20000101_20221231_eu_epsg.3035_v20240530 0.0 33\n",
      "lithology.23.lithology_egdi.1m_c_250m_s_20000101_20221231_eu_epsg.3035_v20240530 0.0 33\n",
      "palsar_hv_2015_eu 0.01 985\n",
      "soil.moisture_s1.clms.qr.1.p0.05_m_1km_20140101_20241231_eu_epsg3035_v20250211 0.0 17\n",
      "lithology.107.lithology_egdi.1m_c_250m_s_20000101_20221231_eu_epsg.3035_v20240530 0.0 33\n",
      "lithology.68.lithology_egdi.1m_c_250m_s_20000101_20221231_eu_epsg.3035_v20240530 0.0 33\n",
      "lithology.58.lithology_egdi.1m_c_250m_s_20000101_20221231_eu_epsg.3035_v20240530 0.0 33\n",
      "min.curv.bareearth_ensemble_m_960m_s_20000101_20221231_eu_epsg.3035_v20240501 0.0 1\n",
      "spec.catch.area.factor.bareearth_ensemble_m_960m_s_20000101_20221231_eu_epsg.3035_v20240501 0.0 1\n",
      "lithology.118.lithology_egdi.1m_c_250m_s_20000101_20221231_eu_epsg.3035_v20240530 0.0 33\n",
      "lithology.99.lithology_egdi.1m_c_250m_s_20000101_20221231_eu_epsg.3035_v20240530 0.0 33\n",
      "lithology.29.lithology_egdi.1m_c_250m_s_20000101_20221231_eu_epsg.3035_v20240530 0.0 33\n",
      "CHELSA_gdd5_1981-2010_V.2.1 0.0 16\n",
      "soil.moisture_s1.clms.qr.1.p0.5_m_1km_20140101_20241231_eu_epsg3035_v20250211 0.0 17\n",
      "lithology.116.lithology_egdi.1m_c_250m_s_20000101_20221231_eu_epsg.3035_v20240530 0.0 33\n",
      "soil.moisture_s1.clms.qr.3.p0.05_m_1km_20140101_20241231_eu_epsg3035_v20250211 0.0 17\n",
      "soil.moisture_s1.clms.qr.4.p0.05_m_1km_20140101_20241231_eu_epsg3035_v20250211 0.0 17\n",
      "CHELSA_gst_1981-2010_V.2.1 0.002 231\n",
      "lithology.4.lithology_egdi.1m_c_250m_s_20000101_20221231_eu_epsg.3035_v20240530 0.0 33\n",
      "lithology.121.lithology_egdi.1m_c_250m_s_20000101_20221231_eu_epsg.3035_v20240530 0.0 33\n",
      "lithology.47.lithology_egdi.1m_c_250m_s_20000101_20221231_eu_epsg.3035_v20240530 0.0 33\n",
      "twi.bareearth_ensemble_m_240m_s_20000101_20221231_eu_epsg.3035_v20240501 0.0 1\n",
      "lithology.28.lithology_egdi.1m_c_250m_s_20000101_20221231_eu_epsg.3035_v20240530 0.0 33\n",
      "min.curv.bareearth_ensemble_m_120m_s_20000101_20221231_eu_epsg.3035_v20240501 0.0 1\n",
      "pos.openess.bareearth_ensemble_m_480m_s_20000101_20221231_eu_epsg.3035_v20240501 0.0 1\n",
      "lithology.51.lithology_egdi.1m_c_250m_s_20000101_20221231_eu_epsg.3035_v20240530 0.0 33\n",
      "CHELSA_sfcWind_min_1981-2010_V.2.1 0.0 17\n",
      "lithology.101.lithology_egdi.1m_c_250m_s_20000101_20221231_eu_epsg.3035_v20240530 0.0 33\n",
      "CHELSA_pet_penman_max_1981-2010_V.2.1 0.0 17\n",
      "lithology.74.lithology_egdi.1m_c_250m_s_20000101_20221231_eu_epsg.3035_v20240530 0.0 33\n",
      "lithology.81.lithology_egdi.1m_c_250m_s_20000101_20221231_eu_epsg.3035_v20240530 0.0 33\n",
      "CHELSA_cmi_range_1981-2010_V.2.1 0.0 17\n",
      "lithology.86.lithology_egdi.1m_c_250m_s_20000101_20221231_eu_epsg.3035_v20240530 0.0 33\n",
      "neg.openess.bareearth_ensemble_m_960m_s_20000101_20221231_eu_epsg.3035_v20240501 0.0 1\n",
      "lithology.34.lithology_egdi.1m_c_250m_s_20000101_20221231_eu_epsg.3035_v20240530 0.0 33\n",
      "CHELSA_gdd10_1981-2010_V.2.1 0.006 523\n",
      "lithology.55.lithology_egdi.1m_c_250m_s_20000101_20221231_eu_epsg.3035_v20240530 0.0 33\n",
      "min.curv.bareearth_ensemble_m_240m_s_20000101_20221231_eu_epsg.3035_v20240501 0.0 1\n",
      "neg.openess.bareearth_ensemble_m_60m_s_20000101_20221231_eu_epsg.3035_v20240501 0.0 1\n",
      "lithology.117.lithology_egdi.1m_c_250m_s_20000101_20221231_eu_epsg.3035_v20240530 0.0 33\n",
      "lithology.46.lithology_egdi.1m_c_250m_s_20000101_20221231_eu_epsg.3035_v20240530 0.0 33\n",
      "lithology.65.lithology_egdi.1m_c_250m_s_20000101_20221231_eu_epsg.3035_v20240530 0.0 33\n",
      "lithology.37.lithology_egdi.1m_c_250m_s_20000101_20221231_eu_epsg.3035_v20240530 0.0 33\n",
      "lithology.14.lithology_egdi.1m_c_250m_s_20000101_20221231_eu_epsg.3035_v20240530 0.0 33\n",
      "lithology.18.lithology_egdi.1m_c_250m_s_20000101_20221231_eu_epsg.3035_v20240530 0.0 33\n",
      "pos.openess.bareearth_ensemble_m_30m_s_20000101_20221231_eu_epsg.3035_v20240424 0.0 1\n",
      "soil.moisture_s1.clms.qr.4.p0.5_m_1km_20140101_20241231_eu_epsg3035_v20250211 0.0 17\n",
      "lithology.122.lithology_egdi.1m_c_250m_s_20000101_20221231_eu_epsg.3035_v20240530 0.0 33\n",
      "neg.openess.bareearth_ensemble_m_240m_s_20000101_20221231_eu_epsg.3035_v20240501 0.0 1\n",
      "lithology.24.lithology_egdi.1m_c_250m_s_20000101_20221231_eu_epsg.3035_v20240530 0.0 33\n",
      "lithology.103.lithology_egdi.1m_c_250m_s_20000101_20221231_eu_epsg.3035_v20240530 0.0 33\n",
      "lithology.32.lithology_egdi.1m_c_250m_s_20000101_20221231_eu_epsg.3035_v20240530 0.0 33\n",
      "soilsuite_mask 0.0 29\n",
      "lithology.111.lithology_egdi.1m_c_250m_s_20000101_20221231_eu_epsg.3035_v20240530 0.0 33\n",
      "lithology.104.lithology_egdi.1m_c_250m_s_20000101_20221231_eu_epsg.3035_v20240530 0.0 33\n",
      "backscatter.vv_s1gbm_m_30m_s_20160101_20171231_eu_epsg.3035.v20240613 0.001 50\n",
      "lithology.64.lithology_egdi.1m_c_250m_s_20000101_20221231_eu_epsg.3035_v20240530 0.0 33\n",
      "lithology.84.lithology_egdi.1m_c_250m_s_20000101_20221231_eu_epsg.3035_v20240530 0.0 33\n",
      "palsar_hh_2015_eu 0.012 1117\n",
      "dtm.bareearth_ensemble_p10_960m_s_20000101_20221231_eu_epsg.3035_v20240424 0.0 1\n",
      "soil.moisture_s1.clms.qr.2.p0.05_m_1km_20140101_20241231_eu_epsg3035_v20250211 0.0 17\n",
      "lithology.90.lithology_egdi.1m_c_250m_s_20000101_20221231_eu_epsg.3035_v20240530 0.0 33\n",
      "lithology.9.lithology_egdi.1m_c_250m_s_20000101_20221231_eu_epsg.3035_v20240530 0.0 33\n",
      "lithology.45.lithology_egdi.1m_c_250m_s_20000101_20221231_eu_epsg.3035_v20240530 0.0 33\n",
      "max.curv.bareearth_ensemble_m_960m_s_20000101_20221231_eu_epsg.3035_v20240501 0.0 1\n",
      "lithology.2.lithology_egdi.1m_c_250m_s_20000101_20221231_eu_epsg.3035_v20240530 0.0 33\n",
      "geomorphon.bareearth_ensemble_m_120m_s_20000101_20221231_eu_epsg.3035_v20240501 0.0 1\n",
      "lithology.108.lithology_egdi.1m_c_250m_s_20000101_20221231_eu_epsg.3035_v20240530 0.0 33\n",
      "lithology.63.lithology_egdi.1m_c_250m_s_20000101_20221231_eu_epsg.3035_v20240530 0.0 33\n",
      "lithology.1.lithology_egdi.1m_c_250m_s_20000101_20221231_eu_epsg.3035_v20240530 0.0 33\n",
      "lithology.102.lithology_egdi.1m_c_250m_s_20000101_20221231_eu_epsg.3035_v20240530 0.0 33\n",
      "lithology.91.lithology_egdi.1m_c_250m_s_20000101_20221231_eu_epsg.3035_v20240530 0.0 33\n",
      "lithology.41.lithology_egdi.1m_c_250m_s_20000101_20221231_eu_epsg.3035_v20240530 0.0 33\n",
      "min.curv.bareearth_ensemble_m_60m_s_20000101_20221231_eu_epsg.3035_v20240501 0.0 1\n",
      "lithology.33.lithology_egdi.1m_c_250m_s_20000101_20221231_eu_epsg.3035_v20240530 0.0 33\n",
      "dtm.bareearth_ensemble_p10_30m_s_20000101_20221231_eu_epsg.3035_v20240424 0.0 1\n",
      "lithology.38.lithology_egdi.1m_c_250m_s_20000101_20221231_eu_epsg.3035_v20240530 0.0 33\n",
      "max.curv.bareearth_ensemble_m_480m_s_20000101_20221231_eu_epsg.3035_v20240501 0.0 1\n",
      "lithology.115.lithology_egdi.1m_c_250m_s_20000101_20221231_eu_epsg.3035_v20240530 0.0 33\n",
      "lithology.59.lithology_egdi.1m_c_250m_s_20000101_20221231_eu_epsg.3035_v20240530 0.0 33\n",
      "bsf_glad.landsat.ard2.seasconv.yearly.m.theilslopes_m_30m_s_20000101_20221231_eu_epsg.3035_v20231218 0.001 50\n",
      "lithology.100.lithology_egdi.1m_c_250m_s_20000101_20221231_eu_epsg.3035_v20240530 0.0 33\n",
      "dtm.bareearth_ensemble_p10_120m_s_20000101_20221231_eu_epsg.3035_v20240424 0.0 1\n",
      "neg.openess.bareearth_ensemble_m_30m_s_20000101_20221231_eu_epsg.3035_v20240424 0.0 1\n",
      "lithology.27.lithology_egdi.1m_c_250m_s_20000101_20221231_eu_epsg.3035_v20240530 0.0 33\n",
      "lithology.8.lithology_egdi.1m_c_250m_s_20000101_20221231_eu_epsg.3035_v20240530 0.0 33\n",
      "lithology.110.lithology_egdi.1m_c_250m_s_20000101_20221231_eu_epsg.3035_v20240530 0.0 33\n",
      "soil.moisture_s1.clms.qr.2.p0.5_m_1km_20140101_20241231_eu_epsg3035_v20250211 0.0 17\n",
      "lithology.35.lithology_egdi.1m_c_250m_s_20000101_20221231_eu_epsg.3035_v20240530 0.0 33\n",
      "lithology.3.lithology_egdi.1m_c_250m_s_20000101_20221231_eu_epsg.3035_v20240530 0.0 33\n",
      "soil.moisture_s1.clms.qr.4.p0.95_m_1km_20140101_20241231_eu_epsg3035_v20250211 0.0 17\n",
      "lithology.13.lithology_egdi.1m_c_250m_s_20000101_20221231_eu_epsg.3035_v20240530 0.0 33\n",
      "slope.bareearth_ensemble_m_240m_s_20000101_20221231_eu_epsg.3035_v20240501 0.0 1\n",
      "ls.factor.bareearth_ensemble_m_240m_s_20000101_20221231_eu_epsg.3035_v20240501 0.0 1\n",
      "lithology.77.lithology_egdi.1m_c_250m_s_20000101_20221231_eu_epsg.3035_v20240530 0.0 33\n",
      "min.curv.bareearth_ensemble_m_480m_s_20000101_20221231_eu_epsg.3035_v20240501 0.0 1\n",
      "lithology.48.lithology_egdi.1m_c_250m_s_20000101_20221231_eu_epsg.3035_v20240530 0.0 33\n",
      "geomorphon.bareearth_ensemble_m_480m_s_20000101_20221231_eu_epsg.3035_v20240501 0.0 1\n",
      "pos.openess.bareearth_ensemble_m_240m_s_20000101_20221231_eu_epsg.3035_v20240501 0.0 1\n",
      "CHELSA_cmi_min_1981-2010_V.2.1 0.0 17\n",
      "lithology.31.lithology_egdi.1m_c_250m_s_20000101_20221231_eu_epsg.3035_v20240530 0.0 33\n",
      "lithology.76.lithology_egdi.1m_c_250m_s_20000101_20221231_eu_epsg.3035_v20240530 0.0 33\n",
      "slope.bareearth_ensemble_m_60m_s_20000101_20221231_eu_epsg.3035_v20240501 0.0 1\n",
      "slope.bareearth_ensemble_m_960m_s_20000101_20221231_eu_epsg.3035_v20240501 0.0 1\n",
      "ndwi.gao_glad.landsat.ard2.seasconv.longterm_p50_30m_s_20000101_20221231_eu_epsg.3035_v20231218 0.002 226\n",
      "dtm.bareearth_ensemble_p10_60m_s_20000101_20221231_eu_epsg.3035_v20240424 0.0 1\n",
      "CHELSA_sfcWind_range_1981-2010_V.2.1 0.0 17\n",
      "dtm.bareearth_ensemble_p10_240m_s_20000101_20221231_eu_epsg.3035_v20240424 0.0 1\n",
      "slope.bareearth_ensemble_m_480m_s_20000101_20221231_eu_epsg.3035_v20240501 0.0 1\n",
      "lithology.112.lithology_egdi.1m_c_250m_s_20000101_20221231_eu_epsg.3035_v20240530 0.0 33\n",
      "lithology.50.lithology_egdi.1m_c_250m_s_20000101_20221231_eu_epsg.3035_v20240530 0.0 33\n",
      "lithology.85.lithology_egdi.1m_c_250m_s_20000101_20221231_eu_epsg.3035_v20240530 0.0 33\n",
      "lithology.97.lithology_egdi.1m_c_250m_s_20000101_20221231_eu_epsg.3035_v20240530 0.0 33\n",
      "CHELSA_ai_1981-2010_V.2.1 0.001 83\n",
      "ndwi_glad.landsat.ard2.seasconv.yearly.m.theilslopes_m_30m_s_20000101_20221231_eu_epsg.3035_v20231218 0.001 51\n",
      "lithology.36.lithology_egdi.1m_c_250m_s_20000101_20221231_eu_epsg.3035_v20240530 0.0 33\n",
      "twi.bareearth_ensemble_m_480m_s_20000101_20221231_eu_epsg.3035_v20240501 0.0 1\n",
      "soil.moisture_s1.clms.qr.2.p0.95_m_1km_20140101_20241231_eu_epsg3035_v20250211 0.0 17\n",
      "lithology.96.lithology_egdi.1m_c_250m_s_20000101_20221231_eu_epsg.3035_v20240530 0.0 33\n",
      "lithology.5.lithology_egdi.1m_c_250m_s_20000101_20221231_eu_epsg.3035_v20240530 0.0 33\n",
      "pos.openess.bareearth_ensemble_m_120m_s_20000101_20221231_eu_epsg.3035_v20240501 0.0 1\n",
      "CHELSA_cmi_mean_1981-2010_V.2.1 0.0 17\n",
      "lithology.78.lithology_egdi.1m_c_250m_s_20000101_20221231_eu_epsg.3035_v20240530 0.0 33\n",
      "neg.openess.bareearth_ensemble_m_480m_s_20000101_20221231_eu_epsg.3035_v20240501 0.0 1\n",
      "lithology.89.lithology_egdi.1m_c_250m_s_20000101_20221231_eu_epsg.3035_v20240530 0.0 33\n",
      "lithology.120.lithology_egdi.1m_c_250m_s_20000101_20221231_eu_epsg.3035_v20240530 0.0 33\n",
      "lithology.56.lithology_egdi.1m_c_250m_s_20000101_20221231_eu_epsg.3035_v20240530 0.0 33\n",
      "spec.catch.area.factor.bareearth_ensemble_m_480m_s_20000101_20221231_eu_epsg.3035_v20240501 0.0 1\n",
      "slope.bareearth_ensemble_m_120m_s_20000101_20221231_eu_epsg.3035_v20240501 0.0 1\n",
      "twi.bareearth_ensemble_m_960m_s_20000101_20221231_eu_epsg.3035_v20240501 0.0 1\n",
      "lithology.114.lithology_egdi.1m_c_250m_s_20000101_20221231_eu_epsg.3035_v20240530 0.0 33\n",
      "ndwi.gao_glad.landsat.ard2.seasconv.longterm_p75_30m_s_20000101_20221231_eu_epsg.3035_v20231218 0.002 226\n",
      "lithology.67.lithology_egdi.1m_c_250m_s_20000101_20221231_eu_epsg.3035_v20240530 0.0 33\n",
      "lithology.19.lithology_egdi.1m_c_250m_s_20000101_20221231_eu_epsg.3035_v20240530 0.0 33\n",
      "lithology.49.lithology_egdi.1m_c_250m_s_20000101_20221231_eu_epsg.3035_v20240530 0.0 33\n",
      "CHELSA_pet_penman_min_1981-2010_V.2.1 0.0 17\n",
      "CHELSA_gsp_1981-2010_V.2.1 0.002 231\n",
      "lithology.93.lithology_egdi.1m_c_250m_s_20000101_20221231_eu_epsg.3035_v20240530 0.0 33\n",
      "lithology.53.lithology_egdi.1m_c_250m_s_20000101_20221231_eu_epsg.3035_v20240530 0.0 33\n",
      "min.curv.bareearth_ensemble_m_30m_s_20000101_20221231_eu_epsg.3035_v20240424 0.0 1\n",
      "lithology.105.lithology_egdi.1m_c_250m_s_20000101_20221231_eu_epsg.3035_v20240530 0.0 33\n",
      "ls.factor.bareearth_ensemble_m_480m_s_20000101_20221231_eu_epsg.3035_v20240501 0.0 1\n"
     ]
    }
   ],
   "source": [
    "fix_col = []\n",
    "\n",
    "for icov in covs:\n",
    "    inum = dff[icov].isna().sum()\n",
    "    irto = round(inum / len(dff), 3)\n",
    "    \n",
    "    if inum > 0:\n",
    "        print(icov, irto, inum)\n",
    "        fix_col.append(icov) \n",
    "\n",
    "dff[fix_col] = dff[fix_col].fillna(dff[fix_col].mean())"
   ]
  },
  {
   "cell_type": "code",
   "execution_count": 16,
   "id": "cf5be026-d735-48c1-bdf6-4761686c83f9",
   "metadata": {
    "tags": []
   },
   "outputs": [],
   "source": [
    "# double check the nan\n",
    "for icov in covs:\n",
    "    inum = dff[icov].isna().sum()\n",
    "    irto = round(inum / len(dff), 3)\n",
    "    \n",
    "    if inum > 0:\n",
    "        print(icov, irto, inum)\n",
    "        fix_col.append(icov) "
   ]
  },
  {
   "cell_type": "code",
   "execution_count": 17,
   "id": "125072ad-b7c8-4a6c-b32e-301bdd2b3d7f",
   "metadata": {
    "tags": []
   },
   "outputs": [
    {
     "name": "stdout",
     "output_type": "stream",
     "text": [
      "(94248, 420)\n"
     ]
    }
   ],
   "source": [
    "dummies = pd.get_dummies(dff['soilsuite_mask'], prefix='soilsuite')\n",
    "dummies = dummies.rename(columns={'soilsuite_1.0':'soilsuite_bare', 'soilsuite_2.0':'soilsuite_veg','soilsuite_3.0':'soilsuite_other'})\n",
    "dff = pd.concat([dff, dummies], axis=1)\n",
    "dff = dff.drop(columns=['soilsuite_mask'])\n",
    "print(dff.shape)"
   ]
  },
  {
   "cell_type": "markdown",
   "id": "f985213a-3586-4d64-8d1e-90c300ae6d63",
   "metadata": {},
   "source": [
    "## check duplicates"
   ]
  },
  {
   "cell_type": "code",
   "execution_count": 18,
   "id": "8282d5c3-2ee6-4d7f-b593-d8856d2788bd",
   "metadata": {
    "tags": []
   },
   "outputs": [
    {
     "data": {
      "text/html": [
       "<div>\n",
       "<style scoped>\n",
       "    .dataframe tbody tr th:only-of-type {\n",
       "        vertical-align: middle;\n",
       "    }\n",
       "\n",
       "    .dataframe tbody tr th {\n",
       "        vertical-align: top;\n",
       "    }\n",
       "\n",
       "    .dataframe thead th {\n",
       "        text-align: right;\n",
       "    }\n",
       "</style>\n",
       "<table border=\"1\" class=\"dataframe\">\n",
       "  <thead>\n",
       "    <tr style=\"text-align: right;\">\n",
       "      <th></th>\n",
       "      <th>time</th>\n",
       "      <th>lat</th>\n",
       "      <th>lon</th>\n",
       "      <th>id</th>\n",
       "      <th>clay</th>\n",
       "      <th>lc_survey</th>\n",
       "      <th>ref</th>\n",
       "      <th>nuts0</th>\n",
       "      <th>ph.h2o</th>\n",
       "      <th>total.n</th>\n",
       "      <th>...</th>\n",
       "      <th>min.curv.bareearth_ensemble_m_30m_s_20000101_20221231_eu_epsg.3035_v20240424</th>\n",
       "      <th>CHELSA_bio1_1981-2010_V.2.1</th>\n",
       "      <th>lithology.105.lithology_egdi.1m_c_250m_s_20000101_20221231_eu_epsg.3035_v20240530</th>\n",
       "      <th>fapar_glad.landsat.ard2.seasconv.longterm_p25_30m_s_20000101_20221231_eu_epsg.3035_v20231218</th>\n",
       "      <th>ls.factor.bareearth_ensemble_m_480m_s_20000101_20221231_eu_epsg.3035_v20240501</th>\n",
       "      <th>type</th>\n",
       "      <th>soilsuite_bare</th>\n",
       "      <th>soilsuite_1.6080832481384277</th>\n",
       "      <th>soilsuite_veg</th>\n",
       "      <th>soilsuite_other</th>\n",
       "    </tr>\n",
       "  </thead>\n",
       "  <tbody>\n",
       "  </tbody>\n",
       "</table>\n",
       "<p>0 rows × 420 columns</p>\n",
       "</div>"
      ],
      "text/plain": [
       "Empty DataFrame\n",
       "Columns: [time, lat, lon, id, clay, lc_survey, ref, nuts0, ph.h2o, total.n, ph.cacl2, hzn_dep, soc, cropland.extent_glad.interpolate_p_30m_s_YYYY0101_YYYY1231_eu_epsg.3035_v20240604, pft.trees.nd_esa.cci.lc_pc_300m_s_YYYY0101_YYYY1231_go_epsg.4326_v20230616, ndvi_glad.landast.ard2.seasconv.m.yearly_p25_30m_s_YYYY0101_YYYY1231_eu_epsg.3035_v20231127, evi_glad.landsat.ard2.seasconv_m_30m_s_YYYY0901_YYYY1031_eu_epsg.3035_v20231127, pft.grass.nat_esa.cci.lc_pc_300m_s_YYYY0101_YYYY1231_go_epsg.4326_v20230616, pft.trees.bd_esa.cci.lc_pc_300m_s_YYYY0101_YYYY1231_go_epsg.4326_v20230616, pft.bare_esa.cci.lc_pc_300m_s_YYYY0101_YYYY1231_go_epsg.4326_v20230616, clm_lst_mod11a2.nighttime_p05_1km_s0..0cm_YYYY_v1.2, ndvi_glad.landast.ard2.seasconv.m.yearly_p50_30m_s_YYYY0101_YYYY1231_eu_epsg.3035_v20231127, evi_glad.landsat.ard2.seasconv_m_30m_s_YYYY0301_YYYY0430_eu_epsg.3035_v20231127, wv_mcd19a2v061.seasconv.m.yearly_p25_1km_s_YYYY0101_YYYY1231_go_epsg.4326_v20230619, blue_glad.landsat.ard2.seasconv.m.yearly_p50_30m_s_YYYY0101_YYYY1231_eu_epsg.3035_v20231127, swir1_glad.landsat.ard2.seasconv.m.yearly_p50_30m_s_YYYY0101_YYYY1231_eu_epsg.3035_v20231127, wv_mcd19a2v061.seasconv.m.yearly_p50_1km_s_YYYY0101_YYYY1231_go_epsg.4326_v20230619, pft.trees.be_esa.cci.lc_pc_300m_s_YYYY0101_YYYY1231_go_epsg.4326_v20230616, pft.trees.ne_esa.cci.lc_pc_300m_s_YYYY0101_YYYY1231_go_epsg.4326_v20230616, nos_glad.landsat.ard2.seasconv_m_30m_s_YYYY0101_YYYY1231_eu_epsg.3035_v20231127, bare.soil_mcd43a4.fc_m_500m_s_YYYY0101_YYYY1231_go_epsg.4326_v20240616, photosynthetic.veg_mcd43a4.fc_std_500m_s_YYYY0101_YYYY1231_go_epsg.4326_v20240616, nir_glad.landsat.ard2.seasconv.m.yearly_p25_30m_s_YYYY0101_YYYY1231_eu_epsg.3035_v20231127, evi_glad.landsat.ard2.seasconv_m_30m_s_YYYY1101_YYYY1231_eu_epsg.3035_v20231127, ndwi.gao_glad.landsat.ard2.seasconv.m.yearly_p75_30m_s_YYYY0101_YYYY1231_eu_epsg.3035_v20231218, photosynthetic.veg_mcd43a4.fc_mx_500m_s_YYYY0101_YYYY1231_go_epsg.4326_v20240616, non.photosynthetic.veg_mcd43a4.fc_std_500m_s_YYYY0101_YYYY1231_go_epsg.4326_v20240616, ndti_glad.landast.ard2.seasconv.m.yearly_p75_30m_s_YYYY0101_YYYY1231_eu_epsg.3035_v20231127, ndwi.gao_glad.landsat.ard2.seasconv.m.yearly_p25_30m_s_YYYY0101_YYYY1231_eu_epsg.3035_v20231218, evi_glad.landsat.ard2.seasconv_m_30m_s_YYYY0701_YYYY0831_eu_epsg.3035_v20231127, green_glad.landsat.ard2.seasconv.m.yearly_p75_30m_s_YYYY0101_YYYY1231_eu_epsg.3035_v20231127, clm_lst_mod11a2.daytime_p05_1km_s0..0cm_YYYY_v1.2, non.photosynthetic.veg_mcd43a4.fc_std_gf_500m_s_YYYY0101_YYYY1231_go_epsg.4326_v20250116, clm_lst_mod11a2.nighttime_p95_1km_s0..0cm_YYYY_v1.2, red_glad.landsat.ard2.seasconv.m.yearly_p25_30m_s_YYYY0101_YYYY1231_eu_epsg.3035_v20231127, pft.built_esa.cci.lc_pc_300m_s_YYYY0101_YYYY1231_go_epsg.4326_v20230616, non.photosynthetic.veg_mcd43a4.fc_mx_500m_s_YYYY0101_YYYY1231_go_epsg.4326_v20240616, ndti_glad.landast.ard2.seasconv.m.yearly_p25_30m_s_YYYY0101_YYYY1231_eu_epsg.3035_v20231127, green_glad.landsat.ard2.seasconv.m.yearly_p25_30m_s_YYYY0101_YYYY1231_eu_epsg.3035_v20231127, thermal_glad.landsat.ard2.seasconv.m.yearly_p25_30m_s_YYYY0101_YYYY1231_eu_epsg.3035_v20231127, pft.water.inland_esa.cci.lc_pc_300m_s_YYYY0101_YYYY1231_go_epsg.4326_v20230616, red_glad.landsat.ard2.seasconv.m.yearly_p75_30m_s_YYYY0101_YYYY1231_eu_epsg.3035_v20231127, ndti.min_glad.landsat.ard2.seasconv.bimonthly.min_m_30m_s_YYYY0101_YYYY1231_eu_epsg.3035_v20231218, pft.shrubs.ne_esa.cci.lc_pc_300m_s_YYYY0101_YYYY1231_go_epsg.4326_v20230616, clm_lst_mod11a2.nighttime_p50_1km_s0..0cm_YYYY_v1.2, swir2_glad.landsat.ard2.seasconv.m.yearly_p75_30m_s_YYYY0101_YYYY1231_eu_epsg.3035_v20231127, thermal_glad.landsat.ard2.seasconv.m.yearly_p50_30m_s_YYYY0101_YYYY1231_eu_epsg.3035_v20231127, wv_mcd19a2v061.seasconv.sd.yearly_p75_1km_s_YYYY0101_YYYY1231_go_epsg.4326_v20230619, evi_glad.landsat.ard2.seasconv_m_30m_s_YYYY0501_YYYY0630_eu_epsg.3035_v20231127, ndwi.gao_glad.landsat.ard2.seasconv.m.yearly_p50_30m_s_YYYY0101_YYYY1231_eu_epsg.3035_v20231218, bsf_glad.landsat.ard2.seasconv.m.yearly_sum_30m_s_YYYY0101_YYYY1231_eu_epsg.3035_v20231127, pft.grass.man_esa.cci.lc_pc_300m_s_YYYY0101_YYYY1231_go_epsg.4326_v20230616, pft.shrubs.bd_esa.cci.lc_pc_300m_s_YYYY0101_YYYY1231_go_epsg.4326_v20230616, blue_glad.landsat.ard2.seasconv.m.yearly_p25_30m_s_YYYY0101_YYYY1231_eu_epsg.3035_v20231127, thermal_glad.landsat.ard2.seasconv.m.yearly_p75_30m_s_YYYY0101_YYYY1231_eu_epsg.3035_v20231127, non.photosynthetic.veg_mcd43a4.fc_m_500m_s_YYYY0101_YYYY1231_go_epsg.4326_v20240616, cdr_glad.landsat.seasconv_m_30m_s_YYYY0101_YYYY1231_eu_epsg.3035_v20231127, wv_mcd19a2v061.seasconv.sd.yearly_sd_1km_s_YYYY0101_YYYY1231_go_epsg.4326_v20230619, photosynthetic.veg_mcd43a4.fc_m_500m_s_YYYY0101_YYYY1231_go_epsg.4326_v20240616, wv_mcd19a2v061.seasconv.sd.yearly_p50_1km_s_YYYY0101_YYYY1231_go_epsg.4326_v20230619, wv_mcd19a2v061.seasconv.m.yearly_p75_1km_s_YYYY0101_YYYY1231_go_epsg.4326_v20230619, swir1_glad.landsat.ard2.seasconv.m.yearly_p25_30m_s_YYYY0101_YYYY1231_eu_epsg.3035_v20231127, clm_accum.precipitation_chelsa.annual_m_1km_s0..0cm_YYYY_v2.1, wv_mcd19a2v061.seasconv.m.yearly_sd_1km_s_YYYY0101_YYYY1231_go_epsg.4326_v20230619, swir2_glad.landsat.ard2.seasconv.m.yearly_p25_30m_s_YYYY0101_YYYY1231_eu_epsg.3035_v20231127, blue_glad.landsat.ard2.seasconv.m.yearly_p75_30m_s_YYYY0101_YYYY1231_eu_epsg.3035_v20231127, clm_lst_mod11a2.daytime_p95_1km_s0..0cm_YYYY_v1.2, swir1_glad.landsat.ard2.seasconv.m.yearly_p75_30m_s_YYYY0101_YYYY1231_eu_epsg.3035_v20231127, wv_mcd19a2v061.seasconv.sd.yearly_p25_1km_s_YYYY0101_YYYY1231_go_epsg.4326_v20230619, ndti_glad.landast.ard2.seasconv.m.yearly_p50_30m_s_YYYY0101_YYYY1231_eu_epsg.3035_v20231127, green_glad.landsat.ard2.seasconv.m.yearly_p50_30m_s_YYYY0101_YYYY1231_eu_epsg.3035_v20231127, bare.soil_mcd43a4.fc_std_500m_s_YYYY0101_YYYY1231_go_epsg.4326_v20240616, swir2_glad.landsat.ard2.seasconv.m.yearly_p50_30m_s_YYYY0101_YYYY1231_eu_epsg.3035_v20231127, pft.shrubs.nd_esa.cci.lc_pc_300m_s_YYYY0101_YYYY1231_go_epsg.4326_v20230616, pft.water_esa.cci.lc_pc_300m_s_YYYY0101_YYYY1231_go_epsg.4326_v20230616, red_glad.landsat.ard2.seasconv.m.yearly_p50_30m_s_YYYY0101_YYYY1231_eu_epsg.3035_v20231127, nir_glad.landsat.ard2.seasconv.m.yearly_p75_30m_s_YYYY0101_YYYY1231_eu_epsg.3035_v20231127, clm_lst_mod11a2.daytime_p50_1km_s0..0cm_YYYY_v1.2, nir_glad.landsat.ard2.seasconv.m.yearly_p50_30m_s_YYYY0101_YYYY1231_eu_epsg.3035_v20231127, bare.soil_mcd43a4.fc_mx_500m_s_YYYY0101_YYYY1231_go_epsg.4326_v20240616, ndvi_glad.landast.ard2.seasconv.m.yearly_p75_30m_s_YYYY0101_YYYY1231_eu_epsg.3035_v20231127, evi_glad.landsat.ard2.seasconv_m_30m_s_YYYY0101_YYYY0228_eu_epsg.3035_v20231127, pft.snowice_esa.cci.lc_pc_300m_s_YYYY0101_YYYY1231_go_epsg.4326_v20230616, pft.shrubs.be_esa.cci.lc_pc_300m_s_YYYY0101_YYYY1231_go_epsg.4326_v20230616, lithology.83.lithology_egdi.1m_c_250m_s_20000101_20221231_eu_epsg.3035_v20240530, lithology.12.lithology_egdi.1m_c_250m_s_20000101_20221231_eu_epsg.3035_v20240530, max.curv.bareearth_ensemble_m_120m_s_20000101_20221231_eu_epsg.3035_v20240501, lithology.54.lithology_egdi.1m_c_250m_s_20000101_20221231_eu_epsg.3035_v20240530, neg.openess.bareearth_ensemble_m_120m_s_20000101_20221231_eu_epsg.3035_v20240501, CHELSA_clt_range_1981-2010_V.2.1, ...]\n",
       "Index: []\n",
       "\n",
       "[0 rows x 420 columns]"
      ]
     },
     "execution_count": 18,
     "metadata": {},
     "output_type": "execute_result"
    }
   ],
   "source": [
    "dff.loc[dff.duplicated()]"
   ]
  },
  {
   "cell_type": "markdown",
   "id": "430f595a-027d-4fbd-a94b-cae5122ece61",
   "metadata": {},
   "source": [
    "## save file"
   ]
  },
  {
   "cell_type": "code",
   "execution_count": 19,
   "id": "6130f949-ff6e-4da2-b715-0507aa634e56",
   "metadata": {
    "tags": []
   },
   "outputs": [],
   "source": [
    "dff.to_parquet('./material/soc.topsoil_organized.pq')"
   ]
  },
  {
   "cell_type": "code",
   "execution_count": 20,
   "id": "a5a7335b-4a8f-444a-a81c-704770172a71",
   "metadata": {},
   "outputs": [
    {
     "data": {
      "text/plain": [
       "lc_survey\n",
       "cropland                    39396\n",
       "woodland                    26613\n",
       "grassland                   22959\n",
       "bare land & lichens/moss     2505\n",
       "shrubland                    2049\n",
       "water areas & wetland         291\n",
       "others                        251\n",
       "artificial land               184\n",
       "Name: count, dtype: int64"
      ]
     },
     "execution_count": 20,
     "metadata": {},
     "output_type": "execute_result"
    }
   ],
   "source": [
    "dff['lc_survey'].value_counts()"
   ]
  },
  {
   "cell_type": "markdown",
   "id": "9d5f0b05-cb69-4179-b6bc-026ad776758b",
   "metadata": {},
   "source": [
    "## split data"
   ]
  },
  {
   "cell_type": "code",
   "execution_count": 36,
   "id": "4772d2b6-a33f-4755-b5eb-970f570c6008",
   "metadata": {},
   "outputs": [],
   "source": [
    "import geopandas as gpd\n",
    "eu_tile = gpd.read_file('/home/xuemeng/work_xuemeng/soc/data/000_tiles.correct_epsg.3035.gpkg')"
   ]
  },
  {
   "cell_type": "code",
   "execution_count": 37,
   "id": "c407542c-706f-4ae1-90b3-32b5dbb56895",
   "metadata": {
    "tags": []
   },
   "outputs": [
    {
     "name": "stderr",
     "output_type": "stream",
     "text": [
      "/opt/conda/lib/python3.8/site-packages/IPython/core/interactiveshell.py:3448: FutureWarning: The `op` parameter is deprecated and will be removed in a future release. Please use the `predicate` parameter instead.\n",
      "  if await self.run_code(code, result, async_=asy):\n"
     ]
    },
    {
     "name": "stdout",
     "output_type": "stream",
     "text": [
      "(94248, 421)\n",
      "(94248, 420)\n"
     ]
    }
   ],
   "source": [
    "gdf = gpd.GeoDataFrame(dff, geometry=gpd.points_from_xy(dff.lon, dff.lat))\n",
    "gdf.crs = 'EPSG:4326'\n",
    "gdf = gdf.to_crs(eu_tile.crs)\n",
    "\n",
    "joined_gdf = gpd.sjoin(gdf, eu_tile, how=\"left\", op='within')\n",
    "joined_gdf = joined_gdf.drop(columns=['geometry','index_right'])\n",
    "joined_gdf = joined_gdf.rename(columns={'id_right':'tile_id','id_left':'id'})\n",
    "print(joined_gdf.shape)\n",
    "print(dff.shape)\n",
    "joined_gdf.to_parquet('./material/soc.topsoil_organized.pq')\n"
   ]
  },
  {
   "cell_type": "code",
   "execution_count": null,
   "id": "21ab2426-e5c2-4a47-af46-c935f27be721",
   "metadata": {},
   "outputs": [],
   "source": []
  }
 ],
 "metadata": {
  "kernelspec": {
   "display_name": "Python 3 (ipykernel)",
   "language": "python",
   "name": "python3"
  },
  "language_info": {
   "codemirror_mode": {
    "name": "ipython",
    "version": 3
   },
   "file_extension": ".py",
   "mimetype": "text/x-python",
   "name": "python",
   "nbconvert_exporter": "python",
   "pygments_lexer": "ipython3",
   "version": "3.8.16"
  }
 },
 "nbformat": 4,
 "nbformat_minor": 5
}
