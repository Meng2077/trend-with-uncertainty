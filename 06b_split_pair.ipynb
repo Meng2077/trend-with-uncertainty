{
 "cells": [
  {
   "cell_type": "code",
   "execution_count": 1,
   "id": "d9d86317-21ca-40bb-9c3a-07c268abe369",
   "metadata": {
    "tags": []
   },
   "outputs": [],
   "source": [
    "version = 'v20250521'"
   ]
  },
  {
   "cell_type": "markdown",
   "id": "83dd8ddb-9ce4-4e15-a6af-43657eefa4e4",
   "metadata": {},
   "source": [
    "## read in data"
   ]
  },
  {
   "cell_type": "code",
   "execution_count": 2,
   "id": "fd62ac69-a620-4e72-a638-d5644f5102bd",
   "metadata": {
    "tags": []
   },
   "outputs": [
    {
     "name": "stdout",
     "output_type": "stream",
     "text": [
      "original pairs (30612, 12)\n"
     ]
    }
   ],
   "source": [
    "# data\n",
    "import pandas as pd\n",
    "import numpy as np\n",
    "df = pd.read_parquet(f'./material/pair_lucas.plausible_{version}.pq')\n",
    "print('original pairs', df.shape)"
   ]
  },
  {
   "cell_type": "markdown",
   "id": "c1dc8cea-e186-4e16-a2f5-8ef30c401490",
   "metadata": {},
   "source": [
    "## assign its corrsponding covariates"
   ]
  },
  {
   "cell_type": "code",
   "execution_count": 3,
   "id": "2e01a8ad-2234-496e-aef6-9762ba597696",
   "metadata": {
    "tags": []
   },
   "outputs": [
    {
     "name": "stdout",
     "output_type": "stream",
     "text": [
      "(30612, 1749)\n"
     ]
    }
   ],
   "source": [
    "cdf = pd.read_parquet(f'./material/srs_overlaid_{version}.pq')\n",
    "drop_col = ['lat_mean', 'lon_mean', 'lat_series',\n",
    "       'lon_series', 'time_series', 'soc_series', 'c/n_series',\n",
    "       'lc_survey_series', 'distance', 'lc', 'cn_std', 'trend_class',\n",
    "       'fluctuation', 'ts_slope', 'ts_intercept', 'ts_score', 'linear_ts',\n",
    "       'dist_max','lat','lon'] # only keep covariate and identifier\n",
    "cdf = cdf.drop(columns=drop_col)\n",
    "\n",
    "odf = df.merge(cdf, how='left', on = ['id','ref','nuts0'])\n",
    "print(odf.shape)"
   ]
  },
  {
   "cell_type": "markdown",
   "id": "2ed141fe-083d-4ef1-a483-816f10b44ca8",
   "metadata": {
    "tags": []
   },
   "source": [
    "## examine the overlaid features"
   ]
  },
  {
   "cell_type": "code",
   "execution_count": 4,
   "id": "6bf49af7-da94-43a7-a3f5-ddd9cbaf5e7e",
   "metadata": {
    "tags": []
   },
   "outputs": [],
   "source": [
    "crop_col = []\n",
    "for ii in odf.columns:\n",
    "    if 'cropland' in ii:\n",
    "        odf.loc[odf[ii].isna(),ii] = 0\n",
    "        odf.loc[odf[ii]>0,ii] = 100\n",
    "        crop_col.append(ii)"
   ]
  },
  {
   "cell_type": "code",
   "execution_count": 5,
   "id": "12b64c61-aeb6-45d8-8446-a0c0d2a520af",
   "metadata": {
    "tags": []
   },
   "outputs": [
    {
     "name": "stdout",
     "output_type": "stream",
     "text": [
      "(30612, 1749)\n"
     ]
    }
   ],
   "source": [
    "# remove less relevant feature\n",
    "drop_col = []\n",
    "\n",
    "for ii in odf.columns:\n",
    "    if 'evi' in ii:\n",
    "        drop_col.append(ii)\n",
    "    # if 'nos' in ii:\n",
    "    #     drop_col.append(ii)\n",
    "    # if 'cdr' in ii:\n",
    "    #     drop_col.append(ii)\n",
    "    # if 'backscatter' in ii:\n",
    "    #     drop_col.append(ii)\n",
    "    # if 'palsar' in ii:\n",
    "    #     drop_col.append(ii)\n",
    "        \n",
    "odf = odf.drop(columns=drop_col)\n",
    "print(odf.shape)"
   ]
  },
  {
   "cell_type": "code",
   "execution_count": 6,
   "id": "0a49d2fe-dd8b-497e-9997-3b31ad78ea08",
   "metadata": {
    "tags": []
   },
   "outputs": [],
   "source": [
    "## static cols\n",
    "from skmap.misc import find_files, GoogleSheet, ttprint\n",
    "# read in gsheet\n",
    "gsheet_key = '/mnt/apollo/stac/gaia-319808-913d36b5fca4.json'\n",
    "gsheet_url = 'https://docs.google.com/spreadsheets/d/1lNTpzdHBG5dirYj46iBDRJMk_YAV0Um2ovBc8v3dR9w/edit?gid=78425683#gid=78425683'\n",
    "gsheet = GoogleSheet(gsheet_key, gsheet_url, verbose=False).soc_change_snr\n",
    "sta = gsheet.loc[gsheet['type']=='common','layer_name'].values.tolist()\n",
    "\n",
    "scol = []\n",
    "for ii in sta:\n",
    "    if '{perc}' in ii:\n",
    "        if 'glad' in ii:\n",
    "            for perc in ['p25','p50','p75']:\n",
    "                scol.append(ii.replace('{perc}',perc))\n",
    "        elif 'moisture' in ii:\n",
    "            for perc in ['p0.05','p0.5','p0.95']:\n",
    "                scol.append(ii.replace('{perc}',perc))\n",
    "        elif 'CHELSA' in ii:\n",
    "            for perc in ['min','max','range','mean']:\n",
    "                scol.append(ii.replace('{perc}',perc))\n",
    "    else:\n",
    "        if ii not in drop_col:\n",
    "            scol.append(ii)"
   ]
  },
  {
   "cell_type": "code",
   "execution_count": 13,
   "id": "eb3358b6-64c6-482d-9af1-849018365d32",
   "metadata": {
    "tags": []
   },
   "outputs": [
    {
     "name": "stdout",
     "output_type": "stream",
     "text": [
      "non.photosynthetic.veg_mcd43a4.fc_m_500m_s_20000101_20001231_go_epsg.4326_v20240616 54\n",
      "non.photosynthetic.veg_mcd43a4.fc_std_500m_s_20000101_20001231_go_epsg.4326_v20240616 63\n",
      "non.photosynthetic.veg_mcd43a4.fc_std_500m_s_20010101_20011231_go_epsg.4326_v20240616 63\n",
      "non.photosynthetic.veg_mcd43a4.fc_m_500m_s_20010101_20011231_go_epsg.4326_v20240616 54\n",
      "non.photosynthetic.veg_mcd43a4.fc_m_500m_s_20020101_20021231_go_epsg.4326_v20240616 51\n",
      "non.photosynthetic.veg_mcd43a4.fc_mx_500m_s_20020101_20021231_go_epsg.4326_v20240616 51\n",
      "non.photosynthetic.veg_mcd43a4.fc_std_500m_s_20020101_20021231_go_epsg.4326_v20240616 54\n",
      "non.photosynthetic.veg_mcd43a4.fc_std_500m_s_20050101_20051231_go_epsg.4326_v20240616 54\n",
      "bare.soil_mcd43a4.fc_std_500m_s_20070101_20071231_go_epsg.4326_v20240616 51\n",
      "non.photosynthetic.veg_mcd43a4.fc_std_500m_s_20070101_20071231_go_epsg.4326_v20240616 57\n",
      "bare.soil_mcd43a4.fc_std_500m_s_20100101_20101231_go_epsg.4326_v20240616 51\n",
      "bare.soil_mcd43a4.fc_std_500m_s_20110101_20111231_go_epsg.4326_v20240616 51\n",
      "bare.soil_mcd43a4.fc_std_500m_s_20140101_20141231_go_epsg.4326_v20240616 54\n",
      "non.photosynthetic.veg_mcd43a4.fc_std_500m_s_20140101_20141231_go_epsg.4326_v20240616 51\n",
      "bare.soil_mcd43a4.fc_m_500m_s_20170101_20171231_go_epsg.4326_v20240616 69\n",
      "non.photosynthetic.veg_mcd43a4.fc_std_500m_s_20170101_20171231_go_epsg.4326_v20240616 63\n",
      "bare.soil_mcd43a4.fc_std_500m_s_20170101_20171231_go_epsg.4326_v20240616 63\n",
      "non.photosynthetic.veg_mcd43a4.fc_m_500m_s_20170101_20171231_go_epsg.4326_v20240616 51\n",
      "bare.soil_mcd43a4.fc_std_500m_s_20180101_20181231_go_epsg.4326_v20240616 66\n",
      "bare.soil_mcd43a4.fc_m_500m_s_20180101_20181231_go_epsg.4326_v20240616 66\n",
      "non.photosynthetic.veg_mcd43a4.fc_std_500m_s_20180101_20181231_go_epsg.4326_v20240616 57\n",
      "ndwi.gao_glad.landsat.ard2.seasconv.longterm_p25_30m_s_20000101_20221231_eu_epsg.3035_v20231218 72\n",
      "ndwi.gao_glad.landsat.ard2.seasconv.longterm_p50_30m_s_20000101_20221231_eu_epsg.3035_v20231218 72\n",
      "ndwi.gao_glad.landsat.ard2.seasconv.longterm_p75_30m_s_20000101_20221231_eu_epsg.3035_v20231218 72\n",
      "CHELSA_swe_1981-2010_V.2.1 17103\n",
      "palsar_hh_2015_eu 630\n",
      "palsar_hv_2015_eu 576\n"
     ]
    }
   ],
   "source": [
    "# temporal columns        \n",
    "tcol = []\n",
    "for ii in odf.columns[12::]:\n",
    "    if ii not in scol:\n",
    "        if ii not in ['lon', 'lat']:\n",
    "            if ii not in drop_col:\n",
    "                tcol.append(ii)\n",
    "            \n",
    "for ii in tcol+scol:\n",
    "    m = odf[ii].isna().sum()\n",
    "    if m > 50:\n",
    "        print(ii,m)"
   ]
  },
  {
   "cell_type": "markdown",
   "id": "3867f91c-0094-4b24-981b-65bfcfefb450",
   "metadata": {},
   "source": [
    "## feature engineer to reflect temporal process"
   ]
  },
  {
   "cell_type": "code",
   "execution_count": 14,
   "id": "c31acf56-2a63-48ed-b8a9-374279620687",
   "metadata": {
    "scrolled": true,
    "tags": []
   },
   "outputs": [],
   "source": [
    "from skmap.misc import find_files, GoogleSheet, ttprint\n",
    "from scipy.stats import linregress\n",
    "import warnings\n",
    "warnings.filterwarnings(\"ignore\")\n",
    "\n",
    "def extract_time_series_features(ts):\n",
    "    ts = np.array(ts)\n",
    "    time = np.arange(len(ts))\n",
    "    \n",
    "    mean_val = np.mean(ts)\n",
    "    std_val = np.std(ts)\n",
    "    slope, _, _, _, _ = linregress(time, ts)\n",
    "    autocorr_lag1 = np.corrcoef(ts[:-1], ts[1:])[0, 1] if len(ts) > 1 else np.nan\n",
    "    \n",
    "    return mean_val, std_val, slope, autocorr_lag1\n",
    "\n",
    "odf['start_idx'] = odf['time_pair'].apply(lambda x: int(x[0]) - 2000)\n",
    "odf['end_idx'] = odf['time_pair'].apply(lambda x: int(x[-1]) - 2000 + 1)"
   ]
  },
  {
   "cell_type": "code",
   "execution_count": 15,
   "id": "5920f942-ce30-4233-8867-f48d90d5a642",
   "metadata": {
    "tags": []
   },
   "outputs": [
    {
     "name": "stdout",
     "output_type": "stream",
     "text": [
      "[20:48:47] start\n",
      "[21:37:04] finish\n",
      "(30612, 1224)\n"
     ]
    }
   ],
   "source": [
    "ttcol = [ii for ii in tcol if '_2000' in ii]\n",
    "ttprint('start')\n",
    "for it in ttcol:\n",
    "    extract_cols = [it.replace('_2000', f'_{ival}') for ival in np.arange(2000,2024,1)]\n",
    "        \n",
    "    extract_cols = [col for col in extract_cols if col in odf.columns]\n",
    "\n",
    "    odf['ts'] = odf[extract_cols].apply(lambda x: x.values.astype(float).tolist(), axis=1)\n",
    "\n",
    "    # Now slice the time series into pre and during, row-wise\n",
    "    odf['pre_ts'] = odf.apply(lambda row: row['ts'][:row['start_idx']], axis=1)\n",
    "    odf['during_ts'] = odf.apply(lambda row: row['ts'][row['start_idx']:row['end_idx']], axis=1)\n",
    "    odf['full_ts'] = odf.apply(lambda row: row['ts'][:row['end_idx']], axis=1)\n",
    "\n",
    "    # Feature extraction using apply\n",
    "    odf[[f'{it}_pre_mean', f'{it}_pre_std', f'{it}_pre_slope', f'{it}_pre_lag1']] = odf['pre_ts'].apply(\n",
    "        lambda x: pd.Series(extract_time_series_features(x))\n",
    "    )\n",
    "\n",
    "    odf[[f'{it}_during_mean', f'{it}_during_std', f'{it}_during_slope', f'{it}_during_lag1']] = odf['during_ts'].apply(\n",
    "        lambda x: pd.Series(extract_time_series_features(x))\n",
    "    )\n",
    "\n",
    "    odf[[f'{it}_full_mean', f'{it}_full_std', f'{it}_full_slope', f'{it}_full_lag1']] = odf['full_ts'].apply(\n",
    "        lambda x: pd.Series(extract_time_series_features(x))\n",
    "    )\n",
    "\n",
    "    odf.drop(columns=extract_cols + ['pre_ts', 'during_ts', 'full_ts', 'ts'], inplace=True)\n",
    "\n",
    "ttprint('finish')\n",
    "\n",
    "odf = odf.drop(columns=['start_idx','end_idx'])\n",
    "print(odf.shape)\n",
    "odf.to_parquet('./material/pair_feature.engineered.pq')"
   ]
  },
  {
   "cell_type": "markdown",
   "id": "d0740fca-e720-435a-aecc-ca3d3ff0029f",
   "metadata": {},
   "source": [
    "## mend missing files"
   ]
  },
  {
   "cell_type": "code",
   "execution_count": 4,
   "id": "a84a8be0-9f99-473f-a033-db3c94e59f45",
   "metadata": {
    "tags": []
   },
   "outputs": [
    {
     "name": "stdout",
     "output_type": "stream",
     "text": [
      "(30612, 1224)\n"
     ]
    }
   ],
   "source": [
    "import pandas as pd\n",
    "df = pd.read_parquet('./material/pair_feature.engineered.pq')\n",
    "acol = df.columns[12:].values.tolist()\n",
    "print(df.shape)"
   ]
  },
  {
   "cell_type": "code",
   "execution_count": 5,
   "id": "70f61e94-286d-4cc5-9ca6-e77311225ba1",
   "metadata": {
    "tags": []
   },
   "outputs": [
    {
     "name": "stdout",
     "output_type": "stream",
     "text": [
      "(30612, 999)\n"
     ]
    }
   ],
   "source": [
    "# drop all lag columsn\n",
    "drop_col = [ii for ii in df.columns if '_lag1' in ii]\n",
    "df = df.drop(columns=drop_col)\n",
    "print(df.shape)"
   ]
  },
  {
   "cell_type": "code",
   "execution_count": 6,
   "id": "20bb4881-e4ba-407e-9788-daabce977ae3",
   "metadata": {
    "tags": []
   },
   "outputs": [
    {
     "name": "stdout",
     "output_type": "stream",
     "text": [
      "CHELSA_swe_1981-2010_V.2.1 17103\n",
      "(30612, 998)\n"
     ]
    }
   ],
   "source": [
    "# drop all cols with invalid value > 50\n",
    "acol = [ii for ii in acol if ii not in drop_col]\n",
    "drop_col = []\n",
    "for ii in acol:\n",
    "    m = df[ii].isna().sum()\n",
    "    if m > 650:\n",
    "        drop_col.append(ii)\n",
    "        print(ii, m)\n",
    "        \n",
    "df = df.drop(columns=drop_col)\n",
    "print(df.shape)"
   ]
  },
  {
   "cell_type": "code",
   "execution_count": 7,
   "id": "e6d0d5da-a182-4f11-9988-700b33eb7b01",
   "metadata": {
    "tags": []
   },
   "outputs": [
    {
     "name": "stdout",
     "output_type": "stream",
     "text": [
      "(30612, 998)\n"
     ]
    }
   ],
   "source": [
    "# check other columns with missing values, fill with mean\n",
    "drop_col = []\n",
    "acol = df.columns[12:].values.tolist()\n",
    "df[acol] = df[acol].fillna(df[acol].mean(numeric_only=True))\n",
    "\n",
    "for ii in acol:\n",
    "    m = df[ii].isna().sum()\n",
    "    if m > 0:\n",
    "        # print(ii, m)\n",
    "        drop_col.append(ii)\n",
    "        \n",
    "print(df.shape)"
   ]
  },
  {
   "cell_type": "markdown",
   "id": "64f1bd31-cbe7-4670-8c9a-df86b52044b3",
   "metadata": {},
   "source": [
    "## assign tile id"
   ]
  },
  {
   "cell_type": "code",
   "execution_count": 8,
   "id": "acaa5e09-e9c1-4855-9235-39227759c830",
   "metadata": {
    "tags": []
   },
   "outputs": [
    {
     "name": "stderr",
     "output_type": "stream",
     "text": [
      "ERROR 1: PROJ: proj_create_from_database: Open of /opt/conda/share/proj failed\n",
      "/opt/conda/lib/python3.8/site-packages/IPython/core/interactiveshell.py:3448: FutureWarning: The `op` parameter is deprecated and will be removed in a future release. Please use the `predicate` parameter instead.\n",
      "  if await self.run_code(code, result, async_=asy):\n"
     ]
    },
    {
     "name": "stdout",
     "output_type": "stream",
     "text": [
      "(30612, 999)\n"
     ]
    }
   ],
   "source": [
    "import os\n",
    "os.environ['USE_PYGEOS'] = '0'\n",
    "import geopandas as gpd\n",
    "eu_tile = gpd.read_file('/home/xuemeng/work_xuemeng/soc/data/000_tiles.correct_epsg.3035.gpkg')\n",
    "gdf = gpd.GeoDataFrame(df, geometry=gpd.points_from_xy(df.lon_mean, df.lon_mean))\n",
    "gdf.crs = 'EPSG:4326'\n",
    "gdf = gdf.to_crs(eu_tile.crs)\n",
    "\n",
    "joined_gdf = gpd.sjoin(gdf, eu_tile, how=\"left\", op='within')\n",
    "joined_gdf = joined_gdf.drop(columns=['geometry', 'index_right'])\n",
    "joined_gdf = joined_gdf.rename(columns={'id_right':'tile_id','id_left':'id'})\n",
    "df = joined_gdf\n",
    "print(df.shape)"
   ]
  },
  {
   "cell_type": "markdown",
   "id": "e4d0d9f9-4016-4469-8495-8acfa0c3ccf4",
   "metadata": {},
   "source": [
    "## split the train test set"
   ]
  },
  {
   "cell_type": "code",
   "execution_count": 9,
   "id": "68cd8f37-678b-4d14-8132-a1b6b0b1d891",
   "metadata": {},
   "outputs": [
    {
     "name": "stdout",
     "output_type": "stream",
     "text": [
      "1800\n"
     ]
    }
   ],
   "source": [
    "ttid = pd.read_csv(f'./material/srs.id_test_v20250521.txt', header=None)[0].tolist() \n",
    "print(len(ttid))\n",
    "ttid = [str(i) for i in ttid]"
   ]
  },
  {
   "cell_type": "code",
   "execution_count": 10,
   "id": "fb7c8956-bd26-4ca5-ae79-a98a0ca25a35",
   "metadata": {},
   "outputs": [
    {
     "name": "stdout",
     "output_type": "stream",
     "text": [
      "(5400, 1000)\n",
      "(1000, 1000)\n",
      "(24212, 1000)\n"
     ]
    }
   ],
   "source": [
    "df['soc_change'] = df['soc_pair'].str[1] - df['soc_pair'].str[0]\n",
    "\n",
    "test = df.loc[df['id'].isin(ttid)]\n",
    "print(test.shape)\n",
    "test.to_parquet(f'./material/pair_test_{version}.pq')\n",
    "other = df.loc[~df['id'].isin(ttid)]\n",
    "cal = other.sample(1000, random_state=42)\n",
    "cal.to_parquet(f'./material/pair_cal_{version}.pq')\n",
    "print(cal.shape)\n",
    "train = other.drop(cal.index)\n",
    "print(train.shape)\n",
    "train.to_parquet(f'./material/pair_train_{version}.pq')"
   ]
  },
  {
   "cell_type": "markdown",
   "id": "b21d994f-53aa-4966-82fb-a22e3ce9bcbe",
   "metadata": {},
   "source": [
    "## check distribution"
   ]
  },
  {
   "cell_type": "code",
   "execution_count": 11,
   "id": "b16c3569-d9e6-4079-8268-272c334d035b",
   "metadata": {},
   "outputs": [
    {
     "data": {
      "image/png": "[encoded data removed]",
      "text/plain": [
       "<Figure size 800x500 with 4 Axes>"
      ]
     },
     "metadata": {},
     "output_type": "display_data"
    }
   ],
   "source": [
    "import matplotlib.pyplot as plt\n",
    "fig, axes = plt.subplots(2, 2, figsize=(8, 5))\n",
    "\n",
    "axes[0, 0].hist(df[\"soc_change\"], bins=100, alpha=0.7, color=\"blue\", density=True)\n",
    "axes[0, 0].set_title(\"All data\")\n",
    "axes[0, 0].set_xlabel(\"SOC (g/kg/year)\")\n",
    "axes[0, 0].set_ylabel(\"Density\")\n",
    "\n",
    "axes[0, 1].hist(cal[\"soc_change\"], bins=100, alpha=0.7, color=\"green\", density=True)\n",
    "axes[0, 1].set_title(\"Calibration\")\n",
    "axes[0, 1].set_xlabel(\"SOC (g/kg/year)\")\n",
    "axes[0, 1].set_ylabel(\"Density\")\n",
    "\n",
    "axes[1, 0].hist(train[\"soc_change\"], bins=100, alpha=0.7, color=\"red\", density=True)\n",
    "axes[1, 0].set_title(\"Train\")\n",
    "axes[1, 0].set_xlabel(\"SOC (g/kg/year)\")\n",
    "axes[1, 0].set_ylabel(\"Density\")\n",
    "\n",
    "axes[1, 1].hist(test[\"soc_change\"], bins=100, alpha=0.7, color=\"purple\", density=True)\n",
    "axes[1, 1].set_title(\"Test\")\n",
    "axes[1, 1].set_xlabel(\"SOC (g/kg/year)\")\n",
    "axes[1, 1].set_ylabel(\"Density\")\n",
    "\n",
    "plt.tight_layout()\n",
    "plt.show()"
   ]
  },
  {
   "cell_type": "code",
   "execution_count": null,
   "id": "4a10de61-e647-4cac-a8c2-dd407296e6cc",
   "metadata": {},
   "outputs": [],
   "source": []
  }
 ],
 "metadata": {
  "kernelspec": {
   "display_name": "Python 3 (ipykernel)",
   "language": "python",
   "name": "python3"
  },
  "language_info": {
   "codemirror_mode": {
    "name": "ipython",
    "version": 3
   },
   "file_extension": ".py",
   "mimetype": "text/x-python",
   "name": "python",
   "nbconvert_exporter": "python",
   "pygments_lexer": "ipython3",
   "version": "3.8.16"
  }
 },
 "nbformat": 4,
 "nbformat_minor": 5
}
